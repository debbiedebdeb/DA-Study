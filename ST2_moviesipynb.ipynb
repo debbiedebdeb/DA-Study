{
  "cells": [
    {
      "cell_type": "markdown",
      "metadata": {
        "id": "view-in-github",
        "colab_type": "text"
      },
      "source": [
        "<a href=\"https://colab.research.google.com/github/debbiedebdeb/gg/blob/master/ST2_moviesipynb.ipynb\" target=\"_parent\"><img src=\"https://colab.research.google.com/assets/colab-badge.svg\" alt=\"Open In Colab\"/></a>"
      ]
    },
    {
      "cell_type": "markdown",
      "metadata": {
        "id": "MlRp0zT6ruxU"
      },
      "source": [
        "영화 관객수 예측 모델 만들기 "
      ]
    },
    {
      "cell_type": "code",
      "execution_count": 53,
      "metadata": {
        "id": "6d_RfwTmot4_"
      },
      "outputs": [],
      "source": [
        "import pandas as pd\n",
        "import numpy as np\n",
        "import seaborn as sns\n",
        "import matplotlib.pyplot as plt\n",
        "\n",
        "from sklearn.model_selection import train_test_split\n",
        "from sklearn.preprocessing import StandardScaler, PolynomialFeatures\n",
        "from sklearn.pipeline import Pipeline\n",
        "\n",
        "from sklearn.linear_model import LinearRegression, Ridge, Lasso, ElasticNet, SGDRegressor\n",
        "from sklearn.metrics import mean_squared_error, r2_score\n",
        "\n",
        "from sklearn.model_selection import GridSearchCV, RandomizedSearchCV\n",
        "from sklearn.neighbors import KNeighborsRegressor\n",
        "from sklearn.ensemble import RandomForestRegressor\n",
        "from sklearn.model_selection import cross_validate, cross_val_score\n",
        "\n",
        "from sklearn.compose import ColumnTransformer #특정 컬럼들만 변환할 때 사용\n",
        "from sklearn.preprocessing import LabelEncoder, OneHotEncoder, OrdinalEncoder"
      ]
    },
    {
      "cell_type": "code",
      "execution_count": 2,
      "metadata": {
        "colab": {
          "base_uri": "https://localhost:8080/"
        },
        "id": "R_qm2xTVwxrb",
        "outputId": "39e49669-f39b-4952-88ba-646316a1578f"
      },
      "outputs": [
        {
          "output_type": "stream",
          "name": "stdout",
          "text": [
            "Reading package lists... Done\n",
            "Building dependency tree       \n",
            "Reading state information... Done\n",
            "fonts-nanum is already the newest version (20170925-1).\n",
            "The following package was automatically installed and is no longer required:\n",
            "  libnvidia-common-460\n",
            "Use 'sudo apt autoremove' to remove it.\n",
            "0 upgraded, 0 newly installed, 0 to remove and 49 not upgraded.\n",
            "/usr/share/fonts: caching, new cache contents: 0 fonts, 1 dirs\n",
            "/usr/share/fonts/truetype: caching, new cache contents: 0 fonts, 3 dirs\n",
            "/usr/share/fonts/truetype/humor-sans: caching, new cache contents: 1 fonts, 0 dirs\n",
            "/usr/share/fonts/truetype/liberation: caching, new cache contents: 16 fonts, 0 dirs\n",
            "/usr/share/fonts/truetype/nanum: caching, new cache contents: 10 fonts, 0 dirs\n",
            "/usr/local/share/fonts: caching, new cache contents: 0 fonts, 0 dirs\n",
            "/root/.local/share/fonts: skipping, no such directory\n",
            "/root/.fonts: skipping, no such directory\n",
            "/var/cache/fontconfig: cleaning cache directory\n",
            "/root/.cache/fontconfig: not cleaning non-existent cache directory\n",
            "/root/.fontconfig: not cleaning non-existent cache directory\n",
            "fc-cache: succeeded\n"
          ]
        }
      ],
      "source": [
        "!sudo apt-get install -y fonts-nanum  \n",
        "!sudo fc-cache -fv\n",
        "!rm ~/.cache/matplotlib -rf\n",
        "\n",
        "import matplotlib.pyplot as plt\n",
        "plt.rc('font', family = 'NanumBarunGothic')"
      ]
    },
    {
      "cell_type": "markdown",
      "metadata": {
        "id": "fLT_jkErqqdJ"
      },
      "source": [
        "# FILE 불러오기 및 확인"
      ]
    },
    {
      "cell_type": "code",
      "execution_count": 3,
      "metadata": {
        "id": "mTuwqxZTjb0e"
      },
      "outputs": [],
      "source": [
        "train_path = '/content/drive/MyDrive/Colab Notebooks/LAB PYTHON /STUDYGROUP/data set/movies/movies_train.csv'\n",
        "movies_test_path = '/content/drive/MyDrive/Colab Notebooks/LAB PYTHON /STUDYGROUP/data set/movies/movies_test.csv'\n",
        "submission_path = '/content/drive/MyDrive/Colab Notebooks/LAB PYTHON /STUDYGROUP/data set/movies/submission.csv'"
      ]
    },
    {
      "cell_type": "code",
      "execution_count": 4,
      "metadata": {
        "id": "UTR3EhX8oqwn"
      },
      "outputs": [],
      "source": [
        "train = pd.read_csv(train_path)\n",
        "test = pd.read_csv(movies_test_path)\n",
        "submission = pd.read_csv(submission_path)"
      ]
    },
    {
      "cell_type": "markdown",
      "metadata": {
        "id": "PQLBbzeXq-4x"
      },
      "source": [
        "* 데이터 소개 : 2010년대 한국에서 개봉한 한국영화 600개에 대한 감독, 이름, 상영등급, 관객수 등의 정보가 담긴 데이터\n",
        "\n",
        "```\n",
        "* title : 영화의 제목\n",
        "* distributor : 배급사\n",
        "* genre : 장르\n",
        "* release_time : 개봉일\n",
        "* time : 상영시간(분)\n",
        "* screening_rat : 상영등급\n",
        "* director : 감독이름\n",
        "* dir_prev_bfnum : 해당 감독이 이 영화를 만들기 전 제작에 참여한 영화에서의   평균 관객수(단 관객수가 알려지지 않은 영화 제외)\n",
        "* dir_prev_num : 해당 감독이 이 영화를 만들기 전 제작에 참여한 영화의 개수(단 관객수가 알려지지 않은 영화 제외)\n",
        "* num_staff : 스텝수\n",
        "* num_actor : 주연배우수\n",
        "* box_off_num : 관객수\n",
        "```"
      ]
    },
    {
      "cell_type": "code",
      "execution_count": 5,
      "metadata": {
        "colab": {
          "base_uri": "https://localhost:8080/"
        },
        "id": "-FwBOnwoqiDY",
        "outputId": "2797de87-1904-47ba-b29b-211b9c0bc91b"
      },
      "outputs": [
        {
          "output_type": "stream",
          "name": "stdout",
          "text": [
            "<class 'pandas.core.frame.DataFrame'>\n",
            "RangeIndex: 600 entries, 0 to 599\n",
            "Data columns (total 12 columns):\n",
            " #   Column          Non-Null Count  Dtype  \n",
            "---  ------          --------------  -----  \n",
            " 0   title           600 non-null    object \n",
            " 1   distributor     600 non-null    object \n",
            " 2   genre           600 non-null    object \n",
            " 3   release_time    600 non-null    object \n",
            " 4   time            600 non-null    int64  \n",
            " 5   screening_rat   600 non-null    object \n",
            " 6   director        600 non-null    object \n",
            " 7   dir_prev_bfnum  270 non-null    float64\n",
            " 8   dir_prev_num    600 non-null    int64  \n",
            " 9   num_staff       600 non-null    int64  \n",
            " 10  num_actor       600 non-null    int64  \n",
            " 11  box_off_num     600 non-null    int64  \n",
            "dtypes: float64(1), int64(5), object(6)\n",
            "memory usage: 56.4+ KB\n"
          ]
        }
      ],
      "source": [
        "train.info()"
      ]
    },
    {
      "cell_type": "markdown",
      "metadata": {
        "id": "dbywZCbmqxCb"
      },
      "source": [
        "> 600개의 관측치, 12개의 columns . \n",
        "* null값 유무 : dir_prev_bfnum "
      ]
    },
    {
      "cell_type": "code",
      "execution_count": 6,
      "metadata": {
        "colab": {
          "base_uri": "https://localhost:8080/",
          "height": 300
        },
        "id": "-PN4l_P9r6_o",
        "outputId": "af0e3004-b141-4a77-85ca-cc0f98eec765"
      },
      "outputs": [
        {
          "output_type": "execute_result",
          "data": {
            "text/plain": [
              "             time  dir_prev_bfnum  dir_prev_num   num_staff   num_actor  \\\n",
              "count  600.000000    2.700000e+02    600.000000  600.000000  600.000000   \n",
              "mean   100.863333    1.050443e+06      0.876667  151.118333    3.706667   \n",
              "std     18.097528    1.791408e+06      1.183409  165.654671    2.446889   \n",
              "min     45.000000    1.000000e+00      0.000000    0.000000    0.000000   \n",
              "25%     89.000000    2.038000e+04      0.000000   17.000000    2.000000   \n",
              "50%    100.000000    4.784236e+05      0.000000   82.500000    3.000000   \n",
              "75%    114.000000    1.286569e+06      2.000000  264.000000    4.000000   \n",
              "max    180.000000    1.761531e+07      5.000000  869.000000   25.000000   \n",
              "\n",
              "        box_off_num  \n",
              "count  6.000000e+02  \n",
              "mean   7.081818e+05  \n",
              "std    1.828006e+06  \n",
              "min    1.000000e+00  \n",
              "25%    1.297250e+03  \n",
              "50%    1.259100e+04  \n",
              "75%    4.798868e+05  \n",
              "max    1.426277e+07  "
            ],
            "text/html": [
              "\n",
              "  <div id=\"df-41cf6b88-1167-44c5-83da-9c77ba708006\">\n",
              "    <div class=\"colab-df-container\">\n",
              "      <div>\n",
              "<style scoped>\n",
              "    .dataframe tbody tr th:only-of-type {\n",
              "        vertical-align: middle;\n",
              "    }\n",
              "\n",
              "    .dataframe tbody tr th {\n",
              "        vertical-align: top;\n",
              "    }\n",
              "\n",
              "    .dataframe thead th {\n",
              "        text-align: right;\n",
              "    }\n",
              "</style>\n",
              "<table border=\"1\" class=\"dataframe\">\n",
              "  <thead>\n",
              "    <tr style=\"text-align: right;\">\n",
              "      <th></th>\n",
              "      <th>time</th>\n",
              "      <th>dir_prev_bfnum</th>\n",
              "      <th>dir_prev_num</th>\n",
              "      <th>num_staff</th>\n",
              "      <th>num_actor</th>\n",
              "      <th>box_off_num</th>\n",
              "    </tr>\n",
              "  </thead>\n",
              "  <tbody>\n",
              "    <tr>\n",
              "      <th>count</th>\n",
              "      <td>600.000000</td>\n",
              "      <td>2.700000e+02</td>\n",
              "      <td>600.000000</td>\n",
              "      <td>600.000000</td>\n",
              "      <td>600.000000</td>\n",
              "      <td>6.000000e+02</td>\n",
              "    </tr>\n",
              "    <tr>\n",
              "      <th>mean</th>\n",
              "      <td>100.863333</td>\n",
              "      <td>1.050443e+06</td>\n",
              "      <td>0.876667</td>\n",
              "      <td>151.118333</td>\n",
              "      <td>3.706667</td>\n",
              "      <td>7.081818e+05</td>\n",
              "    </tr>\n",
              "    <tr>\n",
              "      <th>std</th>\n",
              "      <td>18.097528</td>\n",
              "      <td>1.791408e+06</td>\n",
              "      <td>1.183409</td>\n",
              "      <td>165.654671</td>\n",
              "      <td>2.446889</td>\n",
              "      <td>1.828006e+06</td>\n",
              "    </tr>\n",
              "    <tr>\n",
              "      <th>min</th>\n",
              "      <td>45.000000</td>\n",
              "      <td>1.000000e+00</td>\n",
              "      <td>0.000000</td>\n",
              "      <td>0.000000</td>\n",
              "      <td>0.000000</td>\n",
              "      <td>1.000000e+00</td>\n",
              "    </tr>\n",
              "    <tr>\n",
              "      <th>25%</th>\n",
              "      <td>89.000000</td>\n",
              "      <td>2.038000e+04</td>\n",
              "      <td>0.000000</td>\n",
              "      <td>17.000000</td>\n",
              "      <td>2.000000</td>\n",
              "      <td>1.297250e+03</td>\n",
              "    </tr>\n",
              "    <tr>\n",
              "      <th>50%</th>\n",
              "      <td>100.000000</td>\n",
              "      <td>4.784236e+05</td>\n",
              "      <td>0.000000</td>\n",
              "      <td>82.500000</td>\n",
              "      <td>3.000000</td>\n",
              "      <td>1.259100e+04</td>\n",
              "    </tr>\n",
              "    <tr>\n",
              "      <th>75%</th>\n",
              "      <td>114.000000</td>\n",
              "      <td>1.286569e+06</td>\n",
              "      <td>2.000000</td>\n",
              "      <td>264.000000</td>\n",
              "      <td>4.000000</td>\n",
              "      <td>4.798868e+05</td>\n",
              "    </tr>\n",
              "    <tr>\n",
              "      <th>max</th>\n",
              "      <td>180.000000</td>\n",
              "      <td>1.761531e+07</td>\n",
              "      <td>5.000000</td>\n",
              "      <td>869.000000</td>\n",
              "      <td>25.000000</td>\n",
              "      <td>1.426277e+07</td>\n",
              "    </tr>\n",
              "  </tbody>\n",
              "</table>\n",
              "</div>\n",
              "      <button class=\"colab-df-convert\" onclick=\"convertToInteractive('df-41cf6b88-1167-44c5-83da-9c77ba708006')\"\n",
              "              title=\"Convert this dataframe to an interactive table.\"\n",
              "              style=\"display:none;\">\n",
              "        \n",
              "  <svg xmlns=\"http://www.w3.org/2000/svg\" height=\"24px\"viewBox=\"0 0 24 24\"\n",
              "       width=\"24px\">\n",
              "    <path d=\"M0 0h24v24H0V0z\" fill=\"none\"/>\n",
              "    <path d=\"M18.56 5.44l.94 2.06.94-2.06 2.06-.94-2.06-.94-.94-2.06-.94 2.06-2.06.94zm-11 1L8.5 8.5l.94-2.06 2.06-.94-2.06-.94L8.5 2.5l-.94 2.06-2.06.94zm10 10l.94 2.06.94-2.06 2.06-.94-2.06-.94-.94-2.06-.94 2.06-2.06.94z\"/><path d=\"M17.41 7.96l-1.37-1.37c-.4-.4-.92-.59-1.43-.59-.52 0-1.04.2-1.43.59L10.3 9.45l-7.72 7.72c-.78.78-.78 2.05 0 2.83L4 21.41c.39.39.9.59 1.41.59.51 0 1.02-.2 1.41-.59l7.78-7.78 2.81-2.81c.8-.78.8-2.07 0-2.86zM5.41 20L4 18.59l7.72-7.72 1.47 1.35L5.41 20z\"/>\n",
              "  </svg>\n",
              "      </button>\n",
              "      \n",
              "  <style>\n",
              "    .colab-df-container {\n",
              "      display:flex;\n",
              "      flex-wrap:wrap;\n",
              "      gap: 12px;\n",
              "    }\n",
              "\n",
              "    .colab-df-convert {\n",
              "      background-color: #E8F0FE;\n",
              "      border: none;\n",
              "      border-radius: 50%;\n",
              "      cursor: pointer;\n",
              "      display: none;\n",
              "      fill: #1967D2;\n",
              "      height: 32px;\n",
              "      padding: 0 0 0 0;\n",
              "      width: 32px;\n",
              "    }\n",
              "\n",
              "    .colab-df-convert:hover {\n",
              "      background-color: #E2EBFA;\n",
              "      box-shadow: 0px 1px 2px rgba(60, 64, 67, 0.3), 0px 1px 3px 1px rgba(60, 64, 67, 0.15);\n",
              "      fill: #174EA6;\n",
              "    }\n",
              "\n",
              "    [theme=dark] .colab-df-convert {\n",
              "      background-color: #3B4455;\n",
              "      fill: #D2E3FC;\n",
              "    }\n",
              "\n",
              "    [theme=dark] .colab-df-convert:hover {\n",
              "      background-color: #434B5C;\n",
              "      box-shadow: 0px 1px 3px 1px rgba(0, 0, 0, 0.15);\n",
              "      filter: drop-shadow(0px 1px 2px rgba(0, 0, 0, 0.3));\n",
              "      fill: #FFFFFF;\n",
              "    }\n",
              "  </style>\n",
              "\n",
              "      <script>\n",
              "        const buttonEl =\n",
              "          document.querySelector('#df-41cf6b88-1167-44c5-83da-9c77ba708006 button.colab-df-convert');\n",
              "        buttonEl.style.display =\n",
              "          google.colab.kernel.accessAllowed ? 'block' : 'none';\n",
              "\n",
              "        async function convertToInteractive(key) {\n",
              "          const element = document.querySelector('#df-41cf6b88-1167-44c5-83da-9c77ba708006');\n",
              "          const dataTable =\n",
              "            await google.colab.kernel.invokeFunction('convertToInteractive',\n",
              "                                                     [key], {});\n",
              "          if (!dataTable) return;\n",
              "\n",
              "          const docLinkHtml = 'Like what you see? Visit the ' +\n",
              "            '<a target=\"_blank\" href=https://colab.research.google.com/notebooks/data_table.ipynb>data table notebook</a>'\n",
              "            + ' to learn more about interactive tables.';\n",
              "          element.innerHTML = '';\n",
              "          dataTable['output_type'] = 'display_data';\n",
              "          await google.colab.output.renderOutput(dataTable, element);\n",
              "          const docLink = document.createElement('div');\n",
              "          docLink.innerHTML = docLinkHtml;\n",
              "          element.appendChild(docLink);\n",
              "        }\n",
              "      </script>\n",
              "    </div>\n",
              "  </div>\n",
              "  "
            ]
          },
          "metadata": {},
          "execution_count": 6
        }
      ],
      "source": [
        "train.describe()"
      ]
    },
    {
      "cell_type": "markdown",
      "metadata": {
        "id": "qvWmiMajsRyc"
      },
      "source": [
        "> time\tdir_prev_bfnum\tdir_prev_num\tnum_staff\tnum_actor\tbox_off_num 중 'dir_prev_bfnum', 'dir_prev_num', 'num_staff 컬럼의 분산이 크다는걸 알 수 있다 "
      ]
    },
    {
      "cell_type": "code",
      "execution_count": 7,
      "metadata": {
        "colab": {
          "base_uri": "https://localhost:8080/",
          "height": 206
        },
        "id": "Jbc_8st3veIW",
        "outputId": "a4363b7d-3d7f-46a9-a032-c9343ed11f84"
      },
      "outputs": [
        {
          "output_type": "execute_result",
          "data": {
            "text/plain": [
              "       title   distributor genre release_time  time screening_rat director  \\\n",
              "0     개들의 전쟁      롯데엔터테인먼트    액션   2012-11-22    96      청소년 관람불가      조병옥   \n",
              "1       내부자들        (주)쇼박스   느와르   2015-11-19   130      청소년 관람불가      우민호   \n",
              "2  은밀하게 위대하게        (주)쇼박스    액션   2013-06-05   123       15세 관람가      장철수   \n",
              "3   나는 공무원이다        (주)NEW   코미디   2012-07-12   101        전체 관람가      구자홍   \n",
              "4       불량남녀  쇼박스(주)미디어플렉스   코미디   2010-11-04   108       15세 관람가      신근호   \n",
              "\n",
              "   dir_prev_bfnum  dir_prev_num  num_staff  num_actor  box_off_num  \n",
              "0             NaN             0         91          2        23398  \n",
              "1      1161602.50             2        387          3      7072501  \n",
              "2       220775.25             4        343          4      6959083  \n",
              "3        23894.00             2         20          6       217866  \n",
              "4            1.00             1        251          2       483387  "
            ],
            "text/html": [
              "\n",
              "  <div id=\"df-941dcef4-c1e4-4537-b52e-e49c715d55af\">\n",
              "    <div class=\"colab-df-container\">\n",
              "      <div>\n",
              "<style scoped>\n",
              "    .dataframe tbody tr th:only-of-type {\n",
              "        vertical-align: middle;\n",
              "    }\n",
              "\n",
              "    .dataframe tbody tr th {\n",
              "        vertical-align: top;\n",
              "    }\n",
              "\n",
              "    .dataframe thead th {\n",
              "        text-align: right;\n",
              "    }\n",
              "</style>\n",
              "<table border=\"1\" class=\"dataframe\">\n",
              "  <thead>\n",
              "    <tr style=\"text-align: right;\">\n",
              "      <th></th>\n",
              "      <th>title</th>\n",
              "      <th>distributor</th>\n",
              "      <th>genre</th>\n",
              "      <th>release_time</th>\n",
              "      <th>time</th>\n",
              "      <th>screening_rat</th>\n",
              "      <th>director</th>\n",
              "      <th>dir_prev_bfnum</th>\n",
              "      <th>dir_prev_num</th>\n",
              "      <th>num_staff</th>\n",
              "      <th>num_actor</th>\n",
              "      <th>box_off_num</th>\n",
              "    </tr>\n",
              "  </thead>\n",
              "  <tbody>\n",
              "    <tr>\n",
              "      <th>0</th>\n",
              "      <td>개들의 전쟁</td>\n",
              "      <td>롯데엔터테인먼트</td>\n",
              "      <td>액션</td>\n",
              "      <td>2012-11-22</td>\n",
              "      <td>96</td>\n",
              "      <td>청소년 관람불가</td>\n",
              "      <td>조병옥</td>\n",
              "      <td>NaN</td>\n",
              "      <td>0</td>\n",
              "      <td>91</td>\n",
              "      <td>2</td>\n",
              "      <td>23398</td>\n",
              "    </tr>\n",
              "    <tr>\n",
              "      <th>1</th>\n",
              "      <td>내부자들</td>\n",
              "      <td>(주)쇼박스</td>\n",
              "      <td>느와르</td>\n",
              "      <td>2015-11-19</td>\n",
              "      <td>130</td>\n",
              "      <td>청소년 관람불가</td>\n",
              "      <td>우민호</td>\n",
              "      <td>1161602.50</td>\n",
              "      <td>2</td>\n",
              "      <td>387</td>\n",
              "      <td>3</td>\n",
              "      <td>7072501</td>\n",
              "    </tr>\n",
              "    <tr>\n",
              "      <th>2</th>\n",
              "      <td>은밀하게 위대하게</td>\n",
              "      <td>(주)쇼박스</td>\n",
              "      <td>액션</td>\n",
              "      <td>2013-06-05</td>\n",
              "      <td>123</td>\n",
              "      <td>15세 관람가</td>\n",
              "      <td>장철수</td>\n",
              "      <td>220775.25</td>\n",
              "      <td>4</td>\n",
              "      <td>343</td>\n",
              "      <td>4</td>\n",
              "      <td>6959083</td>\n",
              "    </tr>\n",
              "    <tr>\n",
              "      <th>3</th>\n",
              "      <td>나는 공무원이다</td>\n",
              "      <td>(주)NEW</td>\n",
              "      <td>코미디</td>\n",
              "      <td>2012-07-12</td>\n",
              "      <td>101</td>\n",
              "      <td>전체 관람가</td>\n",
              "      <td>구자홍</td>\n",
              "      <td>23894.00</td>\n",
              "      <td>2</td>\n",
              "      <td>20</td>\n",
              "      <td>6</td>\n",
              "      <td>217866</td>\n",
              "    </tr>\n",
              "    <tr>\n",
              "      <th>4</th>\n",
              "      <td>불량남녀</td>\n",
              "      <td>쇼박스(주)미디어플렉스</td>\n",
              "      <td>코미디</td>\n",
              "      <td>2010-11-04</td>\n",
              "      <td>108</td>\n",
              "      <td>15세 관람가</td>\n",
              "      <td>신근호</td>\n",
              "      <td>1.00</td>\n",
              "      <td>1</td>\n",
              "      <td>251</td>\n",
              "      <td>2</td>\n",
              "      <td>483387</td>\n",
              "    </tr>\n",
              "  </tbody>\n",
              "</table>\n",
              "</div>\n",
              "      <button class=\"colab-df-convert\" onclick=\"convertToInteractive('df-941dcef4-c1e4-4537-b52e-e49c715d55af')\"\n",
              "              title=\"Convert this dataframe to an interactive table.\"\n",
              "              style=\"display:none;\">\n",
              "        \n",
              "  <svg xmlns=\"http://www.w3.org/2000/svg\" height=\"24px\"viewBox=\"0 0 24 24\"\n",
              "       width=\"24px\">\n",
              "    <path d=\"M0 0h24v24H0V0z\" fill=\"none\"/>\n",
              "    <path d=\"M18.56 5.44l.94 2.06.94-2.06 2.06-.94-2.06-.94-.94-2.06-.94 2.06-2.06.94zm-11 1L8.5 8.5l.94-2.06 2.06-.94-2.06-.94L8.5 2.5l-.94 2.06-2.06.94zm10 10l.94 2.06.94-2.06 2.06-.94-2.06-.94-.94-2.06-.94 2.06-2.06.94z\"/><path d=\"M17.41 7.96l-1.37-1.37c-.4-.4-.92-.59-1.43-.59-.52 0-1.04.2-1.43.59L10.3 9.45l-7.72 7.72c-.78.78-.78 2.05 0 2.83L4 21.41c.39.39.9.59 1.41.59.51 0 1.02-.2 1.41-.59l7.78-7.78 2.81-2.81c.8-.78.8-2.07 0-2.86zM5.41 20L4 18.59l7.72-7.72 1.47 1.35L5.41 20z\"/>\n",
              "  </svg>\n",
              "      </button>\n",
              "      \n",
              "  <style>\n",
              "    .colab-df-container {\n",
              "      display:flex;\n",
              "      flex-wrap:wrap;\n",
              "      gap: 12px;\n",
              "    }\n",
              "\n",
              "    .colab-df-convert {\n",
              "      background-color: #E8F0FE;\n",
              "      border: none;\n",
              "      border-radius: 50%;\n",
              "      cursor: pointer;\n",
              "      display: none;\n",
              "      fill: #1967D2;\n",
              "      height: 32px;\n",
              "      padding: 0 0 0 0;\n",
              "      width: 32px;\n",
              "    }\n",
              "\n",
              "    .colab-df-convert:hover {\n",
              "      background-color: #E2EBFA;\n",
              "      box-shadow: 0px 1px 2px rgba(60, 64, 67, 0.3), 0px 1px 3px 1px rgba(60, 64, 67, 0.15);\n",
              "      fill: #174EA6;\n",
              "    }\n",
              "\n",
              "    [theme=dark] .colab-df-convert {\n",
              "      background-color: #3B4455;\n",
              "      fill: #D2E3FC;\n",
              "    }\n",
              "\n",
              "    [theme=dark] .colab-df-convert:hover {\n",
              "      background-color: #434B5C;\n",
              "      box-shadow: 0px 1px 3px 1px rgba(0, 0, 0, 0.15);\n",
              "      filter: drop-shadow(0px 1px 2px rgba(0, 0, 0, 0.3));\n",
              "      fill: #FFFFFF;\n",
              "    }\n",
              "  </style>\n",
              "\n",
              "      <script>\n",
              "        const buttonEl =\n",
              "          document.querySelector('#df-941dcef4-c1e4-4537-b52e-e49c715d55af button.colab-df-convert');\n",
              "        buttonEl.style.display =\n",
              "          google.colab.kernel.accessAllowed ? 'block' : 'none';\n",
              "\n",
              "        async function convertToInteractive(key) {\n",
              "          const element = document.querySelector('#df-941dcef4-c1e4-4537-b52e-e49c715d55af');\n",
              "          const dataTable =\n",
              "            await google.colab.kernel.invokeFunction('convertToInteractive',\n",
              "                                                     [key], {});\n",
              "          if (!dataTable) return;\n",
              "\n",
              "          const docLinkHtml = 'Like what you see? Visit the ' +\n",
              "            '<a target=\"_blank\" href=https://colab.research.google.com/notebooks/data_table.ipynb>data table notebook</a>'\n",
              "            + ' to learn more about interactive tables.';\n",
              "          element.innerHTML = '';\n",
              "          dataTable['output_type'] = 'display_data';\n",
              "          await google.colab.output.renderOutput(dataTable, element);\n",
              "          const docLink = document.createElement('div');\n",
              "          docLink.innerHTML = docLinkHtml;\n",
              "          element.appendChild(docLink);\n",
              "        }\n",
              "      </script>\n",
              "    </div>\n",
              "  </div>\n",
              "  "
            ]
          },
          "metadata": {},
          "execution_count": 7
        }
      ],
      "source": [
        "train.head()"
      ]
    },
    {
      "cell_type": "code",
      "source": [
        "test.head()"
      ],
      "metadata": {
        "colab": {
          "base_uri": "https://localhost:8080/",
          "height": 206
        },
        "id": "FkGl_k0M15-T",
        "outputId": "7c0aeb16-1c23-4e1d-a27f-a45648e53fc4"
      },
      "execution_count": 8,
      "outputs": [
        {
          "output_type": "execute_result",
          "data": {
            "text/plain": [
              "         title distributor   genre release_time  time screening_rat director  \\\n",
              "0       용서는 없다      시네마서비스     느와르   2010-01-07   125      청소년 관람불가      김형준   \n",
              "1  아빠가 여자를 좋아해      (주)쇼박스  멜로/로맨스   2010-01-14   113       12세 관람가      이광재   \n",
              "2          하모니   CJ 엔터테인먼트     드라마   2010-01-28   115       12세 관람가      강대규   \n",
              "3          의형제      (주)쇼박스      액션   2010-02-04   116       15세 관람가       장훈   \n",
              "4        평행 이론   CJ 엔터테인먼트      공포   2010-02-18   110       15세 관람가      권호영   \n",
              "\n",
              "   dir_prev_bfnum  dir_prev_num  num_staff  num_actor  \n",
              "0    3.005290e+05             2        304          3  \n",
              "1    3.427002e+05             4        275          3  \n",
              "2    4.206611e+06             3        419          7  \n",
              "3    6.913420e+05             2        408          2  \n",
              "4    3.173800e+04             1        380          1  "
            ],
            "text/html": [
              "\n",
              "  <div id=\"df-5fb23206-46cc-456d-b67c-71409ae8bcbd\">\n",
              "    <div class=\"colab-df-container\">\n",
              "      <div>\n",
              "<style scoped>\n",
              "    .dataframe tbody tr th:only-of-type {\n",
              "        vertical-align: middle;\n",
              "    }\n",
              "\n",
              "    .dataframe tbody tr th {\n",
              "        vertical-align: top;\n",
              "    }\n",
              "\n",
              "    .dataframe thead th {\n",
              "        text-align: right;\n",
              "    }\n",
              "</style>\n",
              "<table border=\"1\" class=\"dataframe\">\n",
              "  <thead>\n",
              "    <tr style=\"text-align: right;\">\n",
              "      <th></th>\n",
              "      <th>title</th>\n",
              "      <th>distributor</th>\n",
              "      <th>genre</th>\n",
              "      <th>release_time</th>\n",
              "      <th>time</th>\n",
              "      <th>screening_rat</th>\n",
              "      <th>director</th>\n",
              "      <th>dir_prev_bfnum</th>\n",
              "      <th>dir_prev_num</th>\n",
              "      <th>num_staff</th>\n",
              "      <th>num_actor</th>\n",
              "    </tr>\n",
              "  </thead>\n",
              "  <tbody>\n",
              "    <tr>\n",
              "      <th>0</th>\n",
              "      <td>용서는 없다</td>\n",
              "      <td>시네마서비스</td>\n",
              "      <td>느와르</td>\n",
              "      <td>2010-01-07</td>\n",
              "      <td>125</td>\n",
              "      <td>청소년 관람불가</td>\n",
              "      <td>김형준</td>\n",
              "      <td>3.005290e+05</td>\n",
              "      <td>2</td>\n",
              "      <td>304</td>\n",
              "      <td>3</td>\n",
              "    </tr>\n",
              "    <tr>\n",
              "      <th>1</th>\n",
              "      <td>아빠가 여자를 좋아해</td>\n",
              "      <td>(주)쇼박스</td>\n",
              "      <td>멜로/로맨스</td>\n",
              "      <td>2010-01-14</td>\n",
              "      <td>113</td>\n",
              "      <td>12세 관람가</td>\n",
              "      <td>이광재</td>\n",
              "      <td>3.427002e+05</td>\n",
              "      <td>4</td>\n",
              "      <td>275</td>\n",
              "      <td>3</td>\n",
              "    </tr>\n",
              "    <tr>\n",
              "      <th>2</th>\n",
              "      <td>하모니</td>\n",
              "      <td>CJ 엔터테인먼트</td>\n",
              "      <td>드라마</td>\n",
              "      <td>2010-01-28</td>\n",
              "      <td>115</td>\n",
              "      <td>12세 관람가</td>\n",
              "      <td>강대규</td>\n",
              "      <td>4.206611e+06</td>\n",
              "      <td>3</td>\n",
              "      <td>419</td>\n",
              "      <td>7</td>\n",
              "    </tr>\n",
              "    <tr>\n",
              "      <th>3</th>\n",
              "      <td>의형제</td>\n",
              "      <td>(주)쇼박스</td>\n",
              "      <td>액션</td>\n",
              "      <td>2010-02-04</td>\n",
              "      <td>116</td>\n",
              "      <td>15세 관람가</td>\n",
              "      <td>장훈</td>\n",
              "      <td>6.913420e+05</td>\n",
              "      <td>2</td>\n",
              "      <td>408</td>\n",
              "      <td>2</td>\n",
              "    </tr>\n",
              "    <tr>\n",
              "      <th>4</th>\n",
              "      <td>평행 이론</td>\n",
              "      <td>CJ 엔터테인먼트</td>\n",
              "      <td>공포</td>\n",
              "      <td>2010-02-18</td>\n",
              "      <td>110</td>\n",
              "      <td>15세 관람가</td>\n",
              "      <td>권호영</td>\n",
              "      <td>3.173800e+04</td>\n",
              "      <td>1</td>\n",
              "      <td>380</td>\n",
              "      <td>1</td>\n",
              "    </tr>\n",
              "  </tbody>\n",
              "</table>\n",
              "</div>\n",
              "      <button class=\"colab-df-convert\" onclick=\"convertToInteractive('df-5fb23206-46cc-456d-b67c-71409ae8bcbd')\"\n",
              "              title=\"Convert this dataframe to an interactive table.\"\n",
              "              style=\"display:none;\">\n",
              "        \n",
              "  <svg xmlns=\"http://www.w3.org/2000/svg\" height=\"24px\"viewBox=\"0 0 24 24\"\n",
              "       width=\"24px\">\n",
              "    <path d=\"M0 0h24v24H0V0z\" fill=\"none\"/>\n",
              "    <path d=\"M18.56 5.44l.94 2.06.94-2.06 2.06-.94-2.06-.94-.94-2.06-.94 2.06-2.06.94zm-11 1L8.5 8.5l.94-2.06 2.06-.94-2.06-.94L8.5 2.5l-.94 2.06-2.06.94zm10 10l.94 2.06.94-2.06 2.06-.94-2.06-.94-.94-2.06-.94 2.06-2.06.94z\"/><path d=\"M17.41 7.96l-1.37-1.37c-.4-.4-.92-.59-1.43-.59-.52 0-1.04.2-1.43.59L10.3 9.45l-7.72 7.72c-.78.78-.78 2.05 0 2.83L4 21.41c.39.39.9.59 1.41.59.51 0 1.02-.2 1.41-.59l7.78-7.78 2.81-2.81c.8-.78.8-2.07 0-2.86zM5.41 20L4 18.59l7.72-7.72 1.47 1.35L5.41 20z\"/>\n",
              "  </svg>\n",
              "      </button>\n",
              "      \n",
              "  <style>\n",
              "    .colab-df-container {\n",
              "      display:flex;\n",
              "      flex-wrap:wrap;\n",
              "      gap: 12px;\n",
              "    }\n",
              "\n",
              "    .colab-df-convert {\n",
              "      background-color: #E8F0FE;\n",
              "      border: none;\n",
              "      border-radius: 50%;\n",
              "      cursor: pointer;\n",
              "      display: none;\n",
              "      fill: #1967D2;\n",
              "      height: 32px;\n",
              "      padding: 0 0 0 0;\n",
              "      width: 32px;\n",
              "    }\n",
              "\n",
              "    .colab-df-convert:hover {\n",
              "      background-color: #E2EBFA;\n",
              "      box-shadow: 0px 1px 2px rgba(60, 64, 67, 0.3), 0px 1px 3px 1px rgba(60, 64, 67, 0.15);\n",
              "      fill: #174EA6;\n",
              "    }\n",
              "\n",
              "    [theme=dark] .colab-df-convert {\n",
              "      background-color: #3B4455;\n",
              "      fill: #D2E3FC;\n",
              "    }\n",
              "\n",
              "    [theme=dark] .colab-df-convert:hover {\n",
              "      background-color: #434B5C;\n",
              "      box-shadow: 0px 1px 3px 1px rgba(0, 0, 0, 0.15);\n",
              "      filter: drop-shadow(0px 1px 2px rgba(0, 0, 0, 0.3));\n",
              "      fill: #FFFFFF;\n",
              "    }\n",
              "  </style>\n",
              "\n",
              "      <script>\n",
              "        const buttonEl =\n",
              "          document.querySelector('#df-5fb23206-46cc-456d-b67c-71409ae8bcbd button.colab-df-convert');\n",
              "        buttonEl.style.display =\n",
              "          google.colab.kernel.accessAllowed ? 'block' : 'none';\n",
              "\n",
              "        async function convertToInteractive(key) {\n",
              "          const element = document.querySelector('#df-5fb23206-46cc-456d-b67c-71409ae8bcbd');\n",
              "          const dataTable =\n",
              "            await google.colab.kernel.invokeFunction('convertToInteractive',\n",
              "                                                     [key], {});\n",
              "          if (!dataTable) return;\n",
              "\n",
              "          const docLinkHtml = 'Like what you see? Visit the ' +\n",
              "            '<a target=\"_blank\" href=https://colab.research.google.com/notebooks/data_table.ipynb>data table notebook</a>'\n",
              "            + ' to learn more about interactive tables.';\n",
              "          element.innerHTML = '';\n",
              "          dataTable['output_type'] = 'display_data';\n",
              "          await google.colab.output.renderOutput(dataTable, element);\n",
              "          const docLink = document.createElement('div');\n",
              "          docLink.innerHTML = docLinkHtml;\n",
              "          element.appendChild(docLink);\n",
              "        }\n",
              "      </script>\n",
              "    </div>\n",
              "  </div>\n",
              "  "
            ]
          },
          "metadata": {},
          "execution_count": 8
        }
      ]
    },
    {
      "cell_type": "code",
      "source": [
        "submission.head()"
      ],
      "metadata": {
        "colab": {
          "base_uri": "https://localhost:8080/",
          "height": 206
        },
        "id": "VPIQoHPj18lr",
        "outputId": "d80fc7ce-ef2f-4f56-e251-c849ae1d3eba"
      },
      "execution_count": 9,
      "outputs": [
        {
          "output_type": "execute_result",
          "data": {
            "text/plain": [
              "         title  box_off_num\n",
              "0       용서는 없다            0\n",
              "1  아빠가 여자를 좋아해            0\n",
              "2          하모니            0\n",
              "3          의형제            0\n",
              "4        평행 이론            0"
            ],
            "text/html": [
              "\n",
              "  <div id=\"df-cd5cc241-a483-4601-b5fa-f75cc8fca282\">\n",
              "    <div class=\"colab-df-container\">\n",
              "      <div>\n",
              "<style scoped>\n",
              "    .dataframe tbody tr th:only-of-type {\n",
              "        vertical-align: middle;\n",
              "    }\n",
              "\n",
              "    .dataframe tbody tr th {\n",
              "        vertical-align: top;\n",
              "    }\n",
              "\n",
              "    .dataframe thead th {\n",
              "        text-align: right;\n",
              "    }\n",
              "</style>\n",
              "<table border=\"1\" class=\"dataframe\">\n",
              "  <thead>\n",
              "    <tr style=\"text-align: right;\">\n",
              "      <th></th>\n",
              "      <th>title</th>\n",
              "      <th>box_off_num</th>\n",
              "    </tr>\n",
              "  </thead>\n",
              "  <tbody>\n",
              "    <tr>\n",
              "      <th>0</th>\n",
              "      <td>용서는 없다</td>\n",
              "      <td>0</td>\n",
              "    </tr>\n",
              "    <tr>\n",
              "      <th>1</th>\n",
              "      <td>아빠가 여자를 좋아해</td>\n",
              "      <td>0</td>\n",
              "    </tr>\n",
              "    <tr>\n",
              "      <th>2</th>\n",
              "      <td>하모니</td>\n",
              "      <td>0</td>\n",
              "    </tr>\n",
              "    <tr>\n",
              "      <th>3</th>\n",
              "      <td>의형제</td>\n",
              "      <td>0</td>\n",
              "    </tr>\n",
              "    <tr>\n",
              "      <th>4</th>\n",
              "      <td>평행 이론</td>\n",
              "      <td>0</td>\n",
              "    </tr>\n",
              "  </tbody>\n",
              "</table>\n",
              "</div>\n",
              "      <button class=\"colab-df-convert\" onclick=\"convertToInteractive('df-cd5cc241-a483-4601-b5fa-f75cc8fca282')\"\n",
              "              title=\"Convert this dataframe to an interactive table.\"\n",
              "              style=\"display:none;\">\n",
              "        \n",
              "  <svg xmlns=\"http://www.w3.org/2000/svg\" height=\"24px\"viewBox=\"0 0 24 24\"\n",
              "       width=\"24px\">\n",
              "    <path d=\"M0 0h24v24H0V0z\" fill=\"none\"/>\n",
              "    <path d=\"M18.56 5.44l.94 2.06.94-2.06 2.06-.94-2.06-.94-.94-2.06-.94 2.06-2.06.94zm-11 1L8.5 8.5l.94-2.06 2.06-.94-2.06-.94L8.5 2.5l-.94 2.06-2.06.94zm10 10l.94 2.06.94-2.06 2.06-.94-2.06-.94-.94-2.06-.94 2.06-2.06.94z\"/><path d=\"M17.41 7.96l-1.37-1.37c-.4-.4-.92-.59-1.43-.59-.52 0-1.04.2-1.43.59L10.3 9.45l-7.72 7.72c-.78.78-.78 2.05 0 2.83L4 21.41c.39.39.9.59 1.41.59.51 0 1.02-.2 1.41-.59l7.78-7.78 2.81-2.81c.8-.78.8-2.07 0-2.86zM5.41 20L4 18.59l7.72-7.72 1.47 1.35L5.41 20z\"/>\n",
              "  </svg>\n",
              "      </button>\n",
              "      \n",
              "  <style>\n",
              "    .colab-df-container {\n",
              "      display:flex;\n",
              "      flex-wrap:wrap;\n",
              "      gap: 12px;\n",
              "    }\n",
              "\n",
              "    .colab-df-convert {\n",
              "      background-color: #E8F0FE;\n",
              "      border: none;\n",
              "      border-radius: 50%;\n",
              "      cursor: pointer;\n",
              "      display: none;\n",
              "      fill: #1967D2;\n",
              "      height: 32px;\n",
              "      padding: 0 0 0 0;\n",
              "      width: 32px;\n",
              "    }\n",
              "\n",
              "    .colab-df-convert:hover {\n",
              "      background-color: #E2EBFA;\n",
              "      box-shadow: 0px 1px 2px rgba(60, 64, 67, 0.3), 0px 1px 3px 1px rgba(60, 64, 67, 0.15);\n",
              "      fill: #174EA6;\n",
              "    }\n",
              "\n",
              "    [theme=dark] .colab-df-convert {\n",
              "      background-color: #3B4455;\n",
              "      fill: #D2E3FC;\n",
              "    }\n",
              "\n",
              "    [theme=dark] .colab-df-convert:hover {\n",
              "      background-color: #434B5C;\n",
              "      box-shadow: 0px 1px 3px 1px rgba(0, 0, 0, 0.15);\n",
              "      filter: drop-shadow(0px 1px 2px rgba(0, 0, 0, 0.3));\n",
              "      fill: #FFFFFF;\n",
              "    }\n",
              "  </style>\n",
              "\n",
              "      <script>\n",
              "        const buttonEl =\n",
              "          document.querySelector('#df-cd5cc241-a483-4601-b5fa-f75cc8fca282 button.colab-df-convert');\n",
              "        buttonEl.style.display =\n",
              "          google.colab.kernel.accessAllowed ? 'block' : 'none';\n",
              "\n",
              "        async function convertToInteractive(key) {\n",
              "          const element = document.querySelector('#df-cd5cc241-a483-4601-b5fa-f75cc8fca282');\n",
              "          const dataTable =\n",
              "            await google.colab.kernel.invokeFunction('convertToInteractive',\n",
              "                                                     [key], {});\n",
              "          if (!dataTable) return;\n",
              "\n",
              "          const docLinkHtml = 'Like what you see? Visit the ' +\n",
              "            '<a target=\"_blank\" href=https://colab.research.google.com/notebooks/data_table.ipynb>data table notebook</a>'\n",
              "            + ' to learn more about interactive tables.';\n",
              "          element.innerHTML = '';\n",
              "          dataTable['output_type'] = 'display_data';\n",
              "          await google.colab.output.renderOutput(dataTable, element);\n",
              "          const docLink = document.createElement('div');\n",
              "          docLink.innerHTML = docLinkHtml;\n",
              "          element.appendChild(docLink);\n",
              "        }\n",
              "      </script>\n",
              "    </div>\n",
              "  </div>\n",
              "  "
            ]
          },
          "metadata": {},
          "execution_count": 9
        }
      ]
    },
    {
      "cell_type": "code",
      "execution_count": 10,
      "metadata": {
        "colab": {
          "base_uri": "https://localhost:8080/"
        },
        "id": "L-SSMjxHr8br",
        "outputId": "3de5c096-ee45-4283-8576-c38c6993cac4"
      },
      "outputs": [
        {
          "output_type": "execute_result",
          "data": {
            "text/plain": [
              "object     6\n",
              "int64      5\n",
              "float64    1\n",
              "dtype: int64"
            ]
          },
          "metadata": {},
          "execution_count": 10
        }
      ],
      "source": [
        "# 변수형, 연속형 카테고리 숫자 확인\n",
        "train.dtypes.value_counts()"
      ]
    },
    {
      "cell_type": "code",
      "source": [
        "test.info()"
      ],
      "metadata": {
        "colab": {
          "base_uri": "https://localhost:8080/"
        },
        "id": "ogCGpE6hb9O4",
        "outputId": "7768e45e-8efb-4074-de0c-f671bddf4df6"
      },
      "execution_count": 11,
      "outputs": [
        {
          "output_type": "stream",
          "name": "stdout",
          "text": [
            "<class 'pandas.core.frame.DataFrame'>\n",
            "RangeIndex: 243 entries, 0 to 242\n",
            "Data columns (total 11 columns):\n",
            " #   Column          Non-Null Count  Dtype  \n",
            "---  ------          --------------  -----  \n",
            " 0   title           243 non-null    object \n",
            " 1   distributor     243 non-null    object \n",
            " 2   genre           243 non-null    object \n",
            " 3   release_time    243 non-null    object \n",
            " 4   time            243 non-null    int64  \n",
            " 5   screening_rat   243 non-null    object \n",
            " 6   director        243 non-null    object \n",
            " 7   dir_prev_bfnum  107 non-null    float64\n",
            " 8   dir_prev_num    243 non-null    int64  \n",
            " 9   num_staff       243 non-null    int64  \n",
            " 10  num_actor       243 non-null    int64  \n",
            "dtypes: float64(1), int64(4), object(6)\n",
            "memory usage: 21.0+ KB\n"
          ]
        }
      ]
    },
    {
      "cell_type": "markdown",
      "metadata": {
        "id": "lWcdAXTNsqS2"
      },
      "source": [
        "# 데이터 분석(EDA)"
      ]
    },
    {
      "cell_type": "markdown",
      "metadata": {
        "id": "W9SLHdL9sshj"
      },
      "source": [
        "## 카테고리형 변수 분석 "
      ]
    },
    {
      "cell_type": "markdown",
      "metadata": {
        "id": "f1HDSFkuu-Y5"
      },
      "source": [
        " 1   distributor    \n",
        " 2   genre           \n",
        " 3   release_time    \n",
        " 5   screening_rat  \n",
        " 6   director      "
      ]
    },
    {
      "cell_type": "code",
      "execution_count": 12,
      "metadata": {
        "colab": {
          "base_uri": "https://localhost:8080/",
          "height": 206
        },
        "id": "nE9T2exJuJCb",
        "outputId": "106a7586-708e-49b4-fc94-473eb9de6ffd"
      },
      "outputs": [
        {
          "output_type": "execute_result",
          "data": {
            "text/plain": [
              "       title   distributor genre release_time  time screening_rat director  \\\n",
              "0     개들의 전쟁      롯데엔터테인먼트    액션   2012-11-22    96      청소년 관람불가      조병옥   \n",
              "1       내부자들        (주)쇼박스   느와르   2015-11-19   130      청소년 관람불가      우민호   \n",
              "2  은밀하게 위대하게        (주)쇼박스    액션   2013-06-05   123       15세 관람가      장철수   \n",
              "3   나는 공무원이다        (주)NEW   코미디   2012-07-12   101        전체 관람가      구자홍   \n",
              "4       불량남녀  쇼박스(주)미디어플렉스   코미디   2010-11-04   108       15세 관람가      신근호   \n",
              "\n",
              "   dir_prev_bfnum  dir_prev_num  num_staff  num_actor  box_off_num  \n",
              "0             NaN             0         91          2        23398  \n",
              "1      1161602.50             2        387          3      7072501  \n",
              "2       220775.25             4        343          4      6959083  \n",
              "3        23894.00             2         20          6       217866  \n",
              "4            1.00             1        251          2       483387  "
            ],
            "text/html": [
              "\n",
              "  <div id=\"df-89621b94-9b6d-4784-b7e1-6f916183efa8\">\n",
              "    <div class=\"colab-df-container\">\n",
              "      <div>\n",
              "<style scoped>\n",
              "    .dataframe tbody tr th:only-of-type {\n",
              "        vertical-align: middle;\n",
              "    }\n",
              "\n",
              "    .dataframe tbody tr th {\n",
              "        vertical-align: top;\n",
              "    }\n",
              "\n",
              "    .dataframe thead th {\n",
              "        text-align: right;\n",
              "    }\n",
              "</style>\n",
              "<table border=\"1\" class=\"dataframe\">\n",
              "  <thead>\n",
              "    <tr style=\"text-align: right;\">\n",
              "      <th></th>\n",
              "      <th>title</th>\n",
              "      <th>distributor</th>\n",
              "      <th>genre</th>\n",
              "      <th>release_time</th>\n",
              "      <th>time</th>\n",
              "      <th>screening_rat</th>\n",
              "      <th>director</th>\n",
              "      <th>dir_prev_bfnum</th>\n",
              "      <th>dir_prev_num</th>\n",
              "      <th>num_staff</th>\n",
              "      <th>num_actor</th>\n",
              "      <th>box_off_num</th>\n",
              "    </tr>\n",
              "  </thead>\n",
              "  <tbody>\n",
              "    <tr>\n",
              "      <th>0</th>\n",
              "      <td>개들의 전쟁</td>\n",
              "      <td>롯데엔터테인먼트</td>\n",
              "      <td>액션</td>\n",
              "      <td>2012-11-22</td>\n",
              "      <td>96</td>\n",
              "      <td>청소년 관람불가</td>\n",
              "      <td>조병옥</td>\n",
              "      <td>NaN</td>\n",
              "      <td>0</td>\n",
              "      <td>91</td>\n",
              "      <td>2</td>\n",
              "      <td>23398</td>\n",
              "    </tr>\n",
              "    <tr>\n",
              "      <th>1</th>\n",
              "      <td>내부자들</td>\n",
              "      <td>(주)쇼박스</td>\n",
              "      <td>느와르</td>\n",
              "      <td>2015-11-19</td>\n",
              "      <td>130</td>\n",
              "      <td>청소년 관람불가</td>\n",
              "      <td>우민호</td>\n",
              "      <td>1161602.50</td>\n",
              "      <td>2</td>\n",
              "      <td>387</td>\n",
              "      <td>3</td>\n",
              "      <td>7072501</td>\n",
              "    </tr>\n",
              "    <tr>\n",
              "      <th>2</th>\n",
              "      <td>은밀하게 위대하게</td>\n",
              "      <td>(주)쇼박스</td>\n",
              "      <td>액션</td>\n",
              "      <td>2013-06-05</td>\n",
              "      <td>123</td>\n",
              "      <td>15세 관람가</td>\n",
              "      <td>장철수</td>\n",
              "      <td>220775.25</td>\n",
              "      <td>4</td>\n",
              "      <td>343</td>\n",
              "      <td>4</td>\n",
              "      <td>6959083</td>\n",
              "    </tr>\n",
              "    <tr>\n",
              "      <th>3</th>\n",
              "      <td>나는 공무원이다</td>\n",
              "      <td>(주)NEW</td>\n",
              "      <td>코미디</td>\n",
              "      <td>2012-07-12</td>\n",
              "      <td>101</td>\n",
              "      <td>전체 관람가</td>\n",
              "      <td>구자홍</td>\n",
              "      <td>23894.00</td>\n",
              "      <td>2</td>\n",
              "      <td>20</td>\n",
              "      <td>6</td>\n",
              "      <td>217866</td>\n",
              "    </tr>\n",
              "    <tr>\n",
              "      <th>4</th>\n",
              "      <td>불량남녀</td>\n",
              "      <td>쇼박스(주)미디어플렉스</td>\n",
              "      <td>코미디</td>\n",
              "      <td>2010-11-04</td>\n",
              "      <td>108</td>\n",
              "      <td>15세 관람가</td>\n",
              "      <td>신근호</td>\n",
              "      <td>1.00</td>\n",
              "      <td>1</td>\n",
              "      <td>251</td>\n",
              "      <td>2</td>\n",
              "      <td>483387</td>\n",
              "    </tr>\n",
              "  </tbody>\n",
              "</table>\n",
              "</div>\n",
              "      <button class=\"colab-df-convert\" onclick=\"convertToInteractive('df-89621b94-9b6d-4784-b7e1-6f916183efa8')\"\n",
              "              title=\"Convert this dataframe to an interactive table.\"\n",
              "              style=\"display:none;\">\n",
              "        \n",
              "  <svg xmlns=\"http://www.w3.org/2000/svg\" height=\"24px\"viewBox=\"0 0 24 24\"\n",
              "       width=\"24px\">\n",
              "    <path d=\"M0 0h24v24H0V0z\" fill=\"none\"/>\n",
              "    <path d=\"M18.56 5.44l.94 2.06.94-2.06 2.06-.94-2.06-.94-.94-2.06-.94 2.06-2.06.94zm-11 1L8.5 8.5l.94-2.06 2.06-.94-2.06-.94L8.5 2.5l-.94 2.06-2.06.94zm10 10l.94 2.06.94-2.06 2.06-.94-2.06-.94-.94-2.06-.94 2.06-2.06.94z\"/><path d=\"M17.41 7.96l-1.37-1.37c-.4-.4-.92-.59-1.43-.59-.52 0-1.04.2-1.43.59L10.3 9.45l-7.72 7.72c-.78.78-.78 2.05 0 2.83L4 21.41c.39.39.9.59 1.41.59.51 0 1.02-.2 1.41-.59l7.78-7.78 2.81-2.81c.8-.78.8-2.07 0-2.86zM5.41 20L4 18.59l7.72-7.72 1.47 1.35L5.41 20z\"/>\n",
              "  </svg>\n",
              "      </button>\n",
              "      \n",
              "  <style>\n",
              "    .colab-df-container {\n",
              "      display:flex;\n",
              "      flex-wrap:wrap;\n",
              "      gap: 12px;\n",
              "    }\n",
              "\n",
              "    .colab-df-convert {\n",
              "      background-color: #E8F0FE;\n",
              "      border: none;\n",
              "      border-radius: 50%;\n",
              "      cursor: pointer;\n",
              "      display: none;\n",
              "      fill: #1967D2;\n",
              "      height: 32px;\n",
              "      padding: 0 0 0 0;\n",
              "      width: 32px;\n",
              "    }\n",
              "\n",
              "    .colab-df-convert:hover {\n",
              "      background-color: #E2EBFA;\n",
              "      box-shadow: 0px 1px 2px rgba(60, 64, 67, 0.3), 0px 1px 3px 1px rgba(60, 64, 67, 0.15);\n",
              "      fill: #174EA6;\n",
              "    }\n",
              "\n",
              "    [theme=dark] .colab-df-convert {\n",
              "      background-color: #3B4455;\n",
              "      fill: #D2E3FC;\n",
              "    }\n",
              "\n",
              "    [theme=dark] .colab-df-convert:hover {\n",
              "      background-color: #434B5C;\n",
              "      box-shadow: 0px 1px 3px 1px rgba(0, 0, 0, 0.15);\n",
              "      filter: drop-shadow(0px 1px 2px rgba(0, 0, 0, 0.3));\n",
              "      fill: #FFFFFF;\n",
              "    }\n",
              "  </style>\n",
              "\n",
              "      <script>\n",
              "        const buttonEl =\n",
              "          document.querySelector('#df-89621b94-9b6d-4784-b7e1-6f916183efa8 button.colab-df-convert');\n",
              "        buttonEl.style.display =\n",
              "          google.colab.kernel.accessAllowed ? 'block' : 'none';\n",
              "\n",
              "        async function convertToInteractive(key) {\n",
              "          const element = document.querySelector('#df-89621b94-9b6d-4784-b7e1-6f916183efa8');\n",
              "          const dataTable =\n",
              "            await google.colab.kernel.invokeFunction('convertToInteractive',\n",
              "                                                     [key], {});\n",
              "          if (!dataTable) return;\n",
              "\n",
              "          const docLinkHtml = 'Like what you see? Visit the ' +\n",
              "            '<a target=\"_blank\" href=https://colab.research.google.com/notebooks/data_table.ipynb>data table notebook</a>'\n",
              "            + ' to learn more about interactive tables.';\n",
              "          element.innerHTML = '';\n",
              "          dataTable['output_type'] = 'display_data';\n",
              "          await google.colab.output.renderOutput(dataTable, element);\n",
              "          const docLink = document.createElement('div');\n",
              "          docLink.innerHTML = docLinkHtml;\n",
              "          element.appendChild(docLink);\n",
              "        }\n",
              "      </script>\n",
              "    </div>\n",
              "  </div>\n",
              "  "
            ]
          },
          "metadata": {},
          "execution_count": 12
        }
      ],
      "source": [
        "train.head()"
      ]
    },
    {
      "cell_type": "code",
      "execution_count": 13,
      "metadata": {
        "colab": {
          "base_uri": "https://localhost:8080/"
        },
        "id": "XgRK1bK_urU_",
        "outputId": "c49893c8-811c-4f91-8d6f-2bb336dfd473"
      },
      "outputs": [
        {
          "output_type": "execute_result",
          "data": {
            "text/plain": [
              "드라마       221\n",
              "다큐멘터리      93\n",
              "멜로/로맨스     78\n",
              "코미디        53\n",
              "공포         42\n",
              "액션         28\n",
              "느와르        27\n",
              "애니메이션      21\n",
              "미스터리       17\n",
              "SF         13\n",
              "뮤지컬         5\n",
              "서스펜스        2\n",
              "Name: genre, dtype: int64"
            ]
          },
          "metadata": {},
          "execution_count": 13
        }
      ],
      "source": [
        "train.genre.value_counts() # 시각화"
      ]
    },
    {
      "cell_type": "code",
      "execution_count": 14,
      "metadata": {
        "colab": {
          "base_uri": "https://localhost:8080/",
          "height": 279
        },
        "id": "4yB0wepUwebi",
        "outputId": "83400a4f-3361-4ba2-f8a8-6ebd8452c3a6"
      },
      "outputs": [
        {
          "output_type": "display_data",
          "data": {
            "text/plain": [
              "<Figure size 432x288 with 1 Axes>"
            ],
            "image/png": "[encoded data removed]"
          },
          "metadata": {
            "needs_background": "light"
          }
        }
      ],
      "source": [
        "sns.countplot(y = 'genre', data = train)\n",
        "plt.show()"
      ]
    },
    {
      "cell_type": "code",
      "execution_count": 15,
      "metadata": {
        "colab": {
          "base_uri": "https://localhost:8080/"
        },
        "id": "xNcZ8VMcvza2",
        "outputId": "2a66861c-a88d-42e7-ff62-e938dcff699a"
      },
      "outputs": [
        {
          "output_type": "execute_result",
          "data": {
            "text/plain": [
              "청소년 관람불가    204\n",
              "15세 관람가     202\n",
              "12세 관람가     102\n",
              "전체 관람가       92\n",
              "Name: screening_rat, dtype: int64"
            ]
          },
          "metadata": {},
          "execution_count": 15
        }
      ],
      "source": [
        "train.screening_rat.value_counts()"
      ]
    },
    {
      "cell_type": "code",
      "execution_count": 16,
      "metadata": {
        "colab": {
          "base_uri": "https://localhost:8080/",
          "height": 279
        },
        "id": "xyVukjUWxOfb",
        "outputId": "c9832686-57bb-41be-af15-fb13f3201b20"
      },
      "outputs": [
        {
          "output_type": "display_data",
          "data": {
            "text/plain": [
              "<Figure size 432x288 with 1 Axes>"
            ],
            "image/png": "[encoded data removed]"
          },
          "metadata": {
            "needs_background": "light"
          }
        }
      ],
      "source": [
        "sns.countplot(y = 'screening_rat', data = train)\n",
        "plt.show()"
      ]
    },
    {
      "cell_type": "code",
      "execution_count": 17,
      "metadata": {
        "colab": {
          "base_uri": "https://localhost:8080/"
        },
        "id": "sWv5J1Ayv6Bf",
        "outputId": "8131f091-0164-49e7-d59e-089484e3e0ac"
      },
      "outputs": [
        {
          "output_type": "execute_result",
          "data": {
            "text/plain": [
              "홍상수           7\n",
              "장률            4\n",
              "신재호           4\n",
              "우민호           4\n",
              "노진수           4\n",
              "             ..\n",
              "권오광           1\n",
              "한윤선           1\n",
              "박찬경           1\n",
              "New Pistol    1\n",
              "백운학           1\n",
              "Name: director, Length: 472, dtype: int64"
            ]
          },
          "metadata": {},
          "execution_count": 17
        }
      ],
      "source": [
        "train['director'].value_counts()"
      ]
    },
    {
      "cell_type": "code",
      "execution_count": 18,
      "metadata": {
        "colab": {
          "base_uri": "https://localhost:8080/"
        },
        "id": "B_UI-HhOwFAx",
        "outputId": "9a4af415-8a8b-4d5f-ab18-f5ec6404a860"
      },
      "outputs": [
        {
          "output_type": "execute_result",
          "data": {
            "text/plain": [
              "CJ 엔터테인먼트        54\n",
              "롯데엔터테인먼트         52\n",
              "(주)NEW           30\n",
              "(주)마운틴픽쳐스        29\n",
              "(주)쇼박스           26\n",
              "                 ..\n",
              "OAL(올)            1\n",
              "(주)에이원 엔터테인먼트     1\n",
              "(주)콘텐츠 윙          1\n",
              "위더스필름             1\n",
              "퍼스트런              1\n",
              "Name: distributor, Length: 169, dtype: int64"
            ]
          },
          "metadata": {},
          "execution_count": 18
        }
      ],
      "source": [
        "train['distributor'].value_counts()"
      ]
    },
    {
      "cell_type": "code",
      "execution_count": 19,
      "metadata": {
        "colab": {
          "base_uri": "https://localhost:8080/",
          "height": 363
        },
        "id": "J0wAO-gj-yN2",
        "outputId": "7f811c6c-d78c-4508-c109-d7a980419944"
      },
      "outputs": [
        {
          "output_type": "execute_result",
          "data": {
            "text/plain": [
              "            title distributor genre release_time  time screening_rat director  \\\n",
              "372          국제시장   CJ 엔터테인먼트   드라마   2014-12-17   126       12세 관람가      윤제균   \n",
              "362           도둑들      (주)쇼박스   느와르   2012-07-25   135       15세 관람가      최동훈   \n",
              "530       7번방의 선물      (주)NEW   코미디   2013-01-23   127       15세 관람가      이환경   \n",
              "498            암살      (주)쇼박스    액션   2015-07-22   139       15세 관람가      최동훈   \n",
              "460   광해, 왕이 된 남자   CJ 엔터테인먼트   드라마   2012-09-13   131       15세 관람가      추창민   \n",
              "122           변호인      (주)NEW   드라마   2013-12-18   127       15세 관람가      양우석   \n",
              "496          설국열차   CJ 엔터테인먼트    SF   2013-08-01   125       15세 관람가      봉준호   \n",
              "101            관상      (주)쇼박스   드라마   2013-09-11   139       15세 관람가      한재림   \n",
              "505  해적: 바다로 간 산적    롯데엔터테인먼트    SF   2014-08-06   130       12세 관람가      이석훈   \n",
              "476        수상한 그녀   CJ 엔터테인먼트   코미디   2014-01-22   124       15세 관람가      황동혁   \n",
              "\n",
              "     dir_prev_bfnum  dir_prev_num  num_staff  num_actor  box_off_num  \n",
              "372             NaN             0        869          4     14262766  \n",
              "362    2.564692e+06             3        462         10     12983841  \n",
              "530    8.190495e+05             2        300          8     12811435  \n",
              "498    5.169479e+06             4        628          3     12706663  \n",
              "460    1.552541e+06             2        402          3     12323595  \n",
              "122             NaN             0        311          5     11374879  \n",
              "496             NaN             0         67         10      9350351  \n",
              "101    1.242778e+06             2        298          6      9135806  \n",
              "505    1.843895e+06             3        868          2      8666208  \n",
              "476    2.781990e+06             2        437          5      8659725  "
            ],
            "text/html": [
              "\n",
              "  <div id=\"df-e05aa979-2e73-47a0-a414-0028c21d6431\">\n",
              "    <div class=\"colab-df-container\">\n",
              "      <div>\n",
              "<style scoped>\n",
              "    .dataframe tbody tr th:only-of-type {\n",
              "        vertical-align: middle;\n",
              "    }\n",
              "\n",
              "    .dataframe tbody tr th {\n",
              "        vertical-align: top;\n",
              "    }\n",
              "\n",
              "    .dataframe thead th {\n",
              "        text-align: right;\n",
              "    }\n",
              "</style>\n",
              "<table border=\"1\" class=\"dataframe\">\n",
              "  <thead>\n",
              "    <tr style=\"text-align: right;\">\n",
              "      <th></th>\n",
              "      <th>title</th>\n",
              "      <th>distributor</th>\n",
              "      <th>genre</th>\n",
              "      <th>release_time</th>\n",
              "      <th>time</th>\n",
              "      <th>screening_rat</th>\n",
              "      <th>director</th>\n",
              "      <th>dir_prev_bfnum</th>\n",
              "      <th>dir_prev_num</th>\n",
              "      <th>num_staff</th>\n",
              "      <th>num_actor</th>\n",
              "      <th>box_off_num</th>\n",
              "    </tr>\n",
              "  </thead>\n",
              "  <tbody>\n",
              "    <tr>\n",
              "      <th>372</th>\n",
              "      <td>국제시장</td>\n",
              "      <td>CJ 엔터테인먼트</td>\n",
              "      <td>드라마</td>\n",
              "      <td>2014-12-17</td>\n",
              "      <td>126</td>\n",
              "      <td>12세 관람가</td>\n",
              "      <td>윤제균</td>\n",
              "      <td>NaN</td>\n",
              "      <td>0</td>\n",
              "      <td>869</td>\n",
              "      <td>4</td>\n",
              "      <td>14262766</td>\n",
              "    </tr>\n",
              "    <tr>\n",
              "      <th>362</th>\n",
              "      <td>도둑들</td>\n",
              "      <td>(주)쇼박스</td>\n",
              "      <td>느와르</td>\n",
              "      <td>2012-07-25</td>\n",
              "      <td>135</td>\n",
              "      <td>15세 관람가</td>\n",
              "      <td>최동훈</td>\n",
              "      <td>2.564692e+06</td>\n",
              "      <td>3</td>\n",
              "      <td>462</td>\n",
              "      <td>10</td>\n",
              "      <td>12983841</td>\n",
              "    </tr>\n",
              "    <tr>\n",
              "      <th>530</th>\n",
              "      <td>7번방의 선물</td>\n",
              "      <td>(주)NEW</td>\n",
              "      <td>코미디</td>\n",
              "      <td>2013-01-23</td>\n",
              "      <td>127</td>\n",
              "      <td>15세 관람가</td>\n",
              "      <td>이환경</td>\n",
              "      <td>8.190495e+05</td>\n",
              "      <td>2</td>\n",
              "      <td>300</td>\n",
              "      <td>8</td>\n",
              "      <td>12811435</td>\n",
              "    </tr>\n",
              "    <tr>\n",
              "      <th>498</th>\n",
              "      <td>암살</td>\n",
              "      <td>(주)쇼박스</td>\n",
              "      <td>액션</td>\n",
              "      <td>2015-07-22</td>\n",
              "      <td>139</td>\n",
              "      <td>15세 관람가</td>\n",
              "      <td>최동훈</td>\n",
              "      <td>5.169479e+06</td>\n",
              "      <td>4</td>\n",
              "      <td>628</td>\n",
              "      <td>3</td>\n",
              "      <td>12706663</td>\n",
              "    </tr>\n",
              "    <tr>\n",
              "      <th>460</th>\n",
              "      <td>광해, 왕이 된 남자</td>\n",
              "      <td>CJ 엔터테인먼트</td>\n",
              "      <td>드라마</td>\n",
              "      <td>2012-09-13</td>\n",
              "      <td>131</td>\n",
              "      <td>15세 관람가</td>\n",
              "      <td>추창민</td>\n",
              "      <td>1.552541e+06</td>\n",
              "      <td>2</td>\n",
              "      <td>402</td>\n",
              "      <td>3</td>\n",
              "      <td>12323595</td>\n",
              "    </tr>\n",
              "    <tr>\n",
              "      <th>122</th>\n",
              "      <td>변호인</td>\n",
              "      <td>(주)NEW</td>\n",
              "      <td>드라마</td>\n",
              "      <td>2013-12-18</td>\n",
              "      <td>127</td>\n",
              "      <td>15세 관람가</td>\n",
              "      <td>양우석</td>\n",
              "      <td>NaN</td>\n",
              "      <td>0</td>\n",
              "      <td>311</td>\n",
              "      <td>5</td>\n",
              "      <td>11374879</td>\n",
              "    </tr>\n",
              "    <tr>\n",
              "      <th>496</th>\n",
              "      <td>설국열차</td>\n",
              "      <td>CJ 엔터테인먼트</td>\n",
              "      <td>SF</td>\n",
              "      <td>2013-08-01</td>\n",
              "      <td>125</td>\n",
              "      <td>15세 관람가</td>\n",
              "      <td>봉준호</td>\n",
              "      <td>NaN</td>\n",
              "      <td>0</td>\n",
              "      <td>67</td>\n",
              "      <td>10</td>\n",
              "      <td>9350351</td>\n",
              "    </tr>\n",
              "    <tr>\n",
              "      <th>101</th>\n",
              "      <td>관상</td>\n",
              "      <td>(주)쇼박스</td>\n",
              "      <td>드라마</td>\n",
              "      <td>2013-09-11</td>\n",
              "      <td>139</td>\n",
              "      <td>15세 관람가</td>\n",
              "      <td>한재림</td>\n",
              "      <td>1.242778e+06</td>\n",
              "      <td>2</td>\n",
              "      <td>298</td>\n",
              "      <td>6</td>\n",
              "      <td>9135806</td>\n",
              "    </tr>\n",
              "    <tr>\n",
              "      <th>505</th>\n",
              "      <td>해적: 바다로 간 산적</td>\n",
              "      <td>롯데엔터테인먼트</td>\n",
              "      <td>SF</td>\n",
              "      <td>2014-08-06</td>\n",
              "      <td>130</td>\n",
              "      <td>12세 관람가</td>\n",
              "      <td>이석훈</td>\n",
              "      <td>1.843895e+06</td>\n",
              "      <td>3</td>\n",
              "      <td>868</td>\n",
              "      <td>2</td>\n",
              "      <td>8666208</td>\n",
              "    </tr>\n",
              "    <tr>\n",
              "      <th>476</th>\n",
              "      <td>수상한 그녀</td>\n",
              "      <td>CJ 엔터테인먼트</td>\n",
              "      <td>코미디</td>\n",
              "      <td>2014-01-22</td>\n",
              "      <td>124</td>\n",
              "      <td>15세 관람가</td>\n",
              "      <td>황동혁</td>\n",
              "      <td>2.781990e+06</td>\n",
              "      <td>2</td>\n",
              "      <td>437</td>\n",
              "      <td>5</td>\n",
              "      <td>8659725</td>\n",
              "    </tr>\n",
              "  </tbody>\n",
              "</table>\n",
              "</div>\n",
              "      <button class=\"colab-df-convert\" onclick=\"convertToInteractive('df-e05aa979-2e73-47a0-a414-0028c21d6431')\"\n",
              "              title=\"Convert this dataframe to an interactive table.\"\n",
              "              style=\"display:none;\">\n",
              "        \n",
              "  <svg xmlns=\"http://www.w3.org/2000/svg\" height=\"24px\"viewBox=\"0 0 24 24\"\n",
              "       width=\"24px\">\n",
              "    <path d=\"M0 0h24v24H0V0z\" fill=\"none\"/>\n",
              "    <path d=\"M18.56 5.44l.94 2.06.94-2.06 2.06-.94-2.06-.94-.94-2.06-.94 2.06-2.06.94zm-11 1L8.5 8.5l.94-2.06 2.06-.94-2.06-.94L8.5 2.5l-.94 2.06-2.06.94zm10 10l.94 2.06.94-2.06 2.06-.94-2.06-.94-.94-2.06-.94 2.06-2.06.94z\"/><path d=\"M17.41 7.96l-1.37-1.37c-.4-.4-.92-.59-1.43-.59-.52 0-1.04.2-1.43.59L10.3 9.45l-7.72 7.72c-.78.78-.78 2.05 0 2.83L4 21.41c.39.39.9.59 1.41.59.51 0 1.02-.2 1.41-.59l7.78-7.78 2.81-2.81c.8-.78.8-2.07 0-2.86zM5.41 20L4 18.59l7.72-7.72 1.47 1.35L5.41 20z\"/>\n",
              "  </svg>\n",
              "      </button>\n",
              "      \n",
              "  <style>\n",
              "    .colab-df-container {\n",
              "      display:flex;\n",
              "      flex-wrap:wrap;\n",
              "      gap: 12px;\n",
              "    }\n",
              "\n",
              "    .colab-df-convert {\n",
              "      background-color: #E8F0FE;\n",
              "      border: none;\n",
              "      border-radius: 50%;\n",
              "      cursor: pointer;\n",
              "      display: none;\n",
              "      fill: #1967D2;\n",
              "      height: 32px;\n",
              "      padding: 0 0 0 0;\n",
              "      width: 32px;\n",
              "    }\n",
              "\n",
              "    .colab-df-convert:hover {\n",
              "      background-color: #E2EBFA;\n",
              "      box-shadow: 0px 1px 2px rgba(60, 64, 67, 0.3), 0px 1px 3px 1px rgba(60, 64, 67, 0.15);\n",
              "      fill: #174EA6;\n",
              "    }\n",
              "\n",
              "    [theme=dark] .colab-df-convert {\n",
              "      background-color: #3B4455;\n",
              "      fill: #D2E3FC;\n",
              "    }\n",
              "\n",
              "    [theme=dark] .colab-df-convert:hover {\n",
              "      background-color: #434B5C;\n",
              "      box-shadow: 0px 1px 3px 1px rgba(0, 0, 0, 0.15);\n",
              "      filter: drop-shadow(0px 1px 2px rgba(0, 0, 0, 0.3));\n",
              "      fill: #FFFFFF;\n",
              "    }\n",
              "  </style>\n",
              "\n",
              "      <script>\n",
              "        const buttonEl =\n",
              "          document.querySelector('#df-e05aa979-2e73-47a0-a414-0028c21d6431 button.colab-df-convert');\n",
              "        buttonEl.style.display =\n",
              "          google.colab.kernel.accessAllowed ? 'block' : 'none';\n",
              "\n",
              "        async function convertToInteractive(key) {\n",
              "          const element = document.querySelector('#df-e05aa979-2e73-47a0-a414-0028c21d6431');\n",
              "          const dataTable =\n",
              "            await google.colab.kernel.invokeFunction('convertToInteractive',\n",
              "                                                     [key], {});\n",
              "          if (!dataTable) return;\n",
              "\n",
              "          const docLinkHtml = 'Like what you see? Visit the ' +\n",
              "            '<a target=\"_blank\" href=https://colab.research.google.com/notebooks/data_table.ipynb>data table notebook</a>'\n",
              "            + ' to learn more about interactive tables.';\n",
              "          element.innerHTML = '';\n",
              "          dataTable['output_type'] = 'display_data';\n",
              "          await google.colab.output.renderOutput(dataTable, element);\n",
              "          const docLink = document.createElement('div');\n",
              "          docLink.innerHTML = docLinkHtml;\n",
              "          element.appendChild(docLink);\n",
              "        }\n",
              "      </script>\n",
              "    </div>\n",
              "  </div>\n",
              "  "
            ]
          },
          "metadata": {},
          "execution_count": 19
        }
      ],
      "source": [
        "# 관람객 수별 TOP \n",
        "train.sort_values('box_off_num', ascending = False ).head(10)"
      ]
    },
    {
      "cell_type": "markdown",
      "metadata": {
        "id": "JGn5SsKIxiCI"
      },
      "source": [
        "## 연속형 변수의 시각화 "
      ]
    },
    {
      "cell_type": "code",
      "execution_count": 20,
      "metadata": {
        "id": "BEjN-i5awODR"
      },
      "outputs": [],
      "source": [
        "int_cat_list = ['time',\t'dir_prev_bfnum',\t'dir_prev_num',\t'num_staff'\t,'num_actor'\t,'box_off_num']"
      ]
    },
    {
      "cell_type": "code",
      "execution_count": 21,
      "metadata": {
        "colab": {
          "base_uri": "https://localhost:8080/",
          "height": 932
        },
        "id": "XJ_FONPFxxO6",
        "outputId": "600a101c-794d-47bb-fb60-02dc71f2dac9"
      },
      "outputs": [
        {
          "output_type": "display_data",
          "data": {
            "text/plain": [
              "<Figure size 1440x1152 with 6 Axes>"
            ],
            "image/png": "[encoded data removed]"
          },
          "metadata": {
            "needs_background": "light"
          }
        }
      ],
      "source": [
        "fig, ax = plt.subplots(2,3 , figsize = (20,16))\n",
        "for idx, val in enumerate(int_cat_list) :\n",
        "    i = idx // 3\n",
        "    j = idx % 3\n",
        "    sns.histplot(data= train, x = val, ax=ax[i,j])\n",
        "\n",
        "plt.show()"
      ]
    },
    {
      "cell_type": "code",
      "execution_count": 22,
      "metadata": {
        "colab": {
          "base_uri": "https://localhost:8080/"
        },
        "id": "JXlPNY_t11XY",
        "outputId": "27cb96ba-eec7-41e9-d67b-84e759b67bef"
      },
      "outputs": [
        {
          "output_type": "execute_result",
          "data": {
            "text/plain": [
              "0    330\n",
              "Name: dir_prev_num, dtype: int64"
            ]
          },
          "metadata": {},
          "execution_count": 22
        }
      ],
      "source": [
        "#NaN 값 확인 \n",
        "train[train['dir_prev_bfnum'].isnull()].dir_prev_num.value_counts()\n",
        "# >> dir_prev_bfnum의 nan값은 dir_prev_num이 다 0 >> 그럼 전처리때 다 0으로 치환해야지"
      ]
    },
    {
      "cell_type": "markdown",
      "metadata": {
        "id": "IS5WcMfe1SUZ"
      },
      "source": [
        "## 관객수와의 상관관계 확인"
      ]
    },
    {
      "cell_type": "markdown",
      "metadata": {
        "id": "GCsCZwbW1VHA"
      },
      "source": [
        "### 카테고리별 관객수 평균"
      ]
    },
    {
      "cell_type": "code",
      "execution_count": 23,
      "metadata": {
        "colab": {
          "base_uri": "https://localhost:8080/",
          "height": 293
        },
        "id": "Ks2Dv-pr1W_x",
        "outputId": "9b130cb8-7052-4609-8815-b4d6583e0b43"
      },
      "outputs": [
        {
          "output_type": "display_data",
          "data": {
            "text/plain": [
              "<Figure size 432x288 with 1 Axes>"
            ],
            "image/png": "[encoded data removed]"
          },
          "metadata": {
            "needs_background": "light"
          }
        }
      ],
      "source": [
        "# 배급사별 관객수 평균 TOP 10 \n",
        "top10_distributor = train.groupby('distributor')['box_off_num'].mean().sort_values(ascending = False).head(10)\n",
        "sns.barplot(y = top10_distributor.index, x = top10_distributor.values)\n",
        "\n",
        "plt.title('관객수TOP10 배급사(평균) ')\n",
        "plt.show()"
      ]
    },
    {
      "cell_type": "code",
      "execution_count": 24,
      "metadata": {
        "colab": {
          "base_uri": "https://localhost:8080/",
          "height": 293
        },
        "id": "RadC9ank2e_o",
        "outputId": "e2c11576-a36a-4a4f-f4a2-bafa74da37c9"
      },
      "outputs": [
        {
          "output_type": "display_data",
          "data": {
            "text/plain": [
              "<Figure size 432x288 with 1 Axes>"
            ],
            "image/png": "[encoded data removed]"
          },
          "metadata": {
            "needs_background": "light"
          }
        }
      ],
      "source": [
        "sort_by_genre = train.groupby('genre')['box_off_num'].mean().sort_values(ascending = False)\n",
        "sns.barplot(y = sort_by_genre.index, x = sort_by_genre.values)\n",
        "\n",
        "plt.title ('장르별 관객 평균')\n",
        "plt.show()"
      ]
    },
    {
      "cell_type": "code",
      "execution_count": 25,
      "metadata": {
        "colab": {
          "base_uri": "https://localhost:8080/",
          "height": 293
        },
        "id": "yKFCw7r22-6c",
        "outputId": "15e1ab9f-d4c7-4397-9065-fd1be4d567f4"
      },
      "outputs": [
        {
          "output_type": "display_data",
          "data": {
            "text/plain": [
              "<Figure size 432x288 with 1 Axes>"
            ],
            "image/png": "[encoded data removed]"
          },
          "metadata": {
            "needs_background": "light"
          }
        }
      ],
      "source": [
        "sort_by_sr = train.groupby('screening_rat')['box_off_num'].mean().sort_values(ascending = False)\n",
        "sns.barplot(y = sort_by_sr.index, x = sort_by_sr.values)\n",
        "\n",
        "plt.title ('상영등급별 관객수 평균')\n",
        "plt.show()"
      ]
    },
    {
      "cell_type": "code",
      "execution_count": 26,
      "metadata": {
        "colab": {
          "base_uri": "https://localhost:8080/",
          "height": 293
        },
        "id": "N0ryKhno3t3E",
        "outputId": "85ebbdd5-5a08-4218-b1a0-02b6903c7fce"
      },
      "outputs": [
        {
          "output_type": "display_data",
          "data": {
            "text/plain": [
              "<Figure size 432x288 with 1 Axes>"
            ],
            "image/png": "[encoded data removed]"
          },
          "metadata": {
            "needs_background": "light"
          }
        }
      ],
      "source": [
        "top10_by_director = train.groupby('director')['box_off_num'].mean().sort_values(ascending = False).head(10)\n",
        "sns.barplot(y = top10_by_director.index, x = top10_by_director.values)\n",
        "\n",
        "plt.title ('감독별 관객수 평균')\n",
        "plt.show()"
      ]
    },
    {
      "cell_type": "code",
      "execution_count": 27,
      "metadata": {
        "colab": {
          "base_uri": "https://localhost:8080/"
        },
        "id": "8gxT2xVV4hyh",
        "outputId": "c1e34b36-bca3-40d2-e9ce-cd8685d2eccc"
      },
      "outputs": [
        {
          "output_type": "stream",
          "name": "stdout",
          "text": [
            "<class 'pandas.core.frame.DataFrame'>\n",
            "RangeIndex: 600 entries, 0 to 599\n",
            "Data columns (total 12 columns):\n",
            " #   Column          Non-Null Count  Dtype         \n",
            "---  ------          --------------  -----         \n",
            " 0   title           600 non-null    object        \n",
            " 1   distributor     600 non-null    object        \n",
            " 2   genre           600 non-null    object        \n",
            " 3   release_time    600 non-null    datetime64[ns]\n",
            " 4   time            600 non-null    int64         \n",
            " 5   screening_rat   600 non-null    object        \n",
            " 6   director        600 non-null    object        \n",
            " 7   dir_prev_bfnum  270 non-null    float64       \n",
            " 8   dir_prev_num    600 non-null    int64         \n",
            " 9   num_staff       600 non-null    int64         \n",
            " 10  num_actor       600 non-null    int64         \n",
            " 11  box_off_num     600 non-null    int64         \n",
            "dtypes: datetime64[ns](1), float64(1), int64(5), object(5)\n",
            "memory usage: 56.4+ KB\n"
          ]
        }
      ],
      "source": [
        "# 연도별, 월별, 분기별 차이 \n",
        "# 1. data frame에서 release-time을 date타입으로 변환\n",
        "train['release_time'] = pd.to_datetime(train.release_time)\n",
        "train.info() # >>확인 완."
      ]
    },
    {
      "cell_type": "code",
      "execution_count": 28,
      "metadata": {
        "id": "8Ww5EYU06bOb"
      },
      "outputs": [],
      "source": [
        "# 1. copy본으로 release_time을 인덱스화시켜서 시각화하기 \n",
        "timecheck_df = train.copy()\n",
        "time_idx = timecheck_df.set_index('release_time') # index에 넣어주기 "
      ]
    },
    {
      "cell_type": "code",
      "execution_count": 29,
      "metadata": {
        "id": "b3dGrhYU6_s0"
      },
      "outputs": [],
      "source": [
        "permonth = time_idx.resample('M')['box_off_num'].mean().sort_values(ascending = False) #month기준으로 평균내기 \n",
        "peryear = time_idx.resample('Y')['box_off_num'].mean().sort_values(ascending = False) #month기준으로 평균내기 \n",
        "perquarter = time_idx.resample('Q')['box_off_num'].mean().sort_values(ascending = False) #month기준으로 평균내기 "
      ]
    },
    {
      "cell_type": "code",
      "execution_count": 30,
      "metadata": {
        "colab": {
          "base_uri": "https://localhost:8080/"
        },
        "id": "9SPe01sD7SlG",
        "outputId": "01577f46-941b-46ae-be4e-078db8f73033"
      },
      "outputs": [
        {
          "output_type": "stream",
          "name": "stdout",
          "text": [
            "release_time\n",
            "2013-01-31    4.994967e+06\n",
            "2013-12-31    2.207371e+06\n",
            "2012-09-30    2.037369e+06\n",
            "2012-07-31    2.029377e+06\n",
            "2011-01-31    1.883352e+06\n",
            "2011-05-31    1.882165e+06\n",
            "2014-12-31    1.737643e+06\n",
            "2010-08-31    1.670543e+06\n",
            "2013-06-30    1.649990e+06\n",
            "2013-08-31    1.645495e+06\n",
            "2012-02-29    1.612600e+06\n",
            "2012-12-31    1.533205e+06\n",
            "2014-01-31    1.493329e+06\n",
            "2015-07-31    1.361066e+06\n",
            "2011-08-31    1.325143e+06\n",
            "2010-12-31    1.119561e+06\n",
            "2012-01-31    1.040174e+06\n",
            "2015-11-30    1.039520e+06\n",
            "2013-09-30    1.033184e+06\n",
            "2010-06-30    9.995810e+05\n",
            "Name: box_off_num, dtype: float64\n"
          ]
        }
      ],
      "source": [
        "print(permonth.head(20))"
      ]
    },
    {
      "cell_type": "code",
      "execution_count": 31,
      "metadata": {
        "colab": {
          "base_uri": "https://localhost:8080/",
          "height": 512
        },
        "id": "-YjuB8xP7kf3",
        "outputId": "c05cc782-980f-4fde-b55d-af83308c19b8"
      },
      "outputs": [
        {
          "output_type": "display_data",
          "data": {
            "text/plain": [
              "<Figure size 720x576 with 1 Axes>"
            ],
            "image/png": "[encoded data removed]"
          },
          "metadata": {
            "needs_background": "light"
          }
        }
      ],
      "source": [
        "plt.figure(figsize = (10,8))\n",
        "sns.lineplot(x = permonth.index, y = permonth.values, marker = 'o')\n",
        "plt.title('월별 관객수 평균 추이')\n",
        "plt.show()\n",
        "# >>연초(1월), 방학(7~8월), 연말 (12월)에 많이 보는군"
      ]
    },
    {
      "cell_type": "markdown",
      "metadata": {
        "id": "RJ_uGCvB-OYM"
      },
      "source": [
        "> Q. 월별기준으로 하고싶은데, 월(month)가 어떤 영향을 미치는지 정확히 어떻게 설명할 수 있을까 ? "
      ]
    },
    {
      "cell_type": "code",
      "execution_count": 32,
      "metadata": {
        "colab": {
          "base_uri": "https://localhost:8080/",
          "height": 294
        },
        "id": "ZFNavsQR8Sox",
        "outputId": "a8294440-780c-47fa-a613-6cea645a9c3e"
      },
      "outputs": [
        {
          "output_type": "display_data",
          "data": {
            "text/plain": [
              "<Figure size 432x288 with 1 Axes>"
            ],
            "image/png": "[encoded data removed]"
          },
          "metadata": {
            "needs_background": "light"
          }
        }
      ],
      "source": [
        "sns.lineplot(x = peryear.index, y = peryear.values, marker = 'o')\n",
        "plt.title('연도별 관객수 평균 추이')\n",
        "plt.show()"
      ]
    },
    {
      "cell_type": "markdown",
      "metadata": {
        "id": "tBladQA3t0rz"
      },
      "source": [
        "> 영화값 가격 인상, 좌석별 차등 요금 도입 등..이런부분이 있지만, 연도가 그렇게 상관이 있을것 같진 않다 "
      ]
    },
    {
      "cell_type": "markdown",
      "metadata": {
        "id": "TEul1efV8wrt"
      },
      "source": [
        "### 숫자형 변수와 관객수의 상관관계 "
      ]
    },
    {
      "cell_type": "code",
      "execution_count": 33,
      "metadata": {
        "colab": {
          "base_uri": "https://localhost:8080/",
          "height": 1000
        },
        "id": "Kyo5hKt382C-",
        "outputId": "24a3177e-76c7-4b4b-84a7-cadd5c214eaa"
      },
      "outputs": [
        {
          "output_type": "display_data",
          "data": {
            "text/plain": [
              "<Figure size 1080x1080 with 27 Axes>"
            ],
            "image/png": "[encoded data removed]"
          },
          "metadata": {
            "needs_background": "light"
          }
        }
      ],
      "source": [
        "# 관계 없을듯..?\n",
        "sns.pairplot(data = train, corner= True)\n",
        "plt.show()"
      ]
    },
    {
      "cell_type": "markdown",
      "metadata": {
        "id": "z85o5HS8zXjn"
      },
      "source": [
        "# 전처리"
      ]
    },
    {
      "cell_type": "markdown",
      "source": [
        "### 공통 전처리 "
      ],
      "metadata": {
        "id": "E-jcO1UxNERq"
      }
    },
    {
      "cell_type": "markdown",
      "metadata": {
        "id": "AFcN47XP0Baw"
      },
      "source": [
        "1. 기본 전처리\n",
        " * null 처리\n",
        " * column 삭제 - title , 감독 \n",
        " * release_time : year/ month 로 파생변수 처리 그리고 기존 date-time은 삭제 \n",
        " * get-dummies : genre / screening \n",
        " * distributor : 상위 10개 빼곤 다 기타처리 (그냥 라벨링하려니까 안맞음) \n",
        "\n",
        "2. 바꿔볼 전처리 \n",
        " * 라벨링 or get dummies : distributor \n",
        " * dir_prev_bf_num * dir_prev_num -> 파생변수 or 그대로 둘지 "
      ]
    },
    {
      "cell_type": "markdown",
      "source": [
        "* 전과 다른 점 : train / test 를 안합치고 전처리 "
      ],
      "metadata": {
        "id": "B_rn_2HYIxcP"
      }
    },
    {
      "cell_type": "code",
      "source": [
        "train = pd.read_csv(train_path)\n",
        "test = pd.read_csv(movies_test_path)\n",
        "submission = pd.read_csv(submission_path)"
      ],
      "metadata": {
        "id": "oSJ89utHHMDh"
      },
      "execution_count": 271,
      "outputs": []
    },
    {
      "cell_type": "code",
      "source": [
        "# NaN 값 처리 . \n",
        "train['dir_prev_bfnum'].fillna(0, inplace = True)\n",
        "test['dir_prev_bfnum'].fillna(0, inplace = True)\n",
        "\n",
        "# + inplace = True 할 경우, \"0으로 채우고 저장\"한다는 뜻. "
      ],
      "metadata": {
        "id": "tM7b6jRa1TTi"
      },
      "execution_count": 272,
      "outputs": []
    },
    {
      "cell_type": "code",
      "source": [
        "# colum 삭제 \n",
        "train = train.drop(columns= ['title', 'director'])\n",
        "test = test.drop(columns= ['title', 'director'])"
      ],
      "metadata": {
        "id": "9pYpplGK1ijf"
      },
      "execution_count": 273,
      "outputs": []
    },
    {
      "cell_type": "code",
      "source": [
        "# 상위 10개 배급사 제외하고 나머지 다 기타로 처리 ... 라벨링할때 문제 생겨서 \n",
        "train.loc[~train.distributor.isin(top10_distributor.index),:'distributor'][:5]\n",
        "# >> list에 포함하지 않는 데이터행들만 추출하고 싶다면 앞에 ~ 를 붙이면 된다. "
      ],
      "metadata": {
        "colab": {
          "base_uri": "https://localhost:8080/",
          "height": 206
        },
        "id": "NDhUKy-a4-6K",
        "outputId": "59d12769-a99e-4053-b47a-afc583e29ad0"
      },
      "execution_count": 274,
      "outputs": [
        {
          "output_type": "execute_result",
          "data": {
            "text/plain": [
              "       distributor\n",
              "0         롯데엔터테인먼트\n",
              "5         롯데엔터테인먼트\n",
              "6             백두대간\n",
              "8  유니버설픽쳐스인터내셔널코리아\n",
              "9           (주)두타연"
            ],
            "text/html": [
              "\n",
              "  <div id=\"df-29aed750-b3d3-41ed-8feb-b4b6ef6b7619\">\n",
              "    <div class=\"colab-df-container\">\n",
              "      <div>\n",
              "<style scoped>\n",
              "    .dataframe tbody tr th:only-of-type {\n",
              "        vertical-align: middle;\n",
              "    }\n",
              "\n",
              "    .dataframe tbody tr th {\n",
              "        vertical-align: top;\n",
              "    }\n",
              "\n",
              "    .dataframe thead th {\n",
              "        text-align: right;\n",
              "    }\n",
              "</style>\n",
              "<table border=\"1\" class=\"dataframe\">\n",
              "  <thead>\n",
              "    <tr style=\"text-align: right;\">\n",
              "      <th></th>\n",
              "      <th>distributor</th>\n",
              "    </tr>\n",
              "  </thead>\n",
              "  <tbody>\n",
              "    <tr>\n",
              "      <th>0</th>\n",
              "      <td>롯데엔터테인먼트</td>\n",
              "    </tr>\n",
              "    <tr>\n",
              "      <th>5</th>\n",
              "      <td>롯데엔터테인먼트</td>\n",
              "    </tr>\n",
              "    <tr>\n",
              "      <th>6</th>\n",
              "      <td>백두대간</td>\n",
              "    </tr>\n",
              "    <tr>\n",
              "      <th>8</th>\n",
              "      <td>유니버설픽쳐스인터내셔널코리아</td>\n",
              "    </tr>\n",
              "    <tr>\n",
              "      <th>9</th>\n",
              "      <td>(주)두타연</td>\n",
              "    </tr>\n",
              "  </tbody>\n",
              "</table>\n",
              "</div>\n",
              "      <button class=\"colab-df-convert\" onclick=\"convertToInteractive('df-29aed750-b3d3-41ed-8feb-b4b6ef6b7619')\"\n",
              "              title=\"Convert this dataframe to an interactive table.\"\n",
              "              style=\"display:none;\">\n",
              "        \n",
              "  <svg xmlns=\"http://www.w3.org/2000/svg\" height=\"24px\"viewBox=\"0 0 24 24\"\n",
              "       width=\"24px\">\n",
              "    <path d=\"M0 0h24v24H0V0z\" fill=\"none\"/>\n",
              "    <path d=\"M18.56 5.44l.94 2.06.94-2.06 2.06-.94-2.06-.94-.94-2.06-.94 2.06-2.06.94zm-11 1L8.5 8.5l.94-2.06 2.06-.94-2.06-.94L8.5 2.5l-.94 2.06-2.06.94zm10 10l.94 2.06.94-2.06 2.06-.94-2.06-.94-.94-2.06-.94 2.06-2.06.94z\"/><path d=\"M17.41 7.96l-1.37-1.37c-.4-.4-.92-.59-1.43-.59-.52 0-1.04.2-1.43.59L10.3 9.45l-7.72 7.72c-.78.78-.78 2.05 0 2.83L4 21.41c.39.39.9.59 1.41.59.51 0 1.02-.2 1.41-.59l7.78-7.78 2.81-2.81c.8-.78.8-2.07 0-2.86zM5.41 20L4 18.59l7.72-7.72 1.47 1.35L5.41 20z\"/>\n",
              "  </svg>\n",
              "      </button>\n",
              "      \n",
              "  <style>\n",
              "    .colab-df-container {\n",
              "      display:flex;\n",
              "      flex-wrap:wrap;\n",
              "      gap: 12px;\n",
              "    }\n",
              "\n",
              "    .colab-df-convert {\n",
              "      background-color: #E8F0FE;\n",
              "      border: none;\n",
              "      border-radius: 50%;\n",
              "      cursor: pointer;\n",
              "      display: none;\n",
              "      fill: #1967D2;\n",
              "      height: 32px;\n",
              "      padding: 0 0 0 0;\n",
              "      width: 32px;\n",
              "    }\n",
              "\n",
              "    .colab-df-convert:hover {\n",
              "      background-color: #E2EBFA;\n",
              "      box-shadow: 0px 1px 2px rgba(60, 64, 67, 0.3), 0px 1px 3px 1px rgba(60, 64, 67, 0.15);\n",
              "      fill: #174EA6;\n",
              "    }\n",
              "\n",
              "    [theme=dark] .colab-df-convert {\n",
              "      background-color: #3B4455;\n",
              "      fill: #D2E3FC;\n",
              "    }\n",
              "\n",
              "    [theme=dark] .colab-df-convert:hover {\n",
              "      background-color: #434B5C;\n",
              "      box-shadow: 0px 1px 3px 1px rgba(0, 0, 0, 0.15);\n",
              "      filter: drop-shadow(0px 1px 2px rgba(0, 0, 0, 0.3));\n",
              "      fill: #FFFFFF;\n",
              "    }\n",
              "  </style>\n",
              "\n",
              "      <script>\n",
              "        const buttonEl =\n",
              "          document.querySelector('#df-29aed750-b3d3-41ed-8feb-b4b6ef6b7619 button.colab-df-convert');\n",
              "        buttonEl.style.display =\n",
              "          google.colab.kernel.accessAllowed ? 'block' : 'none';\n",
              "\n",
              "        async function convertToInteractive(key) {\n",
              "          const element = document.querySelector('#df-29aed750-b3d3-41ed-8feb-b4b6ef6b7619');\n",
              "          const dataTable =\n",
              "            await google.colab.kernel.invokeFunction('convertToInteractive',\n",
              "                                                     [key], {});\n",
              "          if (!dataTable) return;\n",
              "\n",
              "          const docLinkHtml = 'Like what you see? Visit the ' +\n",
              "            '<a target=\"_blank\" href=https://colab.research.google.com/notebooks/data_table.ipynb>data table notebook</a>'\n",
              "            + ' to learn more about interactive tables.';\n",
              "          element.innerHTML = '';\n",
              "          dataTable['output_type'] = 'display_data';\n",
              "          await google.colab.output.renderOutput(dataTable, element);\n",
              "          const docLink = document.createElement('div');\n",
              "          docLink.innerHTML = docLinkHtml;\n",
              "          element.appendChild(docLink);\n",
              "        }\n",
              "      </script>\n",
              "    </div>\n",
              "  </div>\n",
              "  "
            ]
          },
          "metadata": {},
          "execution_count": 274
        }
      ]
    },
    {
      "cell_type": "code",
      "source": [
        "train.loc[~train.distributor.isin(top10_distributor.index),:'distributor'] = '기타'"
      ],
      "metadata": {
        "id": "wBmmfQv5C6nN"
      },
      "execution_count": 275,
      "outputs": []
    },
    {
      "cell_type": "code",
      "source": [
        "def func(disributor) : \n",
        "    if distributor in top10_distributor : \n",
        "        return distributor \n",
        "    else : \n",
        "        return \"기타\"\n",
        "\n",
        "train['distributor'] = train['distributor'].apply(lambda x : fun(x))"
      ],
      "metadata": {
        "id": "LogGJ9ptfiDY"
      },
      "execution_count": null,
      "outputs": []
    },
    {
      "cell_type": "markdown",
      "source": [
        "민희님 코드 \n",
        "\n",
        " distributor 배급사 상위 5개 제외 모두 기타로 처리\n",
        "distributor_list = train.distributor.value_counts()[:5]\n",
        "def func(distributor):\n",
        "    if distributor in distributor_list:\n",
        "        return distributor\n",
        "    else:\n",
        "        return '기타'\n",
        "\n",
        "train['distributor'] = train['distributor'].apply(lambda x : func(x))\n",
        "test['distributor'] = test['distributor'].apply(lambda x : func(x))"
      ],
      "metadata": {
        "id": "5k0vpGM8UGwa"
      }
    },
    {
      "cell_type": "code",
      "source": [
        "train.distributor.value_counts()"
      ],
      "metadata": {
        "colab": {
          "base_uri": "https://localhost:8080/"
        },
        "id": "eJbeFT6DC9Fs",
        "outputId": "7b51bf0a-671c-4332-fb1e-281b9a88ffcb"
      },
      "execution_count": 276,
      "outputs": [
        {
          "output_type": "execute_result",
          "data": {
            "text/plain": [
              "기타                 477\n",
              "CJ 엔터테인먼트           54\n",
              "(주)NEW              30\n",
              "(주)쇼박스              26\n",
              "CJ E&M 영화부문          3\n",
              "이십세기폭스코리아(주)         3\n",
              "쇼박스(주)미디어플렉스         2\n",
              "CJ E&M Pictures      2\n",
              "영구아트무비               1\n",
              "(주)아이필름코퍼레이션         1\n",
              "SK텔레콤(주)             1\n",
              "Name: distributor, dtype: int64"
            ]
          },
          "metadata": {},
          "execution_count": 276
        }
      ]
    },
    {
      "cell_type": "code",
      "source": [
        "# test도 같이 진행 \n",
        "test.loc[~test.distributor.isin(top10_distributor.index),:'distributor'] = '기타'"
      ],
      "metadata": {
        "id": "mL72jLf9DID_"
      },
      "execution_count": 277,
      "outputs": []
    },
    {
      "cell_type": "code",
      "source": [
        "train.head()"
      ],
      "metadata": {
        "colab": {
          "base_uri": "https://localhost:8080/",
          "height": 206
        },
        "id": "AgY0DupCHsUN",
        "outputId": "8e4f04f2-dd6e-4f03-c0f4-beccdabf8a25"
      },
      "execution_count": 278,
      "outputs": [
        {
          "output_type": "execute_result",
          "data": {
            "text/plain": [
              "    distributor genre release_time  time screening_rat  dir_prev_bfnum  \\\n",
              "0            기타    액션   2012-11-22    96      청소년 관람불가            0.00   \n",
              "1        (주)쇼박스   느와르   2015-11-19   130      청소년 관람불가      1161602.50   \n",
              "2        (주)쇼박스    액션   2013-06-05   123       15세 관람가       220775.25   \n",
              "3        (주)NEW   코미디   2012-07-12   101        전체 관람가        23894.00   \n",
              "4  쇼박스(주)미디어플렉스   코미디   2010-11-04   108       15세 관람가            1.00   \n",
              "\n",
              "   dir_prev_num  num_staff  num_actor  box_off_num  \n",
              "0             0         91          2        23398  \n",
              "1             2        387          3      7072501  \n",
              "2             4        343          4      6959083  \n",
              "3             2         20          6       217866  \n",
              "4             1        251          2       483387  "
            ],
            "text/html": [
              "\n",
              "  <div id=\"df-19b401f9-d494-4084-8d57-343f6767d55b\">\n",
              "    <div class=\"colab-df-container\">\n",
              "      <div>\n",
              "<style scoped>\n",
              "    .dataframe tbody tr th:only-of-type {\n",
              "        vertical-align: middle;\n",
              "    }\n",
              "\n",
              "    .dataframe tbody tr th {\n",
              "        vertical-align: top;\n",
              "    }\n",
              "\n",
              "    .dataframe thead th {\n",
              "        text-align: right;\n",
              "    }\n",
              "</style>\n",
              "<table border=\"1\" class=\"dataframe\">\n",
              "  <thead>\n",
              "    <tr style=\"text-align: right;\">\n",
              "      <th></th>\n",
              "      <th>distributor</th>\n",
              "      <th>genre</th>\n",
              "      <th>release_time</th>\n",
              "      <th>time</th>\n",
              "      <th>screening_rat</th>\n",
              "      <th>dir_prev_bfnum</th>\n",
              "      <th>dir_prev_num</th>\n",
              "      <th>num_staff</th>\n",
              "      <th>num_actor</th>\n",
              "      <th>box_off_num</th>\n",
              "    </tr>\n",
              "  </thead>\n",
              "  <tbody>\n",
              "    <tr>\n",
              "      <th>0</th>\n",
              "      <td>기타</td>\n",
              "      <td>액션</td>\n",
              "      <td>2012-11-22</td>\n",
              "      <td>96</td>\n",
              "      <td>청소년 관람불가</td>\n",
              "      <td>0.00</td>\n",
              "      <td>0</td>\n",
              "      <td>91</td>\n",
              "      <td>2</td>\n",
              "      <td>23398</td>\n",
              "    </tr>\n",
              "    <tr>\n",
              "      <th>1</th>\n",
              "      <td>(주)쇼박스</td>\n",
              "      <td>느와르</td>\n",
              "      <td>2015-11-19</td>\n",
              "      <td>130</td>\n",
              "      <td>청소년 관람불가</td>\n",
              "      <td>1161602.50</td>\n",
              "      <td>2</td>\n",
              "      <td>387</td>\n",
              "      <td>3</td>\n",
              "      <td>7072501</td>\n",
              "    </tr>\n",
              "    <tr>\n",
              "      <th>2</th>\n",
              "      <td>(주)쇼박스</td>\n",
              "      <td>액션</td>\n",
              "      <td>2013-06-05</td>\n",
              "      <td>123</td>\n",
              "      <td>15세 관람가</td>\n",
              "      <td>220775.25</td>\n",
              "      <td>4</td>\n",
              "      <td>343</td>\n",
              "      <td>4</td>\n",
              "      <td>6959083</td>\n",
              "    </tr>\n",
              "    <tr>\n",
              "      <th>3</th>\n",
              "      <td>(주)NEW</td>\n",
              "      <td>코미디</td>\n",
              "      <td>2012-07-12</td>\n",
              "      <td>101</td>\n",
              "      <td>전체 관람가</td>\n",
              "      <td>23894.00</td>\n",
              "      <td>2</td>\n",
              "      <td>20</td>\n",
              "      <td>6</td>\n",
              "      <td>217866</td>\n",
              "    </tr>\n",
              "    <tr>\n",
              "      <th>4</th>\n",
              "      <td>쇼박스(주)미디어플렉스</td>\n",
              "      <td>코미디</td>\n",
              "      <td>2010-11-04</td>\n",
              "      <td>108</td>\n",
              "      <td>15세 관람가</td>\n",
              "      <td>1.00</td>\n",
              "      <td>1</td>\n",
              "      <td>251</td>\n",
              "      <td>2</td>\n",
              "      <td>483387</td>\n",
              "    </tr>\n",
              "  </tbody>\n",
              "</table>\n",
              "</div>\n",
              "      <button class=\"colab-df-convert\" onclick=\"convertToInteractive('df-19b401f9-d494-4084-8d57-343f6767d55b')\"\n",
              "              title=\"Convert this dataframe to an interactive table.\"\n",
              "              style=\"display:none;\">\n",
              "        \n",
              "  <svg xmlns=\"http://www.w3.org/2000/svg\" height=\"24px\"viewBox=\"0 0 24 24\"\n",
              "       width=\"24px\">\n",
              "    <path d=\"M0 0h24v24H0V0z\" fill=\"none\"/>\n",
              "    <path d=\"M18.56 5.44l.94 2.06.94-2.06 2.06-.94-2.06-.94-.94-2.06-.94 2.06-2.06.94zm-11 1L8.5 8.5l.94-2.06 2.06-.94-2.06-.94L8.5 2.5l-.94 2.06-2.06.94zm10 10l.94 2.06.94-2.06 2.06-.94-2.06-.94-.94-2.06-.94 2.06-2.06.94z\"/><path d=\"M17.41 7.96l-1.37-1.37c-.4-.4-.92-.59-1.43-.59-.52 0-1.04.2-1.43.59L10.3 9.45l-7.72 7.72c-.78.78-.78 2.05 0 2.83L4 21.41c.39.39.9.59 1.41.59.51 0 1.02-.2 1.41-.59l7.78-7.78 2.81-2.81c.8-.78.8-2.07 0-2.86zM5.41 20L4 18.59l7.72-7.72 1.47 1.35L5.41 20z\"/>\n",
              "  </svg>\n",
              "      </button>\n",
              "      \n",
              "  <style>\n",
              "    .colab-df-container {\n",
              "      display:flex;\n",
              "      flex-wrap:wrap;\n",
              "      gap: 12px;\n",
              "    }\n",
              "\n",
              "    .colab-df-convert {\n",
              "      background-color: #E8F0FE;\n",
              "      border: none;\n",
              "      border-radius: 50%;\n",
              "      cursor: pointer;\n",
              "      display: none;\n",
              "      fill: #1967D2;\n",
              "      height: 32px;\n",
              "      padding: 0 0 0 0;\n",
              "      width: 32px;\n",
              "    }\n",
              "\n",
              "    .colab-df-convert:hover {\n",
              "      background-color: #E2EBFA;\n",
              "      box-shadow: 0px 1px 2px rgba(60, 64, 67, 0.3), 0px 1px 3px 1px rgba(60, 64, 67, 0.15);\n",
              "      fill: #174EA6;\n",
              "    }\n",
              "\n",
              "    [theme=dark] .colab-df-convert {\n",
              "      background-color: #3B4455;\n",
              "      fill: #D2E3FC;\n",
              "    }\n",
              "\n",
              "    [theme=dark] .colab-df-convert:hover {\n",
              "      background-color: #434B5C;\n",
              "      box-shadow: 0px 1px 3px 1px rgba(0, 0, 0, 0.15);\n",
              "      filter: drop-shadow(0px 1px 2px rgba(0, 0, 0, 0.3));\n",
              "      fill: #FFFFFF;\n",
              "    }\n",
              "  </style>\n",
              "\n",
              "      <script>\n",
              "        const buttonEl =\n",
              "          document.querySelector('#df-19b401f9-d494-4084-8d57-343f6767d55b button.colab-df-convert');\n",
              "        buttonEl.style.display =\n",
              "          google.colab.kernel.accessAllowed ? 'block' : 'none';\n",
              "\n",
              "        async function convertToInteractive(key) {\n",
              "          const element = document.querySelector('#df-19b401f9-d494-4084-8d57-343f6767d55b');\n",
              "          const dataTable =\n",
              "            await google.colab.kernel.invokeFunction('convertToInteractive',\n",
              "                                                     [key], {});\n",
              "          if (!dataTable) return;\n",
              "\n",
              "          const docLinkHtml = 'Like what you see? Visit the ' +\n",
              "            '<a target=\"_blank\" href=https://colab.research.google.com/notebooks/data_table.ipynb>data table notebook</a>'\n",
              "            + ' to learn more about interactive tables.';\n",
              "          element.innerHTML = '';\n",
              "          dataTable['output_type'] = 'display_data';\n",
              "          await google.colab.output.renderOutput(dataTable, element);\n",
              "          const docLink = document.createElement('div');\n",
              "          docLink.innerHTML = docLinkHtml;\n",
              "          element.appendChild(docLink);\n",
              "        }\n",
              "      </script>\n",
              "    </div>\n",
              "  </div>\n",
              "  "
            ]
          },
          "metadata": {},
          "execution_count": 278
        }
      ]
    },
    {
      "cell_type": "code",
      "source": [
        "#release_time : year/ month 로 파생변수 처리 그리고 기존 date-time은 삭제\n",
        "train['year'] = train['release_time'].str[:4].astype('int')\n",
        "train['month'] = train['release_time'].str[5:7].astype('int')"
      ],
      "metadata": {
        "id": "ZKC26HTvJ_Fx"
      },
      "execution_count": 279,
      "outputs": []
    },
    {
      "cell_type": "code",
      "source": [
        "# test에도 적용 \n",
        "test['year'] = test['release_time'].str[:4].astype('int')\n",
        "test['month'] = test['release_time'].str[5:7].astype('int')"
      ],
      "metadata": {
        "id": "M1iyaBS7KYDW"
      },
      "execution_count": 280,
      "outputs": []
    },
    {
      "cell_type": "code",
      "source": [
        "test.head(3)"
      ],
      "metadata": {
        "colab": {
          "base_uri": "https://localhost:8080/",
          "height": 143
        },
        "id": "eukeAh6sKp8S",
        "outputId": "f5386c20-5f68-421e-9283-5350ea6f216c"
      },
      "execution_count": 281,
      "outputs": [
        {
          "output_type": "execute_result",
          "data": {
            "text/plain": [
              "  distributor   genre release_time  time screening_rat  dir_prev_bfnum  \\\n",
              "0          기타     느와르   2010-01-07   125      청소년 관람불가    3.005290e+05   \n",
              "1      (주)쇼박스  멜로/로맨스   2010-01-14   113       12세 관람가    3.427002e+05   \n",
              "2   CJ 엔터테인먼트     드라마   2010-01-28   115       12세 관람가    4.206611e+06   \n",
              "\n",
              "   dir_prev_num  num_staff  num_actor  year  month  \n",
              "0             2        304          3  2010      1  \n",
              "1             4        275          3  2010      1  \n",
              "2             3        419          7  2010      1  "
            ],
            "text/html": [
              "\n",
              "  <div id=\"df-bc5924fa-e3c1-4994-bde8-e054f5e3d06f\">\n",
              "    <div class=\"colab-df-container\">\n",
              "      <div>\n",
              "<style scoped>\n",
              "    .dataframe tbody tr th:only-of-type {\n",
              "        vertical-align: middle;\n",
              "    }\n",
              "\n",
              "    .dataframe tbody tr th {\n",
              "        vertical-align: top;\n",
              "    }\n",
              "\n",
              "    .dataframe thead th {\n",
              "        text-align: right;\n",
              "    }\n",
              "</style>\n",
              "<table border=\"1\" class=\"dataframe\">\n",
              "  <thead>\n",
              "    <tr style=\"text-align: right;\">\n",
              "      <th></th>\n",
              "      <th>distributor</th>\n",
              "      <th>genre</th>\n",
              "      <th>release_time</th>\n",
              "      <th>time</th>\n",
              "      <th>screening_rat</th>\n",
              "      <th>dir_prev_bfnum</th>\n",
              "      <th>dir_prev_num</th>\n",
              "      <th>num_staff</th>\n",
              "      <th>num_actor</th>\n",
              "      <th>year</th>\n",
              "      <th>month</th>\n",
              "    </tr>\n",
              "  </thead>\n",
              "  <tbody>\n",
              "    <tr>\n",
              "      <th>0</th>\n",
              "      <td>기타</td>\n",
              "      <td>느와르</td>\n",
              "      <td>2010-01-07</td>\n",
              "      <td>125</td>\n",
              "      <td>청소년 관람불가</td>\n",
              "      <td>3.005290e+05</td>\n",
              "      <td>2</td>\n",
              "      <td>304</td>\n",
              "      <td>3</td>\n",
              "      <td>2010</td>\n",
              "      <td>1</td>\n",
              "    </tr>\n",
              "    <tr>\n",
              "      <th>1</th>\n",
              "      <td>(주)쇼박스</td>\n",
              "      <td>멜로/로맨스</td>\n",
              "      <td>2010-01-14</td>\n",
              "      <td>113</td>\n",
              "      <td>12세 관람가</td>\n",
              "      <td>3.427002e+05</td>\n",
              "      <td>4</td>\n",
              "      <td>275</td>\n",
              "      <td>3</td>\n",
              "      <td>2010</td>\n",
              "      <td>1</td>\n",
              "    </tr>\n",
              "    <tr>\n",
              "      <th>2</th>\n",
              "      <td>CJ 엔터테인먼트</td>\n",
              "      <td>드라마</td>\n",
              "      <td>2010-01-28</td>\n",
              "      <td>115</td>\n",
              "      <td>12세 관람가</td>\n",
              "      <td>4.206611e+06</td>\n",
              "      <td>3</td>\n",
              "      <td>419</td>\n",
              "      <td>7</td>\n",
              "      <td>2010</td>\n",
              "      <td>1</td>\n",
              "    </tr>\n",
              "  </tbody>\n",
              "</table>\n",
              "</div>\n",
              "      <button class=\"colab-df-convert\" onclick=\"convertToInteractive('df-bc5924fa-e3c1-4994-bde8-e054f5e3d06f')\"\n",
              "              title=\"Convert this dataframe to an interactive table.\"\n",
              "              style=\"display:none;\">\n",
              "        \n",
              "  <svg xmlns=\"http://www.w3.org/2000/svg\" height=\"24px\"viewBox=\"0 0 24 24\"\n",
              "       width=\"24px\">\n",
              "    <path d=\"M0 0h24v24H0V0z\" fill=\"none\"/>\n",
              "    <path d=\"M18.56 5.44l.94 2.06.94-2.06 2.06-.94-2.06-.94-.94-2.06-.94 2.06-2.06.94zm-11 1L8.5 8.5l.94-2.06 2.06-.94-2.06-.94L8.5 2.5l-.94 2.06-2.06.94zm10 10l.94 2.06.94-2.06 2.06-.94-2.06-.94-.94-2.06-.94 2.06-2.06.94z\"/><path d=\"M17.41 7.96l-1.37-1.37c-.4-.4-.92-.59-1.43-.59-.52 0-1.04.2-1.43.59L10.3 9.45l-7.72 7.72c-.78.78-.78 2.05 0 2.83L4 21.41c.39.39.9.59 1.41.59.51 0 1.02-.2 1.41-.59l7.78-7.78 2.81-2.81c.8-.78.8-2.07 0-2.86zM5.41 20L4 18.59l7.72-7.72 1.47 1.35L5.41 20z\"/>\n",
              "  </svg>\n",
              "      </button>\n",
              "      \n",
              "  <style>\n",
              "    .colab-df-container {\n",
              "      display:flex;\n",
              "      flex-wrap:wrap;\n",
              "      gap: 12px;\n",
              "    }\n",
              "\n",
              "    .colab-df-convert {\n",
              "      background-color: #E8F0FE;\n",
              "      border: none;\n",
              "      border-radius: 50%;\n",
              "      cursor: pointer;\n",
              "      display: none;\n",
              "      fill: #1967D2;\n",
              "      height: 32px;\n",
              "      padding: 0 0 0 0;\n",
              "      width: 32px;\n",
              "    }\n",
              "\n",
              "    .colab-df-convert:hover {\n",
              "      background-color: #E2EBFA;\n",
              "      box-shadow: 0px 1px 2px rgba(60, 64, 67, 0.3), 0px 1px 3px 1px rgba(60, 64, 67, 0.15);\n",
              "      fill: #174EA6;\n",
              "    }\n",
              "\n",
              "    [theme=dark] .colab-df-convert {\n",
              "      background-color: #3B4455;\n",
              "      fill: #D2E3FC;\n",
              "    }\n",
              "\n",
              "    [theme=dark] .colab-df-convert:hover {\n",
              "      background-color: #434B5C;\n",
              "      box-shadow: 0px 1px 3px 1px rgba(0, 0, 0, 0.15);\n",
              "      filter: drop-shadow(0px 1px 2px rgba(0, 0, 0, 0.3));\n",
              "      fill: #FFFFFF;\n",
              "    }\n",
              "  </style>\n",
              "\n",
              "      <script>\n",
              "        const buttonEl =\n",
              "          document.querySelector('#df-bc5924fa-e3c1-4994-bde8-e054f5e3d06f button.colab-df-convert');\n",
              "        buttonEl.style.display =\n",
              "          google.colab.kernel.accessAllowed ? 'block' : 'none';\n",
              "\n",
              "        async function convertToInteractive(key) {\n",
              "          const element = document.querySelector('#df-bc5924fa-e3c1-4994-bde8-e054f5e3d06f');\n",
              "          const dataTable =\n",
              "            await google.colab.kernel.invokeFunction('convertToInteractive',\n",
              "                                                     [key], {});\n",
              "          if (!dataTable) return;\n",
              "\n",
              "          const docLinkHtml = 'Like what you see? Visit the ' +\n",
              "            '<a target=\"_blank\" href=https://colab.research.google.com/notebooks/data_table.ipynb>data table notebook</a>'\n",
              "            + ' to learn more about interactive tables.';\n",
              "          element.innerHTML = '';\n",
              "          dataTable['output_type'] = 'display_data';\n",
              "          await google.colab.output.renderOutput(dataTable, element);\n",
              "          const docLink = document.createElement('div');\n",
              "          docLink.innerHTML = docLinkHtml;\n",
              "          element.appendChild(docLink);\n",
              "        }\n",
              "      </script>\n",
              "    </div>\n",
              "  </div>\n",
              "  "
            ]
          },
          "metadata": {},
          "execution_count": 281
        }
      ]
    },
    {
      "cell_type": "code",
      "source": [
        "train = train.drop(columns='release_time')\n",
        "test = test.drop(columns='release_time')"
      ],
      "metadata": {
        "id": "8MNquI-GK24s"
      },
      "execution_count": 282,
      "outputs": []
    },
    {
      "cell_type": "code",
      "source": [
        "#get-dummies : genre / screening\n",
        "train = pd.get_dummies(train, columns= ['genre', 'screening_rat'])\n",
        "test = pd.get_dummies(test, columns= ['genre', 'screening_rat'])"
      ],
      "metadata": {
        "id": "NUrLSMwWKzTA"
      },
      "execution_count": 283,
      "outputs": []
    },
    {
      "cell_type": "code",
      "source": [
        "train.head()"
      ],
      "metadata": {
        "colab": {
          "base_uri": "https://localhost:8080/",
          "height": 352
        },
        "id": "8Z-eLdR2LkpZ",
        "outputId": "d4bb2c7c-a45d-431f-f6a6-e8b0c48d0fbd"
      },
      "execution_count": 284,
      "outputs": [
        {
          "output_type": "execute_result",
          "data": {
            "text/plain": [
              "    distributor  time  dir_prev_bfnum  dir_prev_num  num_staff  num_actor  \\\n",
              "0            기타    96            0.00             0         91          2   \n",
              "1        (주)쇼박스   130      1161602.50             2        387          3   \n",
              "2        (주)쇼박스   123       220775.25             4        343          4   \n",
              "3        (주)NEW   101        23894.00             2         20          6   \n",
              "4  쇼박스(주)미디어플렉스   108            1.00             1        251          2   \n",
              "\n",
              "   box_off_num  year  month  genre_SF  ...  genre_뮤지컬  genre_미스터리  genre_서스펜스  \\\n",
              "0        23398  2012     11         0  ...          0           0           0   \n",
              "1      7072501  2015     11         0  ...          0           0           0   \n",
              "2      6959083  2013      6         0  ...          0           0           0   \n",
              "3       217866  2012      7         0  ...          0           0           0   \n",
              "4       483387  2010     11         0  ...          0           0           0   \n",
              "\n",
              "   genre_애니메이션  genre_액션  genre_코미디  screening_rat_12세 관람가  \\\n",
              "0            0         1          0                      0   \n",
              "1            0         0          0                      0   \n",
              "2            0         1          0                      0   \n",
              "3            0         0          1                      0   \n",
              "4            0         0          1                      0   \n",
              "\n",
              "   screening_rat_15세 관람가  screening_rat_전체 관람가  screening_rat_청소년 관람불가  \n",
              "0                      0                     0                       1  \n",
              "1                      0                     0                       1  \n",
              "2                      1                     0                       0  \n",
              "3                      0                     1                       0  \n",
              "4                      1                     0                       0  \n",
              "\n",
              "[5 rows x 25 columns]"
            ],
            "text/html": [
              "\n",
              "  <div id=\"df-2c9ef3af-d877-4f2f-a3fe-1893545702fb\">\n",
              "    <div class=\"colab-df-container\">\n",
              "      <div>\n",
              "<style scoped>\n",
              "    .dataframe tbody tr th:only-of-type {\n",
              "        vertical-align: middle;\n",
              "    }\n",
              "\n",
              "    .dataframe tbody tr th {\n",
              "        vertical-align: top;\n",
              "    }\n",
              "\n",
              "    .dataframe thead th {\n",
              "        text-align: right;\n",
              "    }\n",
              "</style>\n",
              "<table border=\"1\" class=\"dataframe\">\n",
              "  <thead>\n",
              "    <tr style=\"text-align: right;\">\n",
              "      <th></th>\n",
              "      <th>distributor</th>\n",
              "      <th>time</th>\n",
              "      <th>dir_prev_bfnum</th>\n",
              "      <th>dir_prev_num</th>\n",
              "      <th>num_staff</th>\n",
              "      <th>num_actor</th>\n",
              "      <th>box_off_num</th>\n",
              "      <th>year</th>\n",
              "      <th>month</th>\n",
              "      <th>genre_SF</th>\n",
              "      <th>...</th>\n",
              "      <th>genre_뮤지컬</th>\n",
              "      <th>genre_미스터리</th>\n",
              "      <th>genre_서스펜스</th>\n",
              "      <th>genre_애니메이션</th>\n",
              "      <th>genre_액션</th>\n",
              "      <th>genre_코미디</th>\n",
              "      <th>screening_rat_12세 관람가</th>\n",
              "      <th>screening_rat_15세 관람가</th>\n",
              "      <th>screening_rat_전체 관람가</th>\n",
              "      <th>screening_rat_청소년 관람불가</th>\n",
              "    </tr>\n",
              "  </thead>\n",
              "  <tbody>\n",
              "    <tr>\n",
              "      <th>0</th>\n",
              "      <td>기타</td>\n",
              "      <td>96</td>\n",
              "      <td>0.00</td>\n",
              "      <td>0</td>\n",
              "      <td>91</td>\n",
              "      <td>2</td>\n",
              "      <td>23398</td>\n",
              "      <td>2012</td>\n",
              "      <td>11</td>\n",
              "      <td>0</td>\n",
              "      <td>...</td>\n",
              "      <td>0</td>\n",
              "      <td>0</td>\n",
              "      <td>0</td>\n",
              "      <td>0</td>\n",
              "      <td>1</td>\n",
              "      <td>0</td>\n",
              "      <td>0</td>\n",
              "      <td>0</td>\n",
              "      <td>0</td>\n",
              "      <td>1</td>\n",
              "    </tr>\n",
              "    <tr>\n",
              "      <th>1</th>\n",
              "      <td>(주)쇼박스</td>\n",
              "      <td>130</td>\n",
              "      <td>1161602.50</td>\n",
              "      <td>2</td>\n",
              "      <td>387</td>\n",
              "      <td>3</td>\n",
              "      <td>7072501</td>\n",
              "      <td>2015</td>\n",
              "      <td>11</td>\n",
              "      <td>0</td>\n",
              "      <td>...</td>\n",
              "      <td>0</td>\n",
              "      <td>0</td>\n",
              "      <td>0</td>\n",
              "      <td>0</td>\n",
              "      <td>0</td>\n",
              "      <td>0</td>\n",
              "      <td>0</td>\n",
              "      <td>0</td>\n",
              "      <td>0</td>\n",
              "      <td>1</td>\n",
              "    </tr>\n",
              "    <tr>\n",
              "      <th>2</th>\n",
              "      <td>(주)쇼박스</td>\n",
              "      <td>123</td>\n",
              "      <td>220775.25</td>\n",
              "      <td>4</td>\n",
              "      <td>343</td>\n",
              "      <td>4</td>\n",
              "      <td>6959083</td>\n",
              "      <td>2013</td>\n",
              "      <td>6</td>\n",
              "      <td>0</td>\n",
              "      <td>...</td>\n",
              "      <td>0</td>\n",
              "      <td>0</td>\n",
              "      <td>0</td>\n",
              "      <td>0</td>\n",
              "      <td>1</td>\n",
              "      <td>0</td>\n",
              "      <td>0</td>\n",
              "      <td>1</td>\n",
              "      <td>0</td>\n",
              "      <td>0</td>\n",
              "    </tr>\n",
              "    <tr>\n",
              "      <th>3</th>\n",
              "      <td>(주)NEW</td>\n",
              "      <td>101</td>\n",
              "      <td>23894.00</td>\n",
              "      <td>2</td>\n",
              "      <td>20</td>\n",
              "      <td>6</td>\n",
              "      <td>217866</td>\n",
              "      <td>2012</td>\n",
              "      <td>7</td>\n",
              "      <td>0</td>\n",
              "      <td>...</td>\n",
              "      <td>0</td>\n",
              "      <td>0</td>\n",
              "      <td>0</td>\n",
              "      <td>0</td>\n",
              "      <td>0</td>\n",
              "      <td>1</td>\n",
              "      <td>0</td>\n",
              "      <td>0</td>\n",
              "      <td>1</td>\n",
              "      <td>0</td>\n",
              "    </tr>\n",
              "    <tr>\n",
              "      <th>4</th>\n",
              "      <td>쇼박스(주)미디어플렉스</td>\n",
              "      <td>108</td>\n",
              "      <td>1.00</td>\n",
              "      <td>1</td>\n",
              "      <td>251</td>\n",
              "      <td>2</td>\n",
              "      <td>483387</td>\n",
              "      <td>2010</td>\n",
              "      <td>11</td>\n",
              "      <td>0</td>\n",
              "      <td>...</td>\n",
              "      <td>0</td>\n",
              "      <td>0</td>\n",
              "      <td>0</td>\n",
              "      <td>0</td>\n",
              "      <td>0</td>\n",
              "      <td>1</td>\n",
              "      <td>0</td>\n",
              "      <td>1</td>\n",
              "      <td>0</td>\n",
              "      <td>0</td>\n",
              "    </tr>\n",
              "  </tbody>\n",
              "</table>\n",
              "<p>5 rows × 25 columns</p>\n",
              "</div>\n",
              "      <button class=\"colab-df-convert\" onclick=\"convertToInteractive('df-2c9ef3af-d877-4f2f-a3fe-1893545702fb')\"\n",
              "              title=\"Convert this dataframe to an interactive table.\"\n",
              "              style=\"display:none;\">\n",
              "        \n",
              "  <svg xmlns=\"http://www.w3.org/2000/svg\" height=\"24px\"viewBox=\"0 0 24 24\"\n",
              "       width=\"24px\">\n",
              "    <path d=\"M0 0h24v24H0V0z\" fill=\"none\"/>\n",
              "    <path d=\"M18.56 5.44l.94 2.06.94-2.06 2.06-.94-2.06-.94-.94-2.06-.94 2.06-2.06.94zm-11 1L8.5 8.5l.94-2.06 2.06-.94-2.06-.94L8.5 2.5l-.94 2.06-2.06.94zm10 10l.94 2.06.94-2.06 2.06-.94-2.06-.94-.94-2.06-.94 2.06-2.06.94z\"/><path d=\"M17.41 7.96l-1.37-1.37c-.4-.4-.92-.59-1.43-.59-.52 0-1.04.2-1.43.59L10.3 9.45l-7.72 7.72c-.78.78-.78 2.05 0 2.83L4 21.41c.39.39.9.59 1.41.59.51 0 1.02-.2 1.41-.59l7.78-7.78 2.81-2.81c.8-.78.8-2.07 0-2.86zM5.41 20L4 18.59l7.72-7.72 1.47 1.35L5.41 20z\"/>\n",
              "  </svg>\n",
              "      </button>\n",
              "      \n",
              "  <style>\n",
              "    .colab-df-container {\n",
              "      display:flex;\n",
              "      flex-wrap:wrap;\n",
              "      gap: 12px;\n",
              "    }\n",
              "\n",
              "    .colab-df-convert {\n",
              "      background-color: #E8F0FE;\n",
              "      border: none;\n",
              "      border-radius: 50%;\n",
              "      cursor: pointer;\n",
              "      display: none;\n",
              "      fill: #1967D2;\n",
              "      height: 32px;\n",
              "      padding: 0 0 0 0;\n",
              "      width: 32px;\n",
              "    }\n",
              "\n",
              "    .colab-df-convert:hover {\n",
              "      background-color: #E2EBFA;\n",
              "      box-shadow: 0px 1px 2px rgba(60, 64, 67, 0.3), 0px 1px 3px 1px rgba(60, 64, 67, 0.15);\n",
              "      fill: #174EA6;\n",
              "    }\n",
              "\n",
              "    [theme=dark] .colab-df-convert {\n",
              "      background-color: #3B4455;\n",
              "      fill: #D2E3FC;\n",
              "    }\n",
              "\n",
              "    [theme=dark] .colab-df-convert:hover {\n",
              "      background-color: #434B5C;\n",
              "      box-shadow: 0px 1px 3px 1px rgba(0, 0, 0, 0.15);\n",
              "      filter: drop-shadow(0px 1px 2px rgba(0, 0, 0, 0.3));\n",
              "      fill: #FFFFFF;\n",
              "    }\n",
              "  </style>\n",
              "\n",
              "      <script>\n",
              "        const buttonEl =\n",
              "          document.querySelector('#df-2c9ef3af-d877-4f2f-a3fe-1893545702fb button.colab-df-convert');\n",
              "        buttonEl.style.display =\n",
              "          google.colab.kernel.accessAllowed ? 'block' : 'none';\n",
              "\n",
              "        async function convertToInteractive(key) {\n",
              "          const element = document.querySelector('#df-2c9ef3af-d877-4f2f-a3fe-1893545702fb');\n",
              "          const dataTable =\n",
              "            await google.colab.kernel.invokeFunction('convertToInteractive',\n",
              "                                                     [key], {});\n",
              "          if (!dataTable) return;\n",
              "\n",
              "          const docLinkHtml = 'Like what you see? Visit the ' +\n",
              "            '<a target=\"_blank\" href=https://colab.research.google.com/notebooks/data_table.ipynb>data table notebook</a>'\n",
              "            + ' to learn more about interactive tables.';\n",
              "          element.innerHTML = '';\n",
              "          dataTable['output_type'] = 'display_data';\n",
              "          await google.colab.output.renderOutput(dataTable, element);\n",
              "          const docLink = document.createElement('div');\n",
              "          docLink.innerHTML = docLinkHtml;\n",
              "          element.appendChild(docLink);\n",
              "        }\n",
              "      </script>\n",
              "    </div>\n",
              "  </div>\n",
              "  "
            ]
          },
          "metadata": {},
          "execution_count": 284
        }
      ]
    },
    {
      "cell_type": "code",
      "source": [
        "# time 구간화 \n",
        "labels = [1.5,2.0,2.5]\n",
        "bins = [40, 90, 120, 2016]\n",
        "\n",
        "train['time'] = pd.cut(train.time, labels = labels, bins = bins, right=False )"
      ],
      "metadata": {
        "id": "_NhxOTqcLuGX"
      },
      "execution_count": 285,
      "outputs": []
    },
    {
      "cell_type": "code",
      "source": [
        "test['time'] = pd.cut(test.time, labels = labels, bins  =bins , right = False )"
      ],
      "metadata": {
        "id": "zkhnW-moMZj-"
      },
      "execution_count": 286,
      "outputs": []
    },
    {
      "cell_type": "code",
      "source": [
        "test.info()"
      ],
      "metadata": {
        "colab": {
          "base_uri": "https://localhost:8080/"
        },
        "id": "ufy9f9ZoAGwI",
        "outputId": "bbb6e2ae-4be4-4874-f006-48cb65b12670"
      },
      "execution_count": 287,
      "outputs": [
        {
          "output_type": "stream",
          "name": "stdout",
          "text": [
            "<class 'pandas.core.frame.DataFrame'>\n",
            "RangeIndex: 243 entries, 0 to 242\n",
            "Data columns (total 24 columns):\n",
            " #   Column                  Non-Null Count  Dtype   \n",
            "---  ------                  --------------  -----   \n",
            " 0   distributor             243 non-null    object  \n",
            " 1   time                    243 non-null    category\n",
            " 2   dir_prev_bfnum          243 non-null    float64 \n",
            " 3   dir_prev_num            243 non-null    int64   \n",
            " 4   num_staff               243 non-null    int64   \n",
            " 5   num_actor               243 non-null    int64   \n",
            " 6   year                    243 non-null    int64   \n",
            " 7   month                   243 non-null    int64   \n",
            " 8   genre_SF                243 non-null    uint8   \n",
            " 9   genre_공포                243 non-null    uint8   \n",
            " 10  genre_느와르               243 non-null    uint8   \n",
            " 11  genre_다큐멘터리             243 non-null    uint8   \n",
            " 12  genre_드라마               243 non-null    uint8   \n",
            " 13  genre_멜로/로맨스            243 non-null    uint8   \n",
            " 14  genre_뮤지컬               243 non-null    uint8   \n",
            " 15  genre_미스터리              243 non-null    uint8   \n",
            " 16  genre_서스펜스              243 non-null    uint8   \n",
            " 17  genre_애니메이션             243 non-null    uint8   \n",
            " 18  genre_액션                243 non-null    uint8   \n",
            " 19  genre_코미디               243 non-null    uint8   \n",
            " 20  screening_rat_12세 관람가   243 non-null    uint8   \n",
            " 21  screening_rat_15세 관람가   243 non-null    uint8   \n",
            " 22  screening_rat_전체 관람가    243 non-null    uint8   \n",
            " 23  screening_rat_청소년 관람불가  243 non-null    uint8   \n",
            "dtypes: category(1), float64(1), int64(5), object(1), uint8(16)\n",
            "memory usage: 17.6+ KB\n"
          ]
        }
      ]
    },
    {
      "cell_type": "markdown",
      "source": [
        "* astype('int') : 온전산 숫자타입을 다른 숫자 타입으로 바꿀 때 이용 (float -> int)\n",
        "* pd.to_numeric(df[' '])\n",
        "\n",
        "* to_numeric의 error 인자를 coerce로 설정할 경우 :  숫자로 변경할 수 없는 문자를 nan으로 변경하여 반환한다함."
      ],
      "metadata": {
        "id": "h6SiY9FAYWry"
      }
    },
    {
      "cell_type": "code",
      "source": [
        "train['time'] = pd.to_numeric(train.time)\n",
        "test['time'] = pd.to_numeric(test.time)"
      ],
      "metadata": {
        "id": "OO3WgNPHQWxj"
      },
      "execution_count": 288,
      "outputs": []
    },
    {
      "cell_type": "markdown",
      "source": [
        "> 이후 전처리 1용, 2용으로 나눠서 저장하고 진행 고고"
      ],
      "metadata": {
        "id": "iXlDcHbKM9aS"
      }
    },
    {
      "cell_type": "markdown",
      "source": [
        "## 전처리 1 (라벨링만) "
      ],
      "metadata": {
        "id": "aKeTgc5T1Lw4"
      }
    },
    {
      "cell_type": "code",
      "source": [
        "train1 = train.copy()\n",
        "test1 = test.copy()"
      ],
      "metadata": {
        "id": "pib2jYL5Nf4C"
      },
      "execution_count": 289,
      "outputs": []
    },
    {
      "cell_type": "markdown",
      "source": [
        "1. 라벨링 distributor "
      ],
      "metadata": {
        "id": "YCusAXI5Iofq"
      }
    },
    {
      "cell_type": "code",
      "source": [
        "label = LabelEncoder()\n",
        "train1['distributor'] = label.fit_transform(train1['distributor'])"
      ],
      "metadata": {
        "id": "4l1fkFIf21Zo"
      },
      "execution_count": 290,
      "outputs": []
    },
    {
      "cell_type": "code",
      "source": [
        "train1.head(2)"
      ],
      "metadata": {
        "colab": {
          "base_uri": "https://localhost:8080/",
          "height": 240
        },
        "id": "rVwRqpTL3BcK",
        "outputId": "64cdec4e-450d-4f26-d044-4f0073a409a7"
      },
      "execution_count": 291,
      "outputs": [
        {
          "output_type": "execute_result",
          "data": {
            "text/plain": [
              "   distributor  time  dir_prev_bfnum  dir_prev_num  num_staff  num_actor  \\\n",
              "0            7   2.0             0.0             0         91          2   \n",
              "1            1   2.5       1161602.5             2        387          3   \n",
              "\n",
              "   box_off_num  year  month  genre_SF  ...  genre_뮤지컬  genre_미스터리  genre_서스펜스  \\\n",
              "0        23398  2012     11         0  ...          0           0           0   \n",
              "1      7072501  2015     11         0  ...          0           0           0   \n",
              "\n",
              "   genre_애니메이션  genre_액션  genre_코미디  screening_rat_12세 관람가  \\\n",
              "0            0         1          0                      0   \n",
              "1            0         0          0                      0   \n",
              "\n",
              "   screening_rat_15세 관람가  screening_rat_전체 관람가  screening_rat_청소년 관람불가  \n",
              "0                      0                     0                       1  \n",
              "1                      0                     0                       1  \n",
              "\n",
              "[2 rows x 25 columns]"
            ],
            "text/html": [
              "\n",
              "  <div id=\"df-f1501165-429e-4d5a-a96e-d7aa40a57066\">\n",
              "    <div class=\"colab-df-container\">\n",
              "      <div>\n",
              "<style scoped>\n",
              "    .dataframe tbody tr th:only-of-type {\n",
              "        vertical-align: middle;\n",
              "    }\n",
              "\n",
              "    .dataframe tbody tr th {\n",
              "        vertical-align: top;\n",
              "    }\n",
              "\n",
              "    .dataframe thead th {\n",
              "        text-align: right;\n",
              "    }\n",
              "</style>\n",
              "<table border=\"1\" class=\"dataframe\">\n",
              "  <thead>\n",
              "    <tr style=\"text-align: right;\">\n",
              "      <th></th>\n",
              "      <th>distributor</th>\n",
              "      <th>time</th>\n",
              "      <th>dir_prev_bfnum</th>\n",
              "      <th>dir_prev_num</th>\n",
              "      <th>num_staff</th>\n",
              "      <th>num_actor</th>\n",
              "      <th>box_off_num</th>\n",
              "      <th>year</th>\n",
              "      <th>month</th>\n",
              "      <th>genre_SF</th>\n",
              "      <th>...</th>\n",
              "      <th>genre_뮤지컬</th>\n",
              "      <th>genre_미스터리</th>\n",
              "      <th>genre_서스펜스</th>\n",
              "      <th>genre_애니메이션</th>\n",
              "      <th>genre_액션</th>\n",
              "      <th>genre_코미디</th>\n",
              "      <th>screening_rat_12세 관람가</th>\n",
              "      <th>screening_rat_15세 관람가</th>\n",
              "      <th>screening_rat_전체 관람가</th>\n",
              "      <th>screening_rat_청소년 관람불가</th>\n",
              "    </tr>\n",
              "  </thead>\n",
              "  <tbody>\n",
              "    <tr>\n",
              "      <th>0</th>\n",
              "      <td>7</td>\n",
              "      <td>2.0</td>\n",
              "      <td>0.0</td>\n",
              "      <td>0</td>\n",
              "      <td>91</td>\n",
              "      <td>2</td>\n",
              "      <td>23398</td>\n",
              "      <td>2012</td>\n",
              "      <td>11</td>\n",
              "      <td>0</td>\n",
              "      <td>...</td>\n",
              "      <td>0</td>\n",
              "      <td>0</td>\n",
              "      <td>0</td>\n",
              "      <td>0</td>\n",
              "      <td>1</td>\n",
              "      <td>0</td>\n",
              "      <td>0</td>\n",
              "      <td>0</td>\n",
              "      <td>0</td>\n",
              "      <td>1</td>\n",
              "    </tr>\n",
              "    <tr>\n",
              "      <th>1</th>\n",
              "      <td>1</td>\n",
              "      <td>2.5</td>\n",
              "      <td>1161602.5</td>\n",
              "      <td>2</td>\n",
              "      <td>387</td>\n",
              "      <td>3</td>\n",
              "      <td>7072501</td>\n",
              "      <td>2015</td>\n",
              "      <td>11</td>\n",
              "      <td>0</td>\n",
              "      <td>...</td>\n",
              "      <td>0</td>\n",
              "      <td>0</td>\n",
              "      <td>0</td>\n",
              "      <td>0</td>\n",
              "      <td>0</td>\n",
              "      <td>0</td>\n",
              "      <td>0</td>\n",
              "      <td>0</td>\n",
              "      <td>0</td>\n",
              "      <td>1</td>\n",
              "    </tr>\n",
              "  </tbody>\n",
              "</table>\n",
              "<p>2 rows × 25 columns</p>\n",
              "</div>\n",
              "      <button class=\"colab-df-convert\" onclick=\"convertToInteractive('df-f1501165-429e-4d5a-a96e-d7aa40a57066')\"\n",
              "              title=\"Convert this dataframe to an interactive table.\"\n",
              "              style=\"display:none;\">\n",
              "        \n",
              "  <svg xmlns=\"http://www.w3.org/2000/svg\" height=\"24px\"viewBox=\"0 0 24 24\"\n",
              "       width=\"24px\">\n",
              "    <path d=\"M0 0h24v24H0V0z\" fill=\"none\"/>\n",
              "    <path d=\"M18.56 5.44l.94 2.06.94-2.06 2.06-.94-2.06-.94-.94-2.06-.94 2.06-2.06.94zm-11 1L8.5 8.5l.94-2.06 2.06-.94-2.06-.94L8.5 2.5l-.94 2.06-2.06.94zm10 10l.94 2.06.94-2.06 2.06-.94-2.06-.94-.94-2.06-.94 2.06-2.06.94z\"/><path d=\"M17.41 7.96l-1.37-1.37c-.4-.4-.92-.59-1.43-.59-.52 0-1.04.2-1.43.59L10.3 9.45l-7.72 7.72c-.78.78-.78 2.05 0 2.83L4 21.41c.39.39.9.59 1.41.59.51 0 1.02-.2 1.41-.59l7.78-7.78 2.81-2.81c.8-.78.8-2.07 0-2.86zM5.41 20L4 18.59l7.72-7.72 1.47 1.35L5.41 20z\"/>\n",
              "  </svg>\n",
              "      </button>\n",
              "      \n",
              "  <style>\n",
              "    .colab-df-container {\n",
              "      display:flex;\n",
              "      flex-wrap:wrap;\n",
              "      gap: 12px;\n",
              "    }\n",
              "\n",
              "    .colab-df-convert {\n",
              "      background-color: #E8F0FE;\n",
              "      border: none;\n",
              "      border-radius: 50%;\n",
              "      cursor: pointer;\n",
              "      display: none;\n",
              "      fill: #1967D2;\n",
              "      height: 32px;\n",
              "      padding: 0 0 0 0;\n",
              "      width: 32px;\n",
              "    }\n",
              "\n",
              "    .colab-df-convert:hover {\n",
              "      background-color: #E2EBFA;\n",
              "      box-shadow: 0px 1px 2px rgba(60, 64, 67, 0.3), 0px 1px 3px 1px rgba(60, 64, 67, 0.15);\n",
              "      fill: #174EA6;\n",
              "    }\n",
              "\n",
              "    [theme=dark] .colab-df-convert {\n",
              "      background-color: #3B4455;\n",
              "      fill: #D2E3FC;\n",
              "    }\n",
              "\n",
              "    [theme=dark] .colab-df-convert:hover {\n",
              "      background-color: #434B5C;\n",
              "      box-shadow: 0px 1px 3px 1px rgba(0, 0, 0, 0.15);\n",
              "      filter: drop-shadow(0px 1px 2px rgba(0, 0, 0, 0.3));\n",
              "      fill: #FFFFFF;\n",
              "    }\n",
              "  </style>\n",
              "\n",
              "      <script>\n",
              "        const buttonEl =\n",
              "          document.querySelector('#df-f1501165-429e-4d5a-a96e-d7aa40a57066 button.colab-df-convert');\n",
              "        buttonEl.style.display =\n",
              "          google.colab.kernel.accessAllowed ? 'block' : 'none';\n",
              "\n",
              "        async function convertToInteractive(key) {\n",
              "          const element = document.querySelector('#df-f1501165-429e-4d5a-a96e-d7aa40a57066');\n",
              "          const dataTable =\n",
              "            await google.colab.kernel.invokeFunction('convertToInteractive',\n",
              "                                                     [key], {});\n",
              "          if (!dataTable) return;\n",
              "\n",
              "          const docLinkHtml = 'Like what you see? Visit the ' +\n",
              "            '<a target=\"_blank\" href=https://colab.research.google.com/notebooks/data_table.ipynb>data table notebook</a>'\n",
              "            + ' to learn more about interactive tables.';\n",
              "          element.innerHTML = '';\n",
              "          dataTable['output_type'] = 'display_data';\n",
              "          await google.colab.output.renderOutput(dataTable, element);\n",
              "          const docLink = document.createElement('div');\n",
              "          docLink.innerHTML = docLinkHtml;\n",
              "          element.appendChild(docLink);\n",
              "        }\n",
              "      </script>\n",
              "    </div>\n",
              "  </div>\n",
              "  "
            ]
          },
          "metadata": {},
          "execution_count": 291
        }
      ]
    },
    {
      "cell_type": "code",
      "source": [
        "test1['distributor'] = label.transform(test1['distributor'])"
      ],
      "metadata": {
        "id": "tG82StUn34e_"
      },
      "execution_count": 292,
      "outputs": []
    },
    {
      "cell_type": "code",
      "source": [
        "test1.head(2)"
      ],
      "metadata": {
        "colab": {
          "base_uri": "https://localhost:8080/",
          "height": 240
        },
        "id": "HCe9Jfo8Gye8",
        "outputId": "17f7dff1-6ee7-402f-bb77-033bd66caeec"
      },
      "execution_count": 293,
      "outputs": [
        {
          "output_type": "execute_result",
          "data": {
            "text/plain": [
              "   distributor  time  dir_prev_bfnum  dir_prev_num  num_staff  num_actor  \\\n",
              "0            7   2.5       300529.00             2        304          3   \n",
              "1            1   2.0       342700.25             4        275          3   \n",
              "\n",
              "   year  month  genre_SF  genre_공포  ...  genre_뮤지컬  genre_미스터리  genre_서스펜스  \\\n",
              "0  2010      1         0         0  ...          0           0           0   \n",
              "1  2010      1         0         0  ...          0           0           0   \n",
              "\n",
              "   genre_애니메이션  genre_액션  genre_코미디  screening_rat_12세 관람가  \\\n",
              "0            0         0          0                      0   \n",
              "1            0         0          0                      1   \n",
              "\n",
              "   screening_rat_15세 관람가  screening_rat_전체 관람가  screening_rat_청소년 관람불가  \n",
              "0                      0                     0                       1  \n",
              "1                      0                     0                       0  \n",
              "\n",
              "[2 rows x 24 columns]"
            ],
            "text/html": [
              "\n",
              "  <div id=\"df-53c455bd-9ca9-48af-a5dc-5a345399f8b2\">\n",
              "    <div class=\"colab-df-container\">\n",
              "      <div>\n",
              "<style scoped>\n",
              "    .dataframe tbody tr th:only-of-type {\n",
              "        vertical-align: middle;\n",
              "    }\n",
              "\n",
              "    .dataframe tbody tr th {\n",
              "        vertical-align: top;\n",
              "    }\n",
              "\n",
              "    .dataframe thead th {\n",
              "        text-align: right;\n",
              "    }\n",
              "</style>\n",
              "<table border=\"1\" class=\"dataframe\">\n",
              "  <thead>\n",
              "    <tr style=\"text-align: right;\">\n",
              "      <th></th>\n",
              "      <th>distributor</th>\n",
              "      <th>time</th>\n",
              "      <th>dir_prev_bfnum</th>\n",
              "      <th>dir_prev_num</th>\n",
              "      <th>num_staff</th>\n",
              "      <th>num_actor</th>\n",
              "      <th>year</th>\n",
              "      <th>month</th>\n",
              "      <th>genre_SF</th>\n",
              "      <th>genre_공포</th>\n",
              "      <th>...</th>\n",
              "      <th>genre_뮤지컬</th>\n",
              "      <th>genre_미스터리</th>\n",
              "      <th>genre_서스펜스</th>\n",
              "      <th>genre_애니메이션</th>\n",
              "      <th>genre_액션</th>\n",
              "      <th>genre_코미디</th>\n",
              "      <th>screening_rat_12세 관람가</th>\n",
              "      <th>screening_rat_15세 관람가</th>\n",
              "      <th>screening_rat_전체 관람가</th>\n",
              "      <th>screening_rat_청소년 관람불가</th>\n",
              "    </tr>\n",
              "  </thead>\n",
              "  <tbody>\n",
              "    <tr>\n",
              "      <th>0</th>\n",
              "      <td>7</td>\n",
              "      <td>2.5</td>\n",
              "      <td>300529.00</td>\n",
              "      <td>2</td>\n",
              "      <td>304</td>\n",
              "      <td>3</td>\n",
              "      <td>2010</td>\n",
              "      <td>1</td>\n",
              "      <td>0</td>\n",
              "      <td>0</td>\n",
              "      <td>...</td>\n",
              "      <td>0</td>\n",
              "      <td>0</td>\n",
              "      <td>0</td>\n",
              "      <td>0</td>\n",
              "      <td>0</td>\n",
              "      <td>0</td>\n",
              "      <td>0</td>\n",
              "      <td>0</td>\n",
              "      <td>0</td>\n",
              "      <td>1</td>\n",
              "    </tr>\n",
              "    <tr>\n",
              "      <th>1</th>\n",
              "      <td>1</td>\n",
              "      <td>2.0</td>\n",
              "      <td>342700.25</td>\n",
              "      <td>4</td>\n",
              "      <td>275</td>\n",
              "      <td>3</td>\n",
              "      <td>2010</td>\n",
              "      <td>1</td>\n",
              "      <td>0</td>\n",
              "      <td>0</td>\n",
              "      <td>...</td>\n",
              "      <td>0</td>\n",
              "      <td>0</td>\n",
              "      <td>0</td>\n",
              "      <td>0</td>\n",
              "      <td>0</td>\n",
              "      <td>0</td>\n",
              "      <td>1</td>\n",
              "      <td>0</td>\n",
              "      <td>0</td>\n",
              "      <td>0</td>\n",
              "    </tr>\n",
              "  </tbody>\n",
              "</table>\n",
              "<p>2 rows × 24 columns</p>\n",
              "</div>\n",
              "      <button class=\"colab-df-convert\" onclick=\"convertToInteractive('df-53c455bd-9ca9-48af-a5dc-5a345399f8b2')\"\n",
              "              title=\"Convert this dataframe to an interactive table.\"\n",
              "              style=\"display:none;\">\n",
              "        \n",
              "  <svg xmlns=\"http://www.w3.org/2000/svg\" height=\"24px\"viewBox=\"0 0 24 24\"\n",
              "       width=\"24px\">\n",
              "    <path d=\"M0 0h24v24H0V0z\" fill=\"none\"/>\n",
              "    <path d=\"M18.56 5.44l.94 2.06.94-2.06 2.06-.94-2.06-.94-.94-2.06-.94 2.06-2.06.94zm-11 1L8.5 8.5l.94-2.06 2.06-.94-2.06-.94L8.5 2.5l-.94 2.06-2.06.94zm10 10l.94 2.06.94-2.06 2.06-.94-2.06-.94-.94-2.06-.94 2.06-2.06.94z\"/><path d=\"M17.41 7.96l-1.37-1.37c-.4-.4-.92-.59-1.43-.59-.52 0-1.04.2-1.43.59L10.3 9.45l-7.72 7.72c-.78.78-.78 2.05 0 2.83L4 21.41c.39.39.9.59 1.41.59.51 0 1.02-.2 1.41-.59l7.78-7.78 2.81-2.81c.8-.78.8-2.07 0-2.86zM5.41 20L4 18.59l7.72-7.72 1.47 1.35L5.41 20z\"/>\n",
              "  </svg>\n",
              "      </button>\n",
              "      \n",
              "  <style>\n",
              "    .colab-df-container {\n",
              "      display:flex;\n",
              "      flex-wrap:wrap;\n",
              "      gap: 12px;\n",
              "    }\n",
              "\n",
              "    .colab-df-convert {\n",
              "      background-color: #E8F0FE;\n",
              "      border: none;\n",
              "      border-radius: 50%;\n",
              "      cursor: pointer;\n",
              "      display: none;\n",
              "      fill: #1967D2;\n",
              "      height: 32px;\n",
              "      padding: 0 0 0 0;\n",
              "      width: 32px;\n",
              "    }\n",
              "\n",
              "    .colab-df-convert:hover {\n",
              "      background-color: #E2EBFA;\n",
              "      box-shadow: 0px 1px 2px rgba(60, 64, 67, 0.3), 0px 1px 3px 1px rgba(60, 64, 67, 0.15);\n",
              "      fill: #174EA6;\n",
              "    }\n",
              "\n",
              "    [theme=dark] .colab-df-convert {\n",
              "      background-color: #3B4455;\n",
              "      fill: #D2E3FC;\n",
              "    }\n",
              "\n",
              "    [theme=dark] .colab-df-convert:hover {\n",
              "      background-color: #434B5C;\n",
              "      box-shadow: 0px 1px 3px 1px rgba(0, 0, 0, 0.15);\n",
              "      filter: drop-shadow(0px 1px 2px rgba(0, 0, 0, 0.3));\n",
              "      fill: #FFFFFF;\n",
              "    }\n",
              "  </style>\n",
              "\n",
              "      <script>\n",
              "        const buttonEl =\n",
              "          document.querySelector('#df-53c455bd-9ca9-48af-a5dc-5a345399f8b2 button.colab-df-convert');\n",
              "        buttonEl.style.display =\n",
              "          google.colab.kernel.accessAllowed ? 'block' : 'none';\n",
              "\n",
              "        async function convertToInteractive(key) {\n",
              "          const element = document.querySelector('#df-53c455bd-9ca9-48af-a5dc-5a345399f8b2');\n",
              "          const dataTable =\n",
              "            await google.colab.kernel.invokeFunction('convertToInteractive',\n",
              "                                                     [key], {});\n",
              "          if (!dataTable) return;\n",
              "\n",
              "          const docLinkHtml = 'Like what you see? Visit the ' +\n",
              "            '<a target=\"_blank\" href=https://colab.research.google.com/notebooks/data_table.ipynb>data table notebook</a>'\n",
              "            + ' to learn more about interactive tables.';\n",
              "          element.innerHTML = '';\n",
              "          dataTable['output_type'] = 'display_data';\n",
              "          await google.colab.output.renderOutput(dataTable, element);\n",
              "          const docLink = document.createElement('div');\n",
              "          docLink.innerHTML = docLinkHtml;\n",
              "          element.appendChild(docLink);\n",
              "        }\n",
              "      </script>\n",
              "    </div>\n",
              "  </div>\n",
              "  "
            ]
          },
          "metadata": {},
          "execution_count": 293
        }
      ]
    },
    {
      "cell_type": "code",
      "source": [
        "test[test.time.isna()]"
      ],
      "metadata": {
        "colab": {
          "base_uri": "https://localhost:8080/",
          "height": 177
        },
        "id": "WSiTNRoR_Odt",
        "outputId": "0c83d784-aaf9-451f-d3dc-0f427602181c"
      },
      "execution_count": 294,
      "outputs": [
        {
          "output_type": "execute_result",
          "data": {
            "text/plain": [
              "Empty DataFrame\n",
              "Columns: [distributor, time, dir_prev_bfnum, dir_prev_num, num_staff, num_actor, year, month, genre_SF, genre_공포, genre_느와르, genre_다큐멘터리, genre_드라마, genre_멜로/로맨스, genre_뮤지컬, genre_미스터리, genre_서스펜스, genre_애니메이션, genre_액션, genre_코미디, screening_rat_12세 관람가, screening_rat_15세 관람가, screening_rat_전체 관람가, screening_rat_청소년 관람불가]\n",
              "Index: []\n",
              "\n",
              "[0 rows x 24 columns]"
            ],
            "text/html": [
              "\n",
              "  <div id=\"df-591f3ffa-c438-40d8-a6f9-173cd355525c\">\n",
              "    <div class=\"colab-df-container\">\n",
              "      <div>\n",
              "<style scoped>\n",
              "    .dataframe tbody tr th:only-of-type {\n",
              "        vertical-align: middle;\n",
              "    }\n",
              "\n",
              "    .dataframe tbody tr th {\n",
              "        vertical-align: top;\n",
              "    }\n",
              "\n",
              "    .dataframe thead th {\n",
              "        text-align: right;\n",
              "    }\n",
              "</style>\n",
              "<table border=\"1\" class=\"dataframe\">\n",
              "  <thead>\n",
              "    <tr style=\"text-align: right;\">\n",
              "      <th></th>\n",
              "      <th>distributor</th>\n",
              "      <th>time</th>\n",
              "      <th>dir_prev_bfnum</th>\n",
              "      <th>dir_prev_num</th>\n",
              "      <th>num_staff</th>\n",
              "      <th>num_actor</th>\n",
              "      <th>year</th>\n",
              "      <th>month</th>\n",
              "      <th>genre_SF</th>\n",
              "      <th>genre_공포</th>\n",
              "      <th>...</th>\n",
              "      <th>genre_뮤지컬</th>\n",
              "      <th>genre_미스터리</th>\n",
              "      <th>genre_서스펜스</th>\n",
              "      <th>genre_애니메이션</th>\n",
              "      <th>genre_액션</th>\n",
              "      <th>genre_코미디</th>\n",
              "      <th>screening_rat_12세 관람가</th>\n",
              "      <th>screening_rat_15세 관람가</th>\n",
              "      <th>screening_rat_전체 관람가</th>\n",
              "      <th>screening_rat_청소년 관람불가</th>\n",
              "    </tr>\n",
              "  </thead>\n",
              "  <tbody>\n",
              "  </tbody>\n",
              "</table>\n",
              "<p>0 rows × 24 columns</p>\n",
              "</div>\n",
              "      <button class=\"colab-df-convert\" onclick=\"convertToInteractive('df-591f3ffa-c438-40d8-a6f9-173cd355525c')\"\n",
              "              title=\"Convert this dataframe to an interactive table.\"\n",
              "              style=\"display:none;\">\n",
              "        \n",
              "  <svg xmlns=\"http://www.w3.org/2000/svg\" height=\"24px\"viewBox=\"0 0 24 24\"\n",
              "       width=\"24px\">\n",
              "    <path d=\"M0 0h24v24H0V0z\" fill=\"none\"/>\n",
              "    <path d=\"M18.56 5.44l.94 2.06.94-2.06 2.06-.94-2.06-.94-.94-2.06-.94 2.06-2.06.94zm-11 1L8.5 8.5l.94-2.06 2.06-.94-2.06-.94L8.5 2.5l-.94 2.06-2.06.94zm10 10l.94 2.06.94-2.06 2.06-.94-2.06-.94-.94-2.06-.94 2.06-2.06.94z\"/><path d=\"M17.41 7.96l-1.37-1.37c-.4-.4-.92-.59-1.43-.59-.52 0-1.04.2-1.43.59L10.3 9.45l-7.72 7.72c-.78.78-.78 2.05 0 2.83L4 21.41c.39.39.9.59 1.41.59.51 0 1.02-.2 1.41-.59l7.78-7.78 2.81-2.81c.8-.78.8-2.07 0-2.86zM5.41 20L4 18.59l7.72-7.72 1.47 1.35L5.41 20z\"/>\n",
              "  </svg>\n",
              "      </button>\n",
              "      \n",
              "  <style>\n",
              "    .colab-df-container {\n",
              "      display:flex;\n",
              "      flex-wrap:wrap;\n",
              "      gap: 12px;\n",
              "    }\n",
              "\n",
              "    .colab-df-convert {\n",
              "      background-color: #E8F0FE;\n",
              "      border: none;\n",
              "      border-radius: 50%;\n",
              "      cursor: pointer;\n",
              "      display: none;\n",
              "      fill: #1967D2;\n",
              "      height: 32px;\n",
              "      padding: 0 0 0 0;\n",
              "      width: 32px;\n",
              "    }\n",
              "\n",
              "    .colab-df-convert:hover {\n",
              "      background-color: #E2EBFA;\n",
              "      box-shadow: 0px 1px 2px rgba(60, 64, 67, 0.3), 0px 1px 3px 1px rgba(60, 64, 67, 0.15);\n",
              "      fill: #174EA6;\n",
              "    }\n",
              "\n",
              "    [theme=dark] .colab-df-convert {\n",
              "      background-color: #3B4455;\n",
              "      fill: #D2E3FC;\n",
              "    }\n",
              "\n",
              "    [theme=dark] .colab-df-convert:hover {\n",
              "      background-color: #434B5C;\n",
              "      box-shadow: 0px 1px 3px 1px rgba(0, 0, 0, 0.15);\n",
              "      filter: drop-shadow(0px 1px 2px rgba(0, 0, 0, 0.3));\n",
              "      fill: #FFFFFF;\n",
              "    }\n",
              "  </style>\n",
              "\n",
              "      <script>\n",
              "        const buttonEl =\n",
              "          document.querySelector('#df-591f3ffa-c438-40d8-a6f9-173cd355525c button.colab-df-convert');\n",
              "        buttonEl.style.display =\n",
              "          google.colab.kernel.accessAllowed ? 'block' : 'none';\n",
              "\n",
              "        async function convertToInteractive(key) {\n",
              "          const element = document.querySelector('#df-591f3ffa-c438-40d8-a6f9-173cd355525c');\n",
              "          const dataTable =\n",
              "            await google.colab.kernel.invokeFunction('convertToInteractive',\n",
              "                                                     [key], {});\n",
              "          if (!dataTable) return;\n",
              "\n",
              "          const docLinkHtml = 'Like what you see? Visit the ' +\n",
              "            '<a target=\"_blank\" href=https://colab.research.google.com/notebooks/data_table.ipynb>data table notebook</a>'\n",
              "            + ' to learn more about interactive tables.';\n",
              "          element.innerHTML = '';\n",
              "          dataTable['output_type'] = 'display_data';\n",
              "          await google.colab.output.renderOutput(dataTable, element);\n",
              "          const docLink = document.createElement('div');\n",
              "          docLink.innerHTML = docLinkHtml;\n",
              "          element.appendChild(docLink);\n",
              "        }\n",
              "      </script>\n",
              "    </div>\n",
              "  </div>\n",
              "  "
            ]
          },
          "metadata": {},
          "execution_count": 294
        }
      ]
    },
    {
      "cell_type": "markdown",
      "source": [
        "## 전처리2 "
      ],
      "metadata": {
        "id": "bBXIRWqgLV5v"
      }
    },
    {
      "cell_type": "markdown",
      "source": [
        "(time, distributor get dummies, dir_prev_bf_num * dir_prev_num -> 파생변수 or 그대로 둘지)"
      ],
      "metadata": {
        "id": "tCg1mr6lLovj"
      }
    },
    {
      "cell_type": "markdown",
      "source": [
        "# modeling (LGBM,  RandomForest, XGB) "
      ],
      "metadata": {
        "id": "UdJaD3aWDiQ5"
      }
    },
    {
      "cell_type": "code",
      "source": [
        "import lightgbm as lgb\n",
        "import xgboost as xgb\n",
        "from xgboost import plot_importance"
      ],
      "metadata": {
        "id": "Ay0oG3ZYEG00"
      },
      "execution_count": 295,
      "outputs": []
    },
    {
      "cell_type": "code",
      "source": [
        "rf = RandomForestRegressor()"
      ],
      "metadata": {
        "id": "bXSJGUxcDfDu"
      },
      "execution_count": 296,
      "outputs": []
    },
    {
      "cell_type": "code",
      "source": [
        "lgb = lgb.LGBMRegressor() # 일단 기본으로 \n",
        "xgb = xgb.XGBRegressor()"
      ],
      "metadata": {
        "id": "wShFhCipEiDj"
      },
      "execution_count": 297,
      "outputs": []
    },
    {
      "cell_type": "code",
      "source": [
        "# train set에서 X, y 뽑아내기 \n",
        "y = train1.pop('box_off_num').values.copy()\n",
        "X = train1.values.copy()"
      ],
      "metadata": {
        "id": "ntE1YGdEEh9Y"
      },
      "execution_count": 298,
      "outputs": []
    },
    {
      "cell_type": "code",
      "source": [
        "# X, y shape check\n",
        "X.shape, y.shape"
      ],
      "metadata": {
        "colab": {
          "base_uri": "https://localhost:8080/"
        },
        "id": "DQ1X0xAsFLQO",
        "outputId": "be9cc9f0-74ee-4a88-8bbf-d24738706e45"
      },
      "execution_count": 299,
      "outputs": [
        {
          "output_type": "execute_result",
          "data": {
            "text/plain": [
              "((600, 24), (600,))"
            ]
          },
          "metadata": {},
          "execution_count": 299
        }
      ]
    },
    {
      "cell_type": "code",
      "source": [
        "X_tr, X_te, y_tr, y_te = train_test_split(X, y, test_size=0.2)"
      ],
      "metadata": {
        "id": "wM-pXO4dPm_F"
      },
      "execution_count": 300,
      "outputs": []
    },
    {
      "cell_type": "code",
      "source": [
        "model_rf = Pipeline([('scale', StandardScaler()), ('reg', rf)]).fit(X_tr,y_tr)\n",
        "model_lgb = Pipeline([('scale', StandardScaler()), ('reg', lgb)]).fit(X_tr,y_tr)\n",
        "model_xgb = Pipeline([('scale', StandardScaler()), ('reg', xgb)]).fit(X_tr,y_tr)"
      ],
      "metadata": {
        "colab": {
          "base_uri": "https://localhost:8080/"
        },
        "id": "DwXhvJZmFYoW",
        "outputId": "97d5a6d3-a34d-4e9f-fe8d-a86ec90a477a"
      },
      "execution_count": 301,
      "outputs": [
        {
          "output_type": "stream",
          "name": "stdout",
          "text": [
            "[03:11:19] WARNING: /workspace/src/objective/regression_obj.cu:152: reg:linear is now deprecated in favor of reg:squarederror.\n"
          ]
        }
      ]
    },
    {
      "cell_type": "code",
      "source": [
        "print('randomforest score : ' , model_rf.score(X_tr,y_tr))\n",
        "print('lgb score : ' , model_lgb.score(X_tr,y_tr))\n",
        "print('xgb score : ' , model_xgb.score(X_tr,y_tr))"
      ],
      "metadata": {
        "colab": {
          "base_uri": "https://localhost:8080/"
        },
        "id": "dsZdXmQIF-Ak",
        "outputId": "393f09ac-4269-4a0a-a2b5-958194f12026"
      },
      "execution_count": 302,
      "outputs": [
        {
          "output_type": "stream",
          "name": "stdout",
          "text": [
            "randomforest score :  0.9073339698762394\n",
            "lgb score :  0.7813253941541449\n",
            "xgb score :  0.8910519185603738\n"
          ]
        }
      ]
    },
    {
      "cell_type": "code",
      "source": [
        "print('randomforest score : ' , model_rf.score(X_te,y_te))\n",
        "print('lgb score : ' , model_lgb.score(X_te,y_te))\n",
        "print('xgb score : ' , model_xgb.score(X_te,y_te))"
      ],
      "metadata": {
        "colab": {
          "base_uri": "https://localhost:8080/"
        },
        "id": "8beCFZDGPiu4",
        "outputId": "d3b059a2-cae9-407d-80ff-cfbb7c94dc50"
      },
      "execution_count": 303,
      "outputs": [
        {
          "output_type": "stream",
          "name": "stdout",
          "text": [
            "randomforest score :  0.415266442017618\n",
            "lgb score :  0.4413595933717587\n",
            "xgb score :  0.44530557129803905\n"
          ]
        }
      ]
    },
    {
      "cell_type": "markdown",
      "source": [
        "..? 뭐지 이 쓰레기는.. "
      ],
      "metadata": {
        "id": "mIVO6_rDP7cV"
      }
    },
    {
      "cell_type": "code",
      "source": [
        "# cv로 해보기 \n",
        "cv = cross_validate(estimator = model_rf, X= X, y = y, cv=5, n_jobs=-1, return_train_score = True)"
      ],
      "metadata": {
        "id": "YNA3J0r_SO_x"
      },
      "execution_count": 304,
      "outputs": []
    },
    {
      "cell_type": "code",
      "source": [
        "print(np.mean(cv['train_score']))\n",
        "print(np.mean(cv['test_score']))"
      ],
      "metadata": {
        "colab": {
          "base_uri": "https://localhost:8080/"
        },
        "id": "25nuBX9tSkL_",
        "outputId": "7deb04e7-3889-43bc-a74f-f90818911fa1"
      },
      "execution_count": 305,
      "outputs": [
        {
          "output_type": "stream",
          "name": "stdout",
          "text": [
            "0.9060735440753934\n",
            "0.36261278484304593\n"
          ]
        }
      ]
    },
    {
      "cell_type": "code",
      "source": [
        "# 위 과정을 한번에 처리할 수 있는... 함수 만들기 \n",
        "\n",
        "def pipe_model_cv_score(models, X, y) : \n",
        "    for model in models : \n",
        "        pipe = Pipeline([('scale', StandardScaler()), ('reg', model)])\n",
        "        cv = cross_validate(estimator = pipe, X= X, y = y, cv=5, n_jobs=-1, return_train_score = True)\n",
        "        tr = np.mean(cv['train_score'])\n",
        "        te = np.mean(cv['test_score'])\n",
        "        \n",
        "        print(model, 'train score : ', tr, 'test score', te)"
      ],
      "metadata": {
        "id": "RikH64ffS4ky"
      },
      "execution_count": 306,
      "outputs": []
    },
    {
      "cell_type": "code",
      "source": [
        "models = [rf, lgb, xgb]"
      ],
      "metadata": {
        "id": "KVM60CR4UfIs"
      },
      "execution_count": 307,
      "outputs": []
    },
    {
      "cell_type": "code",
      "source": [
        "pipe_model_cv_score(models, X, y)"
      ],
      "metadata": {
        "colab": {
          "base_uri": "https://localhost:8080/"
        },
        "id": "_Me7P7TCUkw9",
        "outputId": "f8433634-646d-421b-b1d1-f7541387c14e"
      },
      "execution_count": 308,
      "outputs": [
        {
          "output_type": "stream",
          "name": "stdout",
          "text": [
            "RandomForestRegressor() train score :  0.906258468196192 test score 0.3649367340189795\n",
            "LGBMRegressor() train score :  0.7998570051568794 test score 0.3300866912958683\n",
            "XGBRegressor() train score :  0.8818507022219253 test score 0.3311071986158671\n"
          ]
        }
      ]
    },
    {
      "cell_type": "markdown",
      "source": [
        "## model tuning "
      ],
      "metadata": {
        "id": "GJYtXlCrU6i2"
      }
    },
    {
      "cell_type": "code",
      "source": [
        "def print_best_params(model, params):\n",
        "    grid_model = GridSearchCV(model, param_grid= params, n_jobs=-1, return_train_score = True)\n",
        "    grid_model.fit(X,y)\n",
        "\n",
        "    print('{0}5 CV시 최고 평균 : {1}, 최고 parameter : {2}'.format(model.__class__.__name__,grid_model.best_score_, grid_model.best_params_ ))"
      ],
      "metadata": {
        "id": "EuRblIbHavUw"
      },
      "execution_count": 309,
      "outputs": []
    },
    {
      "cell_type": "code",
      "source": [
        "from xgboost.sklearn import XGBRegressor\n",
        "from lightgbm.sklearn import LGBMRegressor\n",
        "# LGBM \n",
        "lgb_params = {'learning_rate' : [0.005,0.01 ],  }\n",
        "xgb_params = {'colsample_bytree' : [0.1,0.5], 'subsample' : [0.4,0.6,0.8] }\n",
        "rf_params = {'max_depth' : [5,7,9,11], 'min_samples_split' : np.arange(1.0,2.0,0.3)}\n",
        "lgb = LGBMRegressor( n_estimators = 500, n_jobs=-1, boosting_type = 'dart', num_leaves = 15)\n",
        "xgb = XGBRegressor(n_estimators =  500, booster = 'dart', n_jobs = -1, learning_rate = 0.05)\n",
        "rf = RandomForestRegressor(n_estimators =  300, n_jobs = -1)"
      ],
      "metadata": {
        "id": "SKqAqYDBU9El"
      },
      "execution_count": 310,
      "outputs": []
    },
    {
      "cell_type": "code",
      "source": [
        "rf_params = {'max_depth' : [12,13,14], 'min_samples_split' : np.arange(0.06,0.09,0.01)}\n",
        "print_best_params(rf, rf_params)\n",
        "# >> rf_params 로 채택 "
      ],
      "metadata": {
        "colab": {
          "base_uri": "https://localhost:8080/"
        },
        "id": "DWgFojpK5X8R",
        "outputId": "21744e6a-4f95-456e-809d-c2f97aa8126d"
      },
      "execution_count": 311,
      "outputs": [
        {
          "output_type": "stream",
          "name": "stdout",
          "text": [
            "RandomForestRegressor5 CV시 최고 평균 : 0.4244824553642341, 최고 parameter : {'max_depth': 13, 'min_samples_split': 0.06999999999999999}\n"
          ]
        }
      ]
    },
    {
      "cell_type": "code",
      "source": [
        "# 파라미터로 저장 \n",
        "best_rf = RandomForestRegressor(n_estimators =  300, n_jobs = -1, max_depth = 13, min_samples_split= 0.08)\n",
        "# >  grid_model이 함수 안에 있는데 grid_model.best_estimator을 어떻게 써야하지? 궁금"
      ],
      "metadata": {
        "id": "Yo8-VChn79sI"
      },
      "execution_count": 312,
      "outputs": []
    },
    {
      "cell_type": "code",
      "source": [
        "print_best_params(lgb, lgb_params)"
      ],
      "metadata": {
        "colab": {
          "base_uri": "https://localhost:8080/"
        },
        "id": "Rdb_vokxef-j",
        "outputId": "9d7c93a8-bc00-40cd-b5db-ed299a3a3eb7"
      },
      "execution_count": 313,
      "outputs": [
        {
          "output_type": "stream",
          "name": "stdout",
          "text": [
            "LGBMRegressor5 CV시 최고 평균 : 0.3666897873542853, 최고 parameter : {'learning_rate': 0.01}\n"
          ]
        }
      ]
    },
    {
      "cell_type": "code",
      "source": [
        "print_best_params(xgb, xgb_params)"
      ],
      "metadata": {
        "colab": {
          "base_uri": "https://localhost:8080/"
        },
        "id": "mfjLCAKpelPE",
        "outputId": "035fbec4-ff50-4ab9-9c75-8cacb626bf49"
      },
      "execution_count": 314,
      "outputs": [
        {
          "output_type": "stream",
          "name": "stdout",
          "text": [
            "[03:12:34] WARNING: /workspace/src/objective/regression_obj.cu:152: reg:linear is now deprecated in favor of reg:squarederror.\n",
            "XGBRegressor5 CV시 최고 평균 : 0.2938636333881024, 최고 parameter : {'colsample_bytree': 0.1, 'subsample': 0.4}\n"
          ]
        }
      ]
    },
    {
      "cell_type": "code",
      "source": [
        "best_rf.fit(X, y)"
      ],
      "metadata": {
        "colab": {
          "base_uri": "https://localhost:8080/"
        },
        "id": "O94X2-Eb9z-K",
        "outputId": "c8a4f926-ef35-44a7-a850-ebddf238033c"
      },
      "execution_count": 315,
      "outputs": [
        {
          "output_type": "execute_result",
          "data": {
            "text/plain": [
              "RandomForestRegressor(max_depth=13, min_samples_split=0.08, n_estimators=300,\n",
              "                      n_jobs=-1)"
            ]
          },
          "metadata": {},
          "execution_count": 315
        }
      ]
    },
    {
      "cell_type": "code",
      "source": [
        " best_rf.predict(test1)"
      ],
      "metadata": {
        "id": "NyucfNKuA8WE"
      },
      "execution_count": null,
      "outputs": []
    },
    {
      "cell_type": "code",
      "source": [
        "submission['box_off_num']  = best_rf.predict(test1)\n",
        "submission.head()"
      ],
      "metadata": {
        "colab": {
          "base_uri": "https://localhost:8080/",
          "height": 242
        },
        "id": "hbV7sJ5I-Tiq",
        "outputId": "5d365883-a5f9-4b89-8b9c-af3f76673179"
      },
      "execution_count": 317,
      "outputs": [
        {
          "output_type": "stream",
          "name": "stderr",
          "text": [
            "/usr/local/lib/python3.7/dist-packages/sklearn/base.py:444: UserWarning: X has feature names, but RandomForestRegressor was fitted without feature names\n",
            "  f\"X has feature names, but {self.__class__.__name__} was fitted without\"\n"
          ]
        },
        {
          "output_type": "execute_result",
          "data": {
            "text/plain": [
              "         title   box_off_num\n",
              "0       용서는 없다  2.254841e+06\n",
              "1  아빠가 여자를 좋아해  1.348274e+06\n",
              "2          하모니  1.741988e+06\n",
              "3          의형제  1.678134e+06\n",
              "4        평행 이론  1.493564e+06"
            ],
            "text/html": [
              "\n",
              "  <div id=\"df-0b13ca3b-143d-4a86-b119-fff03a41e16b\">\n",
              "    <div class=\"colab-df-container\">\n",
              "      <div>\n",
              "<style scoped>\n",
              "    .dataframe tbody tr th:only-of-type {\n",
              "        vertical-align: middle;\n",
              "    }\n",
              "\n",
              "    .dataframe tbody tr th {\n",
              "        vertical-align: top;\n",
              "    }\n",
              "\n",
              "    .dataframe thead th {\n",
              "        text-align: right;\n",
              "    }\n",
              "</style>\n",
              "<table border=\"1\" class=\"dataframe\">\n",
              "  <thead>\n",
              "    <tr style=\"text-align: right;\">\n",
              "      <th></th>\n",
              "      <th>title</th>\n",
              "      <th>box_off_num</th>\n",
              "    </tr>\n",
              "  </thead>\n",
              "  <tbody>\n",
              "    <tr>\n",
              "      <th>0</th>\n",
              "      <td>용서는 없다</td>\n",
              "      <td>2.254841e+06</td>\n",
              "    </tr>\n",
              "    <tr>\n",
              "      <th>1</th>\n",
              "      <td>아빠가 여자를 좋아해</td>\n",
              "      <td>1.348274e+06</td>\n",
              "    </tr>\n",
              "    <tr>\n",
              "      <th>2</th>\n",
              "      <td>하모니</td>\n",
              "      <td>1.741988e+06</td>\n",
              "    </tr>\n",
              "    <tr>\n",
              "      <th>3</th>\n",
              "      <td>의형제</td>\n",
              "      <td>1.678134e+06</td>\n",
              "    </tr>\n",
              "    <tr>\n",
              "      <th>4</th>\n",
              "      <td>평행 이론</td>\n",
              "      <td>1.493564e+06</td>\n",
              "    </tr>\n",
              "  </tbody>\n",
              "</table>\n",
              "</div>\n",
              "      <button class=\"colab-df-convert\" onclick=\"convertToInteractive('df-0b13ca3b-143d-4a86-b119-fff03a41e16b')\"\n",
              "              title=\"Convert this dataframe to an interactive table.\"\n",
              "              style=\"display:none;\">\n",
              "        \n",
              "  <svg xmlns=\"http://www.w3.org/2000/svg\" height=\"24px\"viewBox=\"0 0 24 24\"\n",
              "       width=\"24px\">\n",
              "    <path d=\"M0 0h24v24H0V0z\" fill=\"none\"/>\n",
              "    <path d=\"M18.56 5.44l.94 2.06.94-2.06 2.06-.94-2.06-.94-.94-2.06-.94 2.06-2.06.94zm-11 1L8.5 8.5l.94-2.06 2.06-.94-2.06-.94L8.5 2.5l-.94 2.06-2.06.94zm10 10l.94 2.06.94-2.06 2.06-.94-2.06-.94-.94-2.06-.94 2.06-2.06.94z\"/><path d=\"M17.41 7.96l-1.37-1.37c-.4-.4-.92-.59-1.43-.59-.52 0-1.04.2-1.43.59L10.3 9.45l-7.72 7.72c-.78.78-.78 2.05 0 2.83L4 21.41c.39.39.9.59 1.41.59.51 0 1.02-.2 1.41-.59l7.78-7.78 2.81-2.81c.8-.78.8-2.07 0-2.86zM5.41 20L4 18.59l7.72-7.72 1.47 1.35L5.41 20z\"/>\n",
              "  </svg>\n",
              "      </button>\n",
              "      \n",
              "  <style>\n",
              "    .colab-df-container {\n",
              "      display:flex;\n",
              "      flex-wrap:wrap;\n",
              "      gap: 12px;\n",
              "    }\n",
              "\n",
              "    .colab-df-convert {\n",
              "      background-color: #E8F0FE;\n",
              "      border: none;\n",
              "      border-radius: 50%;\n",
              "      cursor: pointer;\n",
              "      display: none;\n",
              "      fill: #1967D2;\n",
              "      height: 32px;\n",
              "      padding: 0 0 0 0;\n",
              "      width: 32px;\n",
              "    }\n",
              "\n",
              "    .colab-df-convert:hover {\n",
              "      background-color: #E2EBFA;\n",
              "      box-shadow: 0px 1px 2px rgba(60, 64, 67, 0.3), 0px 1px 3px 1px rgba(60, 64, 67, 0.15);\n",
              "      fill: #174EA6;\n",
              "    }\n",
              "\n",
              "    [theme=dark] .colab-df-convert {\n",
              "      background-color: #3B4455;\n",
              "      fill: #D2E3FC;\n",
              "    }\n",
              "\n",
              "    [theme=dark] .colab-df-convert:hover {\n",
              "      background-color: #434B5C;\n",
              "      box-shadow: 0px 1px 3px 1px rgba(0, 0, 0, 0.15);\n",
              "      filter: drop-shadow(0px 1px 2px rgba(0, 0, 0, 0.3));\n",
              "      fill: #FFFFFF;\n",
              "    }\n",
              "  </style>\n",
              "\n",
              "      <script>\n",
              "        const buttonEl =\n",
              "          document.querySelector('#df-0b13ca3b-143d-4a86-b119-fff03a41e16b button.colab-df-convert');\n",
              "        buttonEl.style.display =\n",
              "          google.colab.kernel.accessAllowed ? 'block' : 'none';\n",
              "\n",
              "        async function convertToInteractive(key) {\n",
              "          const element = document.querySelector('#df-0b13ca3b-143d-4a86-b119-fff03a41e16b');\n",
              "          const dataTable =\n",
              "            await google.colab.kernel.invokeFunction('convertToInteractive',\n",
              "                                                     [key], {});\n",
              "          if (!dataTable) return;\n",
              "\n",
              "          const docLinkHtml = 'Like what you see? Visit the ' +\n",
              "            '<a target=\"_blank\" href=https://colab.research.google.com/notebooks/data_table.ipynb>data table notebook</a>'\n",
              "            + ' to learn more about interactive tables.';\n",
              "          element.innerHTML = '';\n",
              "          dataTable['output_type'] = 'display_data';\n",
              "          await google.colab.output.renderOutput(dataTable, element);\n",
              "          const docLink = document.createElement('div');\n",
              "          docLink.innerHTML = docLinkHtml;\n",
              "          element.appendChild(docLink);\n",
              "        }\n",
              "      </script>\n",
              "    </div>\n",
              "  </div>\n",
              "  "
            ]
          },
          "metadata": {},
          "execution_count": 317
        }
      ]
    },
    {
      "cell_type": "code",
      "source": [
        "import pandas as pd"
      ],
      "metadata": {
        "id": "jI2G198bD4tj"
      },
      "execution_count": 338,
      "outputs": []
    },
    {
      "cell_type": "code",
      "source": [
        "submission.to_csv('/content/drive/MyDrive/Colab Notebooks/LAB PYTHON /STUDYGROUP/data set/movies/result1.csv', index = False)"
      ],
      "metadata": {
        "id": "2XYgTHBRDD5P"
      },
      "execution_count": 340,
      "outputs": []
    },
    {
      "cell_type": "markdown",
      "source": [
        "결과메모 \n",
        " * LGBM :\n",
        "    * n_estimators = 500, (1000과 비교했을때 500이 나음) \n",
        "    * learning_rate : 0.01 ( 0.05일때보다 더 나은 결과) \n",
        "    * num_leaves :15  (23일때보다 더 나은 결과)\n",
        "    * boosting_type : dart \n",
        " * XGB : \n",
        "    * n_estimators = 500\n",
        "    * learning_rate = 0.05\n",
        "    * cosample_bytree : 0.1일때\n",
        "    * subsample : 0.4 \n",
        "\n",
        " * RF : \n",
        "  * RandomForestRegressor5 CV시 최고 평균 : 0.40373278672182067, 최고 parameter : {'max_depth': 20, 'min_samples_split': 0.05}\n",
        "  * RandomForestRegressor5 CV시 최고 평균 : 0.42203254186637995, 최고 parameter : {'max_depth': 13, 'min_samples_split': 0.07999999999999999}"
      ],
      "metadata": {
        "id": "sgnbg72BhG5F"
      }
    },
    {
      "cell_type": "markdown",
      "source": [
        "![image.png](data:image/png;base64,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)"
      ],
      "metadata": {
        "id": "MWImhNYMHxel"
      }
    },
    {
      "cell_type": "markdown",
      "metadata": {
        "id": "UBM6vPosyDgk"
      },
      "source": [
        "## 기본값으로 진행 "
      ]
    },
    {
      "cell_type": "code",
      "execution_count": 318,
      "metadata": {
        "id": "isqKnGYcrNKX"
      },
      "outputs": [],
      "source": [
        "# 일단 기본값으로 진행 \n",
        "knn = KNeighborsRegressor(n_jobs = -1)\n",
        "rf = RandomForestRegressor(n_estimators = 200, n_jobs = -1)\n",
        "lin = LinearRegression(n_jobs = -1)\n",
        "ridge = Ridge() \n",
        "lasso = Lasso()\n",
        "ela = ElasticNet()"
      ]
    },
    {
      "cell_type": "code",
      "execution_count": 319,
      "metadata": {
        "id": "S9FAG7-psI-a"
      },
      "outputs": [],
      "source": [
        "model_list = [knn, rf, lin, ridge, lasso, ela]"
      ]
    },
    {
      "cell_type": "code",
      "execution_count": 320,
      "metadata": {
        "id": "lUZ_qveGsRZl"
      },
      "outputs": [],
      "source": [
        "# r2 score \n",
        "def rmse_result_cv(esti, X, y) : \n",
        "    pipe = Pipeline([ ('scale' , StandardScaler()),\n",
        "                     ('esti', esti )])\n",
        "    cv = cross_validate(estimator = pipe, X = X, y = y, cv=5, n_jobs = -1, return_train_score = True, ) \n",
        "    tr_score = np.mean(cv['train_score'])\n",
        "    te_score = np.mean(cv['test_score'])\n",
        "    \n",
        "    return tr_score, te_score"
      ]
    },
    {
      "cell_type": "code",
      "execution_count": 321,
      "metadata": {
        "id": "yT29NywovtS6"
      },
      "outputs": [],
      "source": [
        "# 빈 리스트 생성 \n",
        "tr_result = []\n",
        "te_result = []"
      ]
    },
    {
      "cell_type": "code",
      "execution_count": 322,
      "metadata": {
        "colab": {
          "base_uri": "https://localhost:8080/"
        },
        "id": "Rndpb5d4vmNI",
        "outputId": "94c22224-71cc-4399-f961-a5139487e261"
      },
      "outputs": [
        {
          "output_type": "execute_result",
          "data": {
            "text/plain": [
              "(0.4640857278191712, 0.16560447989612137)"
            ]
          },
          "metadata": {},
          "execution_count": 322
        }
      ],
      "source": [
        "rmse_result_cv(knn,X,y)"
      ]
    },
    {
      "cell_type": "code",
      "execution_count": 323,
      "metadata": {
        "id": "UKnXBwwCu4ZT"
      },
      "outputs": [],
      "source": [
        "# 각 model별 train test score을 list에 넣기 \n",
        "for m in model_list : \n",
        "    tr_result.append(rmse_result_cv(m, X, y)[0])\n",
        "    te_result.append(rmse_result_cv(m, X, y)[1])"
      ]
    },
    {
      "cell_type": "code",
      "execution_count": 324,
      "metadata": {
        "id": "uLdhT2yIu-fx"
      },
      "outputs": [],
      "source": [
        "#result를 df로 만들어서 비교하기\n",
        "result_df = pd.DataFrame({'model' : model_list, \n",
        "                          'train sc' : tr_result, \n",
        "                          'test sc' : te_result})"
      ]
    },
    {
      "cell_type": "code",
      "execution_count": 325,
      "metadata": {
        "colab": {
          "base_uri": "https://localhost:8080/",
          "height": 237
        },
        "id": "vtcyc2U7xNNQ",
        "outputId": "def2ed8b-5ba2-4f63-b518-34b26988c94b"
      },
      "outputs": [
        {
          "output_type": "execute_result",
          "data": {
            "text/plain": [
              "                                               model  train sc   test sc\n",
              "0                     KNeighborsRegressor(n_jobs=-1)  0.464086  0.165604\n",
              "1  RandomForestRegressor(n_estimators=200, n_jobs...  0.910097  0.389700\n",
              "2                        LinearRegression(n_jobs=-1)  0.398464  0.314095\n",
              "3                                            Ridge()  0.403932  0.318186\n",
              "4                                            Lasso()  0.403933  0.317974\n",
              "5                                       ElasticNet()  0.384128  0.327374"
            ],
            "text/html": [
              "\n",
              "  <div id=\"df-1c738654-cc2d-4f49-8c74-ed9ba578e28b\">\n",
              "    <div class=\"colab-df-container\">\n",
              "      <div>\n",
              "<style scoped>\n",
              "    .dataframe tbody tr th:only-of-type {\n",
              "        vertical-align: middle;\n",
              "    }\n",
              "\n",
              "    .dataframe tbody tr th {\n",
              "        vertical-align: top;\n",
              "    }\n",
              "\n",
              "    .dataframe thead th {\n",
              "        text-align: right;\n",
              "    }\n",
              "</style>\n",
              "<table border=\"1\" class=\"dataframe\">\n",
              "  <thead>\n",
              "    <tr style=\"text-align: right;\">\n",
              "      <th></th>\n",
              "      <th>model</th>\n",
              "      <th>train sc</th>\n",
              "      <th>test sc</th>\n",
              "    </tr>\n",
              "  </thead>\n",
              "  <tbody>\n",
              "    <tr>\n",
              "      <th>0</th>\n",
              "      <td>KNeighborsRegressor(n_jobs=-1)</td>\n",
              "      <td>0.464086</td>\n",
              "      <td>0.165604</td>\n",
              "    </tr>\n",
              "    <tr>\n",
              "      <th>1</th>\n",
              "      <td>RandomForestRegressor(n_estimators=200, n_jobs...</td>\n",
              "      <td>0.910097</td>\n",
              "      <td>0.389700</td>\n",
              "    </tr>\n",
              "    <tr>\n",
              "      <th>2</th>\n",
              "      <td>LinearRegression(n_jobs=-1)</td>\n",
              "      <td>0.398464</td>\n",
              "      <td>0.314095</td>\n",
              "    </tr>\n",
              "    <tr>\n",
              "      <th>3</th>\n",
              "      <td>Ridge()</td>\n",
              "      <td>0.403932</td>\n",
              "      <td>0.318186</td>\n",
              "    </tr>\n",
              "    <tr>\n",
              "      <th>4</th>\n",
              "      <td>Lasso()</td>\n",
              "      <td>0.403933</td>\n",
              "      <td>0.317974</td>\n",
              "    </tr>\n",
              "    <tr>\n",
              "      <th>5</th>\n",
              "      <td>ElasticNet()</td>\n",
              "      <td>0.384128</td>\n",
              "      <td>0.327374</td>\n",
              "    </tr>\n",
              "  </tbody>\n",
              "</table>\n",
              "</div>\n",
              "      <button class=\"colab-df-convert\" onclick=\"convertToInteractive('df-1c738654-cc2d-4f49-8c74-ed9ba578e28b')\"\n",
              "              title=\"Convert this dataframe to an interactive table.\"\n",
              "              style=\"display:none;\">\n",
              "        \n",
              "  <svg xmlns=\"http://www.w3.org/2000/svg\" height=\"24px\"viewBox=\"0 0 24 24\"\n",
              "       width=\"24px\">\n",
              "    <path d=\"M0 0h24v24H0V0z\" fill=\"none\"/>\n",
              "    <path d=\"M18.56 5.44l.94 2.06.94-2.06 2.06-.94-2.06-.94-.94-2.06-.94 2.06-2.06.94zm-11 1L8.5 8.5l.94-2.06 2.06-.94-2.06-.94L8.5 2.5l-.94 2.06-2.06.94zm10 10l.94 2.06.94-2.06 2.06-.94-2.06-.94-.94-2.06-.94 2.06-2.06.94z\"/><path d=\"M17.41 7.96l-1.37-1.37c-.4-.4-.92-.59-1.43-.59-.52 0-1.04.2-1.43.59L10.3 9.45l-7.72 7.72c-.78.78-.78 2.05 0 2.83L4 21.41c.39.39.9.59 1.41.59.51 0 1.02-.2 1.41-.59l7.78-7.78 2.81-2.81c.8-.78.8-2.07 0-2.86zM5.41 20L4 18.59l7.72-7.72 1.47 1.35L5.41 20z\"/>\n",
              "  </svg>\n",
              "      </button>\n",
              "      \n",
              "  <style>\n",
              "    .colab-df-container {\n",
              "      display:flex;\n",
              "      flex-wrap:wrap;\n",
              "      gap: 12px;\n",
              "    }\n",
              "\n",
              "    .colab-df-convert {\n",
              "      background-color: #E8F0FE;\n",
              "      border: none;\n",
              "      border-radius: 50%;\n",
              "      cursor: pointer;\n",
              "      display: none;\n",
              "      fill: #1967D2;\n",
              "      height: 32px;\n",
              "      padding: 0 0 0 0;\n",
              "      width: 32px;\n",
              "    }\n",
              "\n",
              "    .colab-df-convert:hover {\n",
              "      background-color: #E2EBFA;\n",
              "      box-shadow: 0px 1px 2px rgba(60, 64, 67, 0.3), 0px 1px 3px 1px rgba(60, 64, 67, 0.15);\n",
              "      fill: #174EA6;\n",
              "    }\n",
              "\n",
              "    [theme=dark] .colab-df-convert {\n",
              "      background-color: #3B4455;\n",
              "      fill: #D2E3FC;\n",
              "    }\n",
              "\n",
              "    [theme=dark] .colab-df-convert:hover {\n",
              "      background-color: #434B5C;\n",
              "      box-shadow: 0px 1px 3px 1px rgba(0, 0, 0, 0.15);\n",
              "      filter: drop-shadow(0px 1px 2px rgba(0, 0, 0, 0.3));\n",
              "      fill: #FFFFFF;\n",
              "    }\n",
              "  </style>\n",
              "\n",
              "      <script>\n",
              "        const buttonEl =\n",
              "          document.querySelector('#df-1c738654-cc2d-4f49-8c74-ed9ba578e28b button.colab-df-convert');\n",
              "        buttonEl.style.display =\n",
              "          google.colab.kernel.accessAllowed ? 'block' : 'none';\n",
              "\n",
              "        async function convertToInteractive(key) {\n",
              "          const element = document.querySelector('#df-1c738654-cc2d-4f49-8c74-ed9ba578e28b');\n",
              "          const dataTable =\n",
              "            await google.colab.kernel.invokeFunction('convertToInteractive',\n",
              "                                                     [key], {});\n",
              "          if (!dataTable) return;\n",
              "\n",
              "          const docLinkHtml = 'Like what you see? Visit the ' +\n",
              "            '<a target=\"_blank\" href=https://colab.research.google.com/notebooks/data_table.ipynb>data table notebook</a>'\n",
              "            + ' to learn more about interactive tables.';\n",
              "          element.innerHTML = '';\n",
              "          dataTable['output_type'] = 'display_data';\n",
              "          await google.colab.output.renderOutput(dataTable, element);\n",
              "          const docLink = document.createElement('div');\n",
              "          docLink.innerHTML = docLinkHtml;\n",
              "          element.appendChild(docLink);\n",
              "        }\n",
              "      </script>\n",
              "    </div>\n",
              "  </div>\n",
              "  "
            ]
          },
          "metadata": {},
          "execution_count": 325
        }
      ],
      "source": [
        "result_df # 하이퍼파라미터 튜닝 전 결과 ...쑬액이~"
      ]
    },
    {
      "cell_type": "code",
      "source": [
        "# 위 과정을 한번에 하는 함수 만들기 \n",
        "\n",
        "def model_result_df(arr, X, y) :\n",
        "    tr_result = []\n",
        "    te_result = []\n",
        "    for m in arr : \n",
        "        tr_result.append(rmse_result_cv(m, X, y)[0])\n",
        "        te_result.append(rmse_result_cv(m, X, y)[1])\n",
        "    result_df = pd.DataFrame({'model' : model_list, \n",
        "                          'train sc' : tr_result, \n",
        "                          'test sc' : te_result})\n",
        "    return result_df"
      ],
      "metadata": {
        "id": "TMjUpjixiQMR"
      },
      "execution_count": 326,
      "outputs": []
    },
    {
      "cell_type": "code",
      "source": [
        "model_result_df(model_list, X, y)"
      ],
      "metadata": {
        "colab": {
          "base_uri": "https://localhost:8080/",
          "height": 237
        },
        "id": "1H4AT21yi0VH",
        "outputId": "29eb6511-6093-4e7b-aaea-ee66e72a0bab"
      },
      "execution_count": 327,
      "outputs": [
        {
          "output_type": "execute_result",
          "data": {
            "text/plain": [
              "                                               model  train sc   test sc\n",
              "0                     KNeighborsRegressor(n_jobs=-1)  0.464086  0.165604\n",
              "1  RandomForestRegressor(n_estimators=200, n_jobs...  0.909634  0.384926\n",
              "2                        LinearRegression(n_jobs=-1)  0.398464  0.314095\n",
              "3                                            Ridge()  0.403932  0.318186\n",
              "4                                            Lasso()  0.403933  0.317974\n",
              "5                                       ElasticNet()  0.384128  0.327374"
            ],
            "text/html": [
              "\n",
              "  <div id=\"df-2c2b6bb2-bec5-42a5-bb40-aa261036ffd1\">\n",
              "    <div class=\"colab-df-container\">\n",
              "      <div>\n",
              "<style scoped>\n",
              "    .dataframe tbody tr th:only-of-type {\n",
              "        vertical-align: middle;\n",
              "    }\n",
              "\n",
              "    .dataframe tbody tr th {\n",
              "        vertical-align: top;\n",
              "    }\n",
              "\n",
              "    .dataframe thead th {\n",
              "        text-align: right;\n",
              "    }\n",
              "</style>\n",
              "<table border=\"1\" class=\"dataframe\">\n",
              "  <thead>\n",
              "    <tr style=\"text-align: right;\">\n",
              "      <th></th>\n",
              "      <th>model</th>\n",
              "      <th>train sc</th>\n",
              "      <th>test sc</th>\n",
              "    </tr>\n",
              "  </thead>\n",
              "  <tbody>\n",
              "    <tr>\n",
              "      <th>0</th>\n",
              "      <td>KNeighborsRegressor(n_jobs=-1)</td>\n",
              "      <td>0.464086</td>\n",
              "      <td>0.165604</td>\n",
              "    </tr>\n",
              "    <tr>\n",
              "      <th>1</th>\n",
              "      <td>RandomForestRegressor(n_estimators=200, n_jobs...</td>\n",
              "      <td>0.909634</td>\n",
              "      <td>0.384926</td>\n",
              "    </tr>\n",
              "    <tr>\n",
              "      <th>2</th>\n",
              "      <td>LinearRegression(n_jobs=-1)</td>\n",
              "      <td>0.398464</td>\n",
              "      <td>0.314095</td>\n",
              "    </tr>\n",
              "    <tr>\n",
              "      <th>3</th>\n",
              "      <td>Ridge()</td>\n",
              "      <td>0.403932</td>\n",
              "      <td>0.318186</td>\n",
              "    </tr>\n",
              "    <tr>\n",
              "      <th>4</th>\n",
              "      <td>Lasso()</td>\n",
              "      <td>0.403933</td>\n",
              "      <td>0.317974</td>\n",
              "    </tr>\n",
              "    <tr>\n",
              "      <th>5</th>\n",
              "      <td>ElasticNet()</td>\n",
              "      <td>0.384128</td>\n",
              "      <td>0.327374</td>\n",
              "    </tr>\n",
              "  </tbody>\n",
              "</table>\n",
              "</div>\n",
              "      <button class=\"colab-df-convert\" onclick=\"convertToInteractive('df-2c2b6bb2-bec5-42a5-bb40-aa261036ffd1')\"\n",
              "              title=\"Convert this dataframe to an interactive table.\"\n",
              "              style=\"display:none;\">\n",
              "        \n",
              "  <svg xmlns=\"http://www.w3.org/2000/svg\" height=\"24px\"viewBox=\"0 0 24 24\"\n",
              "       width=\"24px\">\n",
              "    <path d=\"M0 0h24v24H0V0z\" fill=\"none\"/>\n",
              "    <path d=\"M18.56 5.44l.94 2.06.94-2.06 2.06-.94-2.06-.94-.94-2.06-.94 2.06-2.06.94zm-11 1L8.5 8.5l.94-2.06 2.06-.94-2.06-.94L8.5 2.5l-.94 2.06-2.06.94zm10 10l.94 2.06.94-2.06 2.06-.94-2.06-.94-.94-2.06-.94 2.06-2.06.94z\"/><path d=\"M17.41 7.96l-1.37-1.37c-.4-.4-.92-.59-1.43-.59-.52 0-1.04.2-1.43.59L10.3 9.45l-7.72 7.72c-.78.78-.78 2.05 0 2.83L4 21.41c.39.39.9.59 1.41.59.51 0 1.02-.2 1.41-.59l7.78-7.78 2.81-2.81c.8-.78.8-2.07 0-2.86zM5.41 20L4 18.59l7.72-7.72 1.47 1.35L5.41 20z\"/>\n",
              "  </svg>\n",
              "      </button>\n",
              "      \n",
              "  <style>\n",
              "    .colab-df-container {\n",
              "      display:flex;\n",
              "      flex-wrap:wrap;\n",
              "      gap: 12px;\n",
              "    }\n",
              "\n",
              "    .colab-df-convert {\n",
              "      background-color: #E8F0FE;\n",
              "      border: none;\n",
              "      border-radius: 50%;\n",
              "      cursor: pointer;\n",
              "      display: none;\n",
              "      fill: #1967D2;\n",
              "      height: 32px;\n",
              "      padding: 0 0 0 0;\n",
              "      width: 32px;\n",
              "    }\n",
              "\n",
              "    .colab-df-convert:hover {\n",
              "      background-color: #E2EBFA;\n",
              "      box-shadow: 0px 1px 2px rgba(60, 64, 67, 0.3), 0px 1px 3px 1px rgba(60, 64, 67, 0.15);\n",
              "      fill: #174EA6;\n",
              "    }\n",
              "\n",
              "    [theme=dark] .colab-df-convert {\n",
              "      background-color: #3B4455;\n",
              "      fill: #D2E3FC;\n",
              "    }\n",
              "\n",
              "    [theme=dark] .colab-df-convert:hover {\n",
              "      background-color: #434B5C;\n",
              "      box-shadow: 0px 1px 3px 1px rgba(0, 0, 0, 0.15);\n",
              "      filter: drop-shadow(0px 1px 2px rgba(0, 0, 0, 0.3));\n",
              "      fill: #FFFFFF;\n",
              "    }\n",
              "  </style>\n",
              "\n",
              "      <script>\n",
              "        const buttonEl =\n",
              "          document.querySelector('#df-2c2b6bb2-bec5-42a5-bb40-aa261036ffd1 button.colab-df-convert');\n",
              "        buttonEl.style.display =\n",
              "          google.colab.kernel.accessAllowed ? 'block' : 'none';\n",
              "\n",
              "        async function convertToInteractive(key) {\n",
              "          const element = document.querySelector('#df-2c2b6bb2-bec5-42a5-bb40-aa261036ffd1');\n",
              "          const dataTable =\n",
              "            await google.colab.kernel.invokeFunction('convertToInteractive',\n",
              "                                                     [key], {});\n",
              "          if (!dataTable) return;\n",
              "\n",
              "          const docLinkHtml = 'Like what you see? Visit the ' +\n",
              "            '<a target=\"_blank\" href=https://colab.research.google.com/notebooks/data_table.ipynb>data table notebook</a>'\n",
              "            + ' to learn more about interactive tables.';\n",
              "          element.innerHTML = '';\n",
              "          dataTable['output_type'] = 'display_data';\n",
              "          await google.colab.output.renderOutput(dataTable, element);\n",
              "          const docLink = document.createElement('div');\n",
              "          docLink.innerHTML = docLinkHtml;\n",
              "          element.appendChild(docLink);\n",
              "        }\n",
              "      </script>\n",
              "    </div>\n",
              "  </div>\n",
              "  "
            ]
          },
          "metadata": {},
          "execution_count": 327
        }
      ]
    },
    {
      "cell_type": "markdown",
      "metadata": {
        "id": "cAEvlVRV0B_J"
      },
      "source": [
        "## 하이퍼파라미터 찾기"
      ]
    },
    {
      "cell_type": "code",
      "source": [
        "# 회귀 계수값 상위 5개, 하위 5개 피처명과 그 회귀 계수 값을 가지는 판다스 시리즈 객체를 반환하는 함수 \n",
        "def get_topbottom_coef(model,X,y, n=5) :\n",
        "    model = model.fit(X, y)\n",
        "    coef = pd.Series(model.coef_, index = train.columns)\n",
        "    # 상위10개, 하위 10개의 회귀 계수 추출\n",
        "    coef_high = coef.sort_values(ascending = False).head(n)\n",
        "    coef_low = coef.sort_values(ascending = False).tail(n)\n",
        "    return coef_high, coef_low"
      ],
      "metadata": {
        "id": "XCrefWo0jtC1"
      },
      "execution_count": 328,
      "outputs": []
    },
    {
      "cell_type": "code",
      "source": [
        "def visualize_coef(models, X, y) : \n",
        "    fig, ax = plt.subplots(1,len(models), figsize = (30,20))\n",
        "    plt.tight_layout()\n",
        "    #입력 인자로 받은 list 객체인 models에서 차례로 model을 추출해 회귀계수 시각화\n",
        "    for i, m in enumerate(models) : \n",
        "        #상위 하위 5개 회귀 계수 구하고 판다스 concat으로 결합\n",
        "        coef_high, coef_low = get_topbottom_coef(m, X, y)\n",
        "        coef_concet = pd.concat([coef_high, coef_low])\n",
        "\n",
        "        # ax subplots에 barchart로 표현. \n",
        "        ax[i].set_title(m.__class__.__name__ + '  coef', size = 25)\n",
        "        ax[i].tick_params(axis = 'y', direction = 'in', pad = -120)\n",
        "        for label in (ax[i].get_xticklabels() + ax[i].get_yticklabels()) : \n",
        "            label.set_fontsize(22)\n",
        "        sns.barplot(x = coef_concet.values, y = coef_concet.index, ax = ax[i])\n",
        "        plt.show"
      ],
      "metadata": {
        "id": "L5u3ajf_k5Qz"
      },
      "execution_count": 329,
      "outputs": []
    },
    {
      "cell_type": "code",
      "source": [
        "model_list = [ ridge, lasso, xgb]"
      ],
      "metadata": {
        "id": "79h7UaXqm-Fz"
      },
      "execution_count": 353,
      "outputs": []
    },
    {
      "cell_type": "code",
      "source": [
        "visualize_coef(model_list, X, y)"
      ],
      "metadata": {
        "colab": {
          "base_uri": "https://localhost:8080/",
          "height": 1000
        },
        "id": "HJK5D2LomoJ0",
        "outputId": "811e290d-518c-4ddb-b06c-c033e3916506"
      },
      "execution_count": 354,
      "outputs": [
        {
          "output_type": "error",
          "ename": "ValueError",
          "evalue": "ignored",
          "traceback": [
            "\u001b[0;31m---------------------------------------------------------------------------\u001b[0m",
            "\u001b[0;31mValueError\u001b[0m                                Traceback (most recent call last)",
            "\u001b[0;32m<ipython-input-354-f812165d4945>\u001b[0m in \u001b[0;36m<module>\u001b[0;34m()\u001b[0m\n\u001b[0;32m----> 1\u001b[0;31m \u001b[0mvisualize_coef\u001b[0m\u001b[0;34m(\u001b[0m\u001b[0mmodel_list\u001b[0m\u001b[0;34m,\u001b[0m \u001b[0mX\u001b[0m\u001b[0;34m,\u001b[0m \u001b[0my\u001b[0m\u001b[0;34m)\u001b[0m\u001b[0;34m\u001b[0m\u001b[0;34m\u001b[0m\u001b[0m\n\u001b[0m",
            "\u001b[0;32m<ipython-input-329-ddd310f14641>\u001b[0m in \u001b[0;36mvisualize_coef\u001b[0;34m(models, X, y)\u001b[0m\n\u001b[1;32m      5\u001b[0m     \u001b[0;32mfor\u001b[0m \u001b[0mi\u001b[0m\u001b[0;34m,\u001b[0m \u001b[0mm\u001b[0m \u001b[0;32min\u001b[0m \u001b[0menumerate\u001b[0m\u001b[0;34m(\u001b[0m\u001b[0mmodels\u001b[0m\u001b[0;34m)\u001b[0m \u001b[0;34m:\u001b[0m\u001b[0;34m\u001b[0m\u001b[0;34m\u001b[0m\u001b[0m\n\u001b[1;32m      6\u001b[0m         \u001b[0;31m#상위 하위 5개 회귀 계수 구하고 판다스 concat으로 결합\u001b[0m\u001b[0;34m\u001b[0m\u001b[0;34m\u001b[0m\u001b[0;34m\u001b[0m\u001b[0m\n\u001b[0;32m----> 7\u001b[0;31m         \u001b[0mcoef_high\u001b[0m\u001b[0;34m,\u001b[0m \u001b[0mcoef_low\u001b[0m \u001b[0;34m=\u001b[0m \u001b[0mget_topbottom_coef\u001b[0m\u001b[0;34m(\u001b[0m\u001b[0mm\u001b[0m\u001b[0;34m,\u001b[0m \u001b[0mX\u001b[0m\u001b[0;34m,\u001b[0m \u001b[0my\u001b[0m\u001b[0;34m)\u001b[0m\u001b[0;34m\u001b[0m\u001b[0;34m\u001b[0m\u001b[0m\n\u001b[0m\u001b[1;32m      8\u001b[0m         \u001b[0mcoef_concet\u001b[0m \u001b[0;34m=\u001b[0m \u001b[0mpd\u001b[0m\u001b[0;34m.\u001b[0m\u001b[0mconcat\u001b[0m\u001b[0;34m(\u001b[0m\u001b[0;34m[\u001b[0m\u001b[0mcoef_high\u001b[0m\u001b[0;34m,\u001b[0m \u001b[0mcoef_low\u001b[0m\u001b[0;34m]\u001b[0m\u001b[0;34m)\u001b[0m\u001b[0;34m\u001b[0m\u001b[0;34m\u001b[0m\u001b[0m\n\u001b[1;32m      9\u001b[0m \u001b[0;34m\u001b[0m\u001b[0m\n",
            "\u001b[0;32m<ipython-input-328-bcdc2ed0e5cd>\u001b[0m in \u001b[0;36mget_topbottom_coef\u001b[0;34m(model, X, y, n)\u001b[0m\n\u001b[1;32m      2\u001b[0m \u001b[0;32mdef\u001b[0m \u001b[0mget_topbottom_coef\u001b[0m\u001b[0;34m(\u001b[0m\u001b[0mmodel\u001b[0m\u001b[0;34m,\u001b[0m\u001b[0mX\u001b[0m\u001b[0;34m,\u001b[0m\u001b[0my\u001b[0m\u001b[0;34m,\u001b[0m \u001b[0mn\u001b[0m\u001b[0;34m=\u001b[0m\u001b[0;36m5\u001b[0m\u001b[0;34m)\u001b[0m \u001b[0;34m:\u001b[0m\u001b[0;34m\u001b[0m\u001b[0;34m\u001b[0m\u001b[0m\n\u001b[1;32m      3\u001b[0m     \u001b[0mmodel\u001b[0m \u001b[0;34m=\u001b[0m \u001b[0mmodel\u001b[0m\u001b[0;34m.\u001b[0m\u001b[0mfit\u001b[0m\u001b[0;34m(\u001b[0m\u001b[0mX\u001b[0m\u001b[0;34m,\u001b[0m \u001b[0my\u001b[0m\u001b[0;34m)\u001b[0m\u001b[0;34m\u001b[0m\u001b[0;34m\u001b[0m\u001b[0m\n\u001b[0;32m----> 4\u001b[0;31m     \u001b[0mcoef\u001b[0m \u001b[0;34m=\u001b[0m \u001b[0mpd\u001b[0m\u001b[0;34m.\u001b[0m\u001b[0mSeries\u001b[0m\u001b[0;34m(\u001b[0m\u001b[0mmodel\u001b[0m\u001b[0;34m.\u001b[0m\u001b[0mcoef_\u001b[0m\u001b[0;34m,\u001b[0m \u001b[0mindex\u001b[0m \u001b[0;34m=\u001b[0m \u001b[0mtrain\u001b[0m\u001b[0;34m.\u001b[0m\u001b[0mcolumns\u001b[0m\u001b[0;34m)\u001b[0m\u001b[0;34m\u001b[0m\u001b[0;34m\u001b[0m\u001b[0m\n\u001b[0m\u001b[1;32m      5\u001b[0m     \u001b[0;31m# 상위10개, 하위 10개의 회귀 계수 추출\u001b[0m\u001b[0;34m\u001b[0m\u001b[0;34m\u001b[0m\u001b[0;34m\u001b[0m\u001b[0m\n\u001b[1;32m      6\u001b[0m     \u001b[0mcoef_high\u001b[0m \u001b[0;34m=\u001b[0m \u001b[0mcoef\u001b[0m\u001b[0;34m.\u001b[0m\u001b[0msort_values\u001b[0m\u001b[0;34m(\u001b[0m\u001b[0mascending\u001b[0m \u001b[0;34m=\u001b[0m \u001b[0;32mFalse\u001b[0m\u001b[0;34m)\u001b[0m\u001b[0;34m.\u001b[0m\u001b[0mhead\u001b[0m\u001b[0;34m(\u001b[0m\u001b[0mn\u001b[0m\u001b[0;34m)\u001b[0m\u001b[0;34m\u001b[0m\u001b[0;34m\u001b[0m\u001b[0m\n",
            "\u001b[0;32m/usr/local/lib/python3.7/dist-packages/pandas/core/series.py\u001b[0m in \u001b[0;36m__init__\u001b[0;34m(self, data, index, dtype, name, copy, fastpath)\u001b[0m\n\u001b[1;32m    428\u001b[0m                 \u001b[0mindex\u001b[0m \u001b[0;34m=\u001b[0m \u001b[0mibase\u001b[0m\u001b[0;34m.\u001b[0m\u001b[0mdefault_index\u001b[0m\u001b[0;34m(\u001b[0m\u001b[0mlen\u001b[0m\u001b[0;34m(\u001b[0m\u001b[0mdata\u001b[0m\u001b[0;34m)\u001b[0m\u001b[0;34m)\u001b[0m\u001b[0;34m\u001b[0m\u001b[0;34m\u001b[0m\u001b[0m\n\u001b[1;32m    429\u001b[0m             \u001b[0;32melif\u001b[0m \u001b[0mis_list_like\u001b[0m\u001b[0;34m(\u001b[0m\u001b[0mdata\u001b[0m\u001b[0;34m)\u001b[0m\u001b[0;34m:\u001b[0m\u001b[0;34m\u001b[0m\u001b[0;34m\u001b[0m\u001b[0m\n\u001b[0;32m--> 430\u001b[0;31m                 \u001b[0mcom\u001b[0m\u001b[0;34m.\u001b[0m\u001b[0mrequire_length_match\u001b[0m\u001b[0;34m(\u001b[0m\u001b[0mdata\u001b[0m\u001b[0;34m,\u001b[0m \u001b[0mindex\u001b[0m\u001b[0;34m)\u001b[0m\u001b[0;34m\u001b[0m\u001b[0;34m\u001b[0m\u001b[0m\n\u001b[0m\u001b[1;32m    431\u001b[0m \u001b[0;34m\u001b[0m\u001b[0m\n\u001b[1;32m    432\u001b[0m             \u001b[0;31m# create/copy the manager\u001b[0m\u001b[0;34m\u001b[0m\u001b[0;34m\u001b[0m\u001b[0;34m\u001b[0m\u001b[0m\n",
            "\u001b[0;32m/usr/local/lib/python3.7/dist-packages/pandas/core/common.py\u001b[0m in \u001b[0;36mrequire_length_match\u001b[0;34m(data, index)\u001b[0m\n\u001b[1;32m    530\u001b[0m     \u001b[0;32mif\u001b[0m \u001b[0mlen\u001b[0m\u001b[0;34m(\u001b[0m\u001b[0mdata\u001b[0m\u001b[0;34m)\u001b[0m \u001b[0;34m!=\u001b[0m \u001b[0mlen\u001b[0m\u001b[0;34m(\u001b[0m\u001b[0mindex\u001b[0m\u001b[0;34m)\u001b[0m\u001b[0;34m:\u001b[0m\u001b[0;34m\u001b[0m\u001b[0;34m\u001b[0m\u001b[0m\n\u001b[1;32m    531\u001b[0m         raise ValueError(\n\u001b[0;32m--> 532\u001b[0;31m             \u001b[0;34m\"Length of values \"\u001b[0m\u001b[0;34m\u001b[0m\u001b[0;34m\u001b[0m\u001b[0m\n\u001b[0m\u001b[1;32m    533\u001b[0m             \u001b[0;34mf\"({len(data)}) \"\u001b[0m\u001b[0;34m\u001b[0m\u001b[0;34m\u001b[0m\u001b[0m\n\u001b[1;32m    534\u001b[0m             \u001b[0;34m\"does not match length of index \"\u001b[0m\u001b[0;34m\u001b[0m\u001b[0;34m\u001b[0m\u001b[0m\n",
            "\u001b[0;31mValueError\u001b[0m: Length of values (24) does not match length of index (25)"
          ]
        },
        {
          "output_type": "display_data",
          "data": {
            "text/plain": [
              "<Figure size 2160x1440 with 3 Axes>"
            ],
            "image/png": "[encoded data removed]"
          },
          "metadata": {
            "needs_background": "light"
          }
        }
      ]
    },
    {
      "cell_type": "markdown",
      "metadata": {
        "id": "oEADKj7W1-UK"
      },
      "source": [
        "### randomForestRegressor "
      ]
    },
    {
      "cell_type": "code",
      "execution_count": null,
      "metadata": {
        "id": "7Y8-gBeW0mDJ"
      },
      "outputs": [],
      "source": [
        "params = [{'max_depth' : np.arange(1,9,2),\n",
        "           'min_samples_split' : np.arange(0.01,0.12, 0.02)}]"
      ]
    },
    {
      "cell_type": "code",
      "execution_count": null,
      "metadata": {
        "id": "gs83DiIb2vKA"
      },
      "outputs": [],
      "source": [
        "grid = GridSearchCV(estimator = rf, param_grid = params, n_jobs = -1, return_train_score=True)"
      ]
    },
    {
      "cell_type": "code",
      "execution_count": null,
      "metadata": {
        "id": "oBx3KS7F3KBP"
      },
      "outputs": [],
      "source": [
        "grid.fit(X, y)"
      ]
    },
    {
      "cell_type": "code",
      "execution_count": null,
      "metadata": {
        "id": "OJJ44cx73Pa0"
      },
      "outputs": [],
      "source": [
        "print(grid.best_params_)\n",
        "print(grid.best_score_)"
      ]
    },
    {
      "cell_type": "code",
      "execution_count": null,
      "metadata": {
        "id": "en1icUQa3ljz"
      },
      "outputs": [],
      "source": [
        "best_rf = grid.best_estimator_\n",
        "best_rf"
      ]
    },
    {
      "cell_type": "markdown",
      "metadata": {
        "id": "LiEMb8jj5H0F"
      },
      "source": [
        "### Ridge, Lasso "
      ]
    },
    {
      "cell_type": "code",
      "execution_count": null,
      "metadata": {
        "id": "peleVVhJ4co9"
      },
      "outputs": [],
      "source": [
        "params = [{'alpha' : np.arange(19,30)}]"
      ]
    },
    {
      "cell_type": "code",
      "execution_count": null,
      "metadata": {
        "id": "2zyaye585otb"
      },
      "outputs": [],
      "source": [
        "# Ridge\n",
        "grid = GridSearchCV(estimator = ridge, param_grid = params, n_jobs = -1, return_train_score=True)"
      ]
    },
    {
      "cell_type": "code",
      "execution_count": null,
      "metadata": {
        "id": "h8xJZB9U5zQH"
      },
      "outputs": [],
      "source": [
        "grid.fit(X,y)"
      ]
    },
    {
      "cell_type": "code",
      "execution_count": null,
      "metadata": {
        "id": "-vF_KUWY50pH"
      },
      "outputs": [],
      "source": [
        "print(grid.best_params_)\n",
        "print(grid.best_score_)"
      ]
    },
    {
      "cell_type": "code",
      "execution_count": null,
      "metadata": {
        "id": "nEM8R1rY58sV"
      },
      "outputs": [],
      "source": [
        "#Lasso \n",
        "params = [{'alpha' : np.arange(100,120)}]\n",
        "grid = GridSearchCV(estimator = lasso, param_grid = params, n_jobs = -1, return_train_score=True)\n",
        "grid.fit(X,y)\n",
        "print(grid.best_params_)\n",
        "print(grid.best_score_)"
      ]
    },
    {
      "cell_type": "code",
      "execution_count": null,
      "metadata": {
        "id": "t9_Bt_A46OXN"
      },
      "outputs": [],
      "source": [
        "# ElasticNet\n",
        "ela = ElasticNet(max_iter = 100000)\n",
        "params = [{'alpha' : np.arange(-3,10)}]\n",
        "grid = GridSearchCV(estimator = ela, param_grid = params, n_jobs = -1, return_train_score=True)\n",
        "grid.fit(X,y)\n",
        "print(grid.best_params_)\n",
        "print(grid.best_score_)"
      ]
    },
    {
      "cell_type": "markdown",
      "source": [
        "# 공부했던 사이트 \n",
        "\n",
        "* XGBOOST parameter\n",
        "    * https://dining-developer.tistory.com/4\n",
        "    * https://velog.io/@dbj2000/ML"
      ],
      "metadata": {
        "id": "ocMvrUHMn7xz"
      }
    }
  ],
  "metadata": {
    "colab": {
      "name": "ST2_moviesipynb",
      "provenance": [],
      "mount_file_id": "1DcJgxgItGYpejZTPYVKea_7wwd4zZC7P",
      "authorship_tag": "ABX9TyPnqD0RoWqgdiD5qHc5hFlA",
      "include_colab_link": true
    },
    "kernelspec": {
      "display_name": "Python 3",
      "name": "python3"
    },
    "language_info": {
      "name": "python"
    }
  },
  "nbformat": 4,
  "nbformat_minor": 0
}